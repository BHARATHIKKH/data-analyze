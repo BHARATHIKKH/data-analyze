{
 "cells": [
  {
   "cell_type": "markdown",
   "id": "ca5bdd54",
   "metadata": {
    "papermill": {
     "duration": 0.026593,
     "end_time": "2024-06-26T14:52:04.039502",
     "exception": false,
     "start_time": "2024-06-26T14:52:04.012909",
     "status": "completed"
    },
    "tags": []
   },
   "source": [
    "# Exploratory Data Analysis On Netflix With Python\n",
    "## Created And Done By Anubhav Kumar Gupta"
   ]
  },
  {
   "cell_type": "code",
   "execution_count": 1,
   "id": "969f842e",
   "metadata": {
    "execution": {
     "iopub.execute_input": "2024-06-26T14:52:04.092375Z",
     "iopub.status.busy": "2024-06-26T14:52:04.091920Z",
     "iopub.status.idle": "2024-06-26T14:52:05.747318Z",
     "shell.execute_reply": "2024-06-26T14:52:05.746052Z"
    },
    "papermill": {
     "duration": 1.684986,
     "end_time": "2024-06-26T14:52:05.750332",
     "exception": false,
     "start_time": "2024-06-26T14:52:04.065346",
     "status": "completed"
    },
    "tags": []
   },
   "outputs": [],
   "source": [
    "import pandas as pd\n",
    "import plotly.express as px\n",
    "import IPython.display as dsp"
   ]
  },
  {
   "cell_type": "code",
   "execution_count": 2,
   "id": "ef3c3bde",
   "metadata": {
    "execution": {
     "iopub.execute_input": "2024-06-26T14:52:05.804540Z",
     "iopub.status.busy": "2024-06-26T14:52:05.803934Z",
     "iopub.status.idle": "2024-06-26T14:52:05.813344Z",
     "shell.execute_reply": "2024-06-26T14:52:05.812011Z"
    },
    "papermill": {
     "duration": 0.038923,
     "end_time": "2024-06-26T14:52:05.816004",
     "exception": false,
     "start_time": "2024-06-26T14:52:05.777081",
     "status": "completed"
    },
    "tags": []
   },
   "outputs": [
    {
     "data": {
      "text/html": [
       "<img src=\"https://wallpaper.forfun.com/fetch/0b/0b269a9b0bc6b54f272ac66d2254c00d.jpeg\"/>"
      ],
      "text/plain": [
       "<IPython.core.display.Image object>"
      ]
     },
     "execution_count": 2,
     "metadata": {},
     "output_type": "execute_result"
    }
   ],
   "source": [
    "dsp.Image(url='https://wallpaper.forfun.com/fetch/0b/0b269a9b0bc6b54f272ac66d2254c00d.jpeg')"
   ]
  },
  {
   "cell_type": "code",
   "execution_count": 3,
   "id": "2c1532a2",
   "metadata": {
    "execution": {
     "iopub.execute_input": "2024-06-26T14:52:05.868802Z",
     "iopub.status.busy": "2024-06-26T14:52:05.868373Z",
     "iopub.status.idle": "2024-06-26T14:52:06.005908Z",
     "shell.execute_reply": "2024-06-26T14:52:06.004660Z"
    },
    "papermill": {
     "duration": 0.167441,
     "end_time": "2024-06-26T14:52:06.008843",
     "exception": false,
     "start_time": "2024-06-26T14:52:05.841402",
     "status": "completed"
    },
    "tags": []
   },
   "outputs": [],
   "source": [
    "df_netflix=pd.read_csv('/kaggle/input/netflix-shows/netflix_titles.csv')"
   ]
  },
  {
   "cell_type": "code",
   "execution_count": 4,
   "id": "11a4c243",
   "metadata": {
    "execution": {
     "iopub.execute_input": "2024-06-26T14:52:06.061874Z",
     "iopub.status.busy": "2024-06-26T14:52:06.061455Z",
     "iopub.status.idle": "2024-06-26T14:52:06.088377Z",
     "shell.execute_reply": "2024-06-26T14:52:06.087276Z"
    },
    "papermill": {
     "duration": 0.056217,
     "end_time": "2024-06-26T14:52:06.091080",
     "exception": false,
     "start_time": "2024-06-26T14:52:06.034863",
     "status": "completed"
    },
    "tags": []
   },
   "outputs": [
    {
     "data": {
      "text/html": [
       "<div>\n",
       "<style scoped>\n",
       "    .dataframe tbody tr th:only-of-type {\n",
       "        vertical-align: middle;\n",
       "    }\n",
       "\n",
       "    .dataframe tbody tr th {\n",
       "        vertical-align: top;\n",
       "    }\n",
       "\n",
       "    .dataframe thead th {\n",
       "        text-align: right;\n",
       "    }\n",
       "</style>\n",
       "<table border=\"1\" class=\"dataframe\">\n",
       "  <thead>\n",
       "    <tr style=\"text-align: right;\">\n",
       "      <th></th>\n",
       "      <th>show_id</th>\n",
       "      <th>type</th>\n",
       "      <th>title</th>\n",
       "      <th>director</th>\n",
       "      <th>cast</th>\n",
       "      <th>country</th>\n",
       "      <th>date_added</th>\n",
       "      <th>release_year</th>\n",
       "      <th>rating</th>\n",
       "      <th>duration</th>\n",
       "      <th>listed_in</th>\n",
       "      <th>description</th>\n",
       "    </tr>\n",
       "  </thead>\n",
       "  <tbody>\n",
       "    <tr>\n",
       "      <th>0</th>\n",
       "      <td>s1</td>\n",
       "      <td>Movie</td>\n",
       "      <td>Dick Johnson Is Dead</td>\n",
       "      <td>Kirsten Johnson</td>\n",
       "      <td>NaN</td>\n",
       "      <td>United States</td>\n",
       "      <td>September 25, 2021</td>\n",
       "      <td>2020</td>\n",
       "      <td>PG-13</td>\n",
       "      <td>90 min</td>\n",
       "      <td>Documentaries</td>\n",
       "      <td>As her father nears the end of his life, filmm...</td>\n",
       "    </tr>\n",
       "    <tr>\n",
       "      <th>1</th>\n",
       "      <td>s2</td>\n",
       "      <td>TV Show</td>\n",
       "      <td>Blood &amp; Water</td>\n",
       "      <td>NaN</td>\n",
       "      <td>Ama Qamata, Khosi Ngema, Gail Mabalane, Thaban...</td>\n",
       "      <td>South Africa</td>\n",
       "      <td>September 24, 2021</td>\n",
       "      <td>2021</td>\n",
       "      <td>TV-MA</td>\n",
       "      <td>2 Seasons</td>\n",
       "      <td>International TV Shows, TV Dramas, TV Mysteries</td>\n",
       "      <td>After crossing paths at a party, a Cape Town t...</td>\n",
       "    </tr>\n",
       "    <tr>\n",
       "      <th>2</th>\n",
       "      <td>s3</td>\n",
       "      <td>TV Show</td>\n",
       "      <td>Ganglands</td>\n",
       "      <td>Julien Leclercq</td>\n",
       "      <td>Sami Bouajila, Tracy Gotoas, Samuel Jouy, Nabi...</td>\n",
       "      <td>NaN</td>\n",
       "      <td>September 24, 2021</td>\n",
       "      <td>2021</td>\n",
       "      <td>TV-MA</td>\n",
       "      <td>1 Season</td>\n",
       "      <td>Crime TV Shows, International TV Shows, TV Act...</td>\n",
       "      <td>To protect his family from a powerful drug lor...</td>\n",
       "    </tr>\n",
       "    <tr>\n",
       "      <th>3</th>\n",
       "      <td>s4</td>\n",
       "      <td>TV Show</td>\n",
       "      <td>Jailbirds New Orleans</td>\n",
       "      <td>NaN</td>\n",
       "      <td>NaN</td>\n",
       "      <td>NaN</td>\n",
       "      <td>September 24, 2021</td>\n",
       "      <td>2021</td>\n",
       "      <td>TV-MA</td>\n",
       "      <td>1 Season</td>\n",
       "      <td>Docuseries, Reality TV</td>\n",
       "      <td>Feuds, flirtations and toilet talk go down amo...</td>\n",
       "    </tr>\n",
       "    <tr>\n",
       "      <th>4</th>\n",
       "      <td>s5</td>\n",
       "      <td>TV Show</td>\n",
       "      <td>Kota Factory</td>\n",
       "      <td>NaN</td>\n",
       "      <td>Mayur More, Jitendra Kumar, Ranjan Raj, Alam K...</td>\n",
       "      <td>India</td>\n",
       "      <td>September 24, 2021</td>\n",
       "      <td>2021</td>\n",
       "      <td>TV-MA</td>\n",
       "      <td>2 Seasons</td>\n",
       "      <td>International TV Shows, Romantic TV Shows, TV ...</td>\n",
       "      <td>In a city of coaching centers known to train I...</td>\n",
       "    </tr>\n",
       "  </tbody>\n",
       "</table>\n",
       "</div>"
      ],
      "text/plain": [
       "  show_id     type                  title         director  \\\n",
       "0      s1    Movie   Dick Johnson Is Dead  Kirsten Johnson   \n",
       "1      s2  TV Show          Blood & Water              NaN   \n",
       "2      s3  TV Show              Ganglands  Julien Leclercq   \n",
       "3      s4  TV Show  Jailbirds New Orleans              NaN   \n",
       "4      s5  TV Show           Kota Factory              NaN   \n",
       "\n",
       "                                                cast        country  \\\n",
       "0                                                NaN  United States   \n",
       "1  Ama Qamata, Khosi Ngema, Gail Mabalane, Thaban...   South Africa   \n",
       "2  Sami Bouajila, Tracy Gotoas, Samuel Jouy, Nabi...            NaN   \n",
       "3                                                NaN            NaN   \n",
       "4  Mayur More, Jitendra Kumar, Ranjan Raj, Alam K...          India   \n",
       "\n",
       "           date_added  release_year rating   duration  \\\n",
       "0  September 25, 2021          2020  PG-13     90 min   \n",
       "1  September 24, 2021          2021  TV-MA  2 Seasons   \n",
       "2  September 24, 2021          2021  TV-MA   1 Season   \n",
       "3  September 24, 2021          2021  TV-MA   1 Season   \n",
       "4  September 24, 2021          2021  TV-MA  2 Seasons   \n",
       "\n",
       "                                           listed_in  \\\n",
       "0                                      Documentaries   \n",
       "1    International TV Shows, TV Dramas, TV Mysteries   \n",
       "2  Crime TV Shows, International TV Shows, TV Act...   \n",
       "3                             Docuseries, Reality TV   \n",
       "4  International TV Shows, Romantic TV Shows, TV ...   \n",
       "\n",
       "                                         description  \n",
       "0  As her father nears the end of his life, filmm...  \n",
       "1  After crossing paths at a party, a Cape Town t...  \n",
       "2  To protect his family from a powerful drug lor...  \n",
       "3  Feuds, flirtations and toilet talk go down amo...  \n",
       "4  In a city of coaching centers known to train I...  "
      ]
     },
     "execution_count": 4,
     "metadata": {},
     "output_type": "execute_result"
    }
   ],
   "source": [
    "df_netflix.head()"
   ]
  },
  {
   "cell_type": "code",
   "execution_count": 5,
   "id": "d77c2ec0",
   "metadata": {
    "execution": {
     "iopub.execute_input": "2024-06-26T14:52:06.144482Z",
     "iopub.status.busy": "2024-06-26T14:52:06.143556Z",
     "iopub.status.idle": "2024-06-26T14:52:06.151238Z",
     "shell.execute_reply": "2024-06-26T14:52:06.150136Z"
    },
    "papermill": {
     "duration": 0.036957,
     "end_time": "2024-06-26T14:52:06.153659",
     "exception": false,
     "start_time": "2024-06-26T14:52:06.116702",
     "status": "completed"
    },
    "tags": []
   },
   "outputs": [
    {
     "data": {
      "text/plain": [
       "(8807, 12)"
      ]
     },
     "execution_count": 5,
     "metadata": {},
     "output_type": "execute_result"
    }
   ],
   "source": [
    "df_netflix.shape"
   ]
  },
  {
   "cell_type": "code",
   "execution_count": 6,
   "id": "5748f511",
   "metadata": {
    "execution": {
     "iopub.execute_input": "2024-06-26T14:52:06.207741Z",
     "iopub.status.busy": "2024-06-26T14:52:06.206684Z",
     "iopub.status.idle": "2024-06-26T14:52:06.215765Z",
     "shell.execute_reply": "2024-06-26T14:52:06.214455Z"
    },
    "papermill": {
     "duration": 0.038774,
     "end_time": "2024-06-26T14:52:06.218328",
     "exception": false,
     "start_time": "2024-06-26T14:52:06.179554",
     "status": "completed"
    },
    "tags": []
   },
   "outputs": [
    {
     "data": {
      "text/plain": [
       "105684"
      ]
     },
     "execution_count": 6,
     "metadata": {},
     "output_type": "execute_result"
    }
   ],
   "source": [
    "df_netflix.size"
   ]
  },
  {
   "cell_type": "code",
   "execution_count": 7,
   "id": "82098312",
   "metadata": {
    "execution": {
     "iopub.execute_input": "2024-06-26T14:52:06.271873Z",
     "iopub.status.busy": "2024-06-26T14:52:06.271433Z",
     "iopub.status.idle": "2024-06-26T14:52:06.278837Z",
     "shell.execute_reply": "2024-06-26T14:52:06.277695Z"
    },
    "papermill": {
     "duration": 0.03712,
     "end_time": "2024-06-26T14:52:06.281355",
     "exception": false,
     "start_time": "2024-06-26T14:52:06.244235",
     "status": "completed"
    },
    "tags": []
   },
   "outputs": [
    {
     "data": {
      "text/plain": [
       "Index(['show_id', 'type', 'title', 'director', 'cast', 'country', 'date_added',\n",
       "       'release_year', 'rating', 'duration', 'listed_in', 'description'],\n",
       "      dtype='object')"
      ]
     },
     "execution_count": 7,
     "metadata": {},
     "output_type": "execute_result"
    }
   ],
   "source": [
    "df_netflix.columns"
   ]
  },
  {
   "cell_type": "code",
   "execution_count": 8,
   "id": "58dee3cc",
   "metadata": {
    "execution": {
     "iopub.execute_input": "2024-06-26T14:52:06.336747Z",
     "iopub.status.busy": "2024-06-26T14:52:06.336316Z",
     "iopub.status.idle": "2024-06-26T14:52:06.373551Z",
     "shell.execute_reply": "2024-06-26T14:52:06.372193Z"
    },
    "papermill": {
     "duration": 0.069347,
     "end_time": "2024-06-26T14:52:06.376582",
     "exception": false,
     "start_time": "2024-06-26T14:52:06.307235",
     "status": "completed"
    },
    "tags": []
   },
   "outputs": [
    {
     "name": "stdout",
     "output_type": "stream",
     "text": [
      "<class 'pandas.core.frame.DataFrame'>\n",
      "RangeIndex: 8807 entries, 0 to 8806\n",
      "Data columns (total 12 columns):\n",
      " #   Column        Non-Null Count  Dtype \n",
      "---  ------        --------------  ----- \n",
      " 0   show_id       8807 non-null   object\n",
      " 1   type          8807 non-null   object\n",
      " 2   title         8807 non-null   object\n",
      " 3   director      6173 non-null   object\n",
      " 4   cast          7982 non-null   object\n",
      " 5   country       7976 non-null   object\n",
      " 6   date_added    8797 non-null   object\n",
      " 7   release_year  8807 non-null   int64 \n",
      " 8   rating        8803 non-null   object\n",
      " 9   duration      8804 non-null   object\n",
      " 10  listed_in     8807 non-null   object\n",
      " 11  description   8807 non-null   object\n",
      "dtypes: int64(1), object(11)\n",
      "memory usage: 825.8+ KB\n"
     ]
    }
   ],
   "source": [
    "df_netflix.info()"
   ]
  },
  {
   "cell_type": "code",
   "execution_count": 9,
   "id": "71c0a6b2",
   "metadata": {
    "execution": {
     "iopub.execute_input": "2024-06-26T14:52:06.432210Z",
     "iopub.status.busy": "2024-06-26T14:52:06.431803Z",
     "iopub.status.idle": "2024-06-26T14:52:06.441320Z",
     "shell.execute_reply": "2024-06-26T14:52:06.440238Z"
    },
    "papermill": {
     "duration": 0.040071,
     "end_time": "2024-06-26T14:52:06.443944",
     "exception": false,
     "start_time": "2024-06-26T14:52:06.403873",
     "status": "completed"
    },
    "tags": []
   },
   "outputs": [
    {
     "data": {
      "text/plain": [
       "Index             128\n",
       "show_id         70456\n",
       "type            70456\n",
       "title           70456\n",
       "director        70456\n",
       "cast            70456\n",
       "country         70456\n",
       "date_added      70456\n",
       "release_year    70456\n",
       "rating          70456\n",
       "duration        70456\n",
       "listed_in       70456\n",
       "description     70456\n",
       "dtype: int64"
      ]
     },
     "execution_count": 9,
     "metadata": {},
     "output_type": "execute_result"
    }
   ],
   "source": [
    "df_netflix.memory_usage()"
   ]
  },
  {
   "cell_type": "code",
   "execution_count": 10,
   "id": "9f45d329",
   "metadata": {
    "execution": {
     "iopub.execute_input": "2024-06-26T14:52:06.499403Z",
     "iopub.status.busy": "2024-06-26T14:52:06.498935Z",
     "iopub.status.idle": "2024-06-26T14:52:06.532031Z",
     "shell.execute_reply": "2024-06-26T14:52:06.530639Z"
    },
    "papermill": {
     "duration": 0.063548,
     "end_time": "2024-06-26T14:52:06.534531",
     "exception": false,
     "start_time": "2024-06-26T14:52:06.470983",
     "status": "completed"
    },
    "tags": []
   },
   "outputs": [
    {
     "data": {
      "text/plain": [
       "0"
      ]
     },
     "execution_count": 10,
     "metadata": {},
     "output_type": "execute_result"
    }
   ],
   "source": [
    "df_netflix.duplicated().sum()"
   ]
  },
  {
   "cell_type": "markdown",
   "id": "a3ef4887",
   "metadata": {
    "papermill": {
     "duration": 0.026611,
     "end_time": "2024-06-26T14:52:06.651355",
     "exception": false,
     "start_time": "2024-06-26T14:52:06.624744",
     "status": "completed"
    },
    "tags": []
   },
   "source": [
    "### Creating Year Added And Release Month Features "
   ]
  },
  {
   "cell_type": "code",
   "execution_count": 11,
   "id": "5e580a51",
   "metadata": {
    "execution": {
     "iopub.execute_input": "2024-06-26T14:52:06.707176Z",
     "iopub.status.busy": "2024-06-26T14:52:06.706742Z",
     "iopub.status.idle": "2024-06-26T14:52:06.730854Z",
     "shell.execute_reply": "2024-06-26T14:52:06.729772Z"
    },
    "papermill": {
     "duration": 0.05496,
     "end_time": "2024-06-26T14:52:06.733358",
     "exception": false,
     "start_time": "2024-06-26T14:52:06.678398",
     "status": "completed"
    },
    "tags": []
   },
   "outputs": [],
   "source": [
    "df_netflix['release_month']=df_netflix['date_added'].str.split(' ').str[0]"
   ]
  },
  {
   "cell_type": "code",
   "execution_count": 12,
   "id": "12199312",
   "metadata": {
    "execution": {
     "iopub.execute_input": "2024-06-26T14:52:06.788367Z",
     "iopub.status.busy": "2024-06-26T14:52:06.787981Z",
     "iopub.status.idle": "2024-06-26T14:52:06.810251Z",
     "shell.execute_reply": "2024-06-26T14:52:06.809005Z"
    },
    "papermill": {
     "duration": 0.052857,
     "end_time": "2024-06-26T14:52:06.812830",
     "exception": false,
     "start_time": "2024-06-26T14:52:06.759973",
     "status": "completed"
    },
    "tags": []
   },
   "outputs": [],
   "source": [
    "df_netflix['year_added']=df_netflix['date_added'].str.split(', ').str[1]"
   ]
  },
  {
   "cell_type": "code",
   "execution_count": 13,
   "id": "57014c58",
   "metadata": {
    "execution": {
     "iopub.execute_input": "2024-06-26T14:52:06.867770Z",
     "iopub.status.busy": "2024-06-26T14:52:06.867319Z",
     "iopub.status.idle": "2024-06-26T14:52:06.886821Z",
     "shell.execute_reply": "2024-06-26T14:52:06.885707Z"
    },
    "papermill": {
     "duration": 0.049709,
     "end_time": "2024-06-26T14:52:06.889300",
     "exception": false,
     "start_time": "2024-06-26T14:52:06.839591",
     "status": "completed"
    },
    "tags": []
   },
   "outputs": [
    {
     "data": {
      "text/html": [
       "<div>\n",
       "<style scoped>\n",
       "    .dataframe tbody tr th:only-of-type {\n",
       "        vertical-align: middle;\n",
       "    }\n",
       "\n",
       "    .dataframe tbody tr th {\n",
       "        vertical-align: top;\n",
       "    }\n",
       "\n",
       "    .dataframe thead th {\n",
       "        text-align: right;\n",
       "    }\n",
       "</style>\n",
       "<table border=\"1\" class=\"dataframe\">\n",
       "  <thead>\n",
       "    <tr style=\"text-align: right;\">\n",
       "      <th></th>\n",
       "      <th>show_id</th>\n",
       "      <th>type</th>\n",
       "      <th>title</th>\n",
       "      <th>director</th>\n",
       "      <th>cast</th>\n",
       "      <th>country</th>\n",
       "      <th>date_added</th>\n",
       "      <th>release_year</th>\n",
       "      <th>rating</th>\n",
       "      <th>duration</th>\n",
       "      <th>listed_in</th>\n",
       "      <th>description</th>\n",
       "      <th>release_month</th>\n",
       "      <th>year_added</th>\n",
       "    </tr>\n",
       "  </thead>\n",
       "  <tbody>\n",
       "    <tr>\n",
       "      <th>0</th>\n",
       "      <td>s1</td>\n",
       "      <td>Movie</td>\n",
       "      <td>Dick Johnson Is Dead</td>\n",
       "      <td>Kirsten Johnson</td>\n",
       "      <td>NaN</td>\n",
       "      <td>United States</td>\n",
       "      <td>September 25, 2021</td>\n",
       "      <td>2020</td>\n",
       "      <td>PG-13</td>\n",
       "      <td>90 min</td>\n",
       "      <td>Documentaries</td>\n",
       "      <td>As her father nears the end of his life, filmm...</td>\n",
       "      <td>September</td>\n",
       "      <td>2021</td>\n",
       "    </tr>\n",
       "    <tr>\n",
       "      <th>1</th>\n",
       "      <td>s2</td>\n",
       "      <td>TV Show</td>\n",
       "      <td>Blood &amp; Water</td>\n",
       "      <td>NaN</td>\n",
       "      <td>Ama Qamata, Khosi Ngema, Gail Mabalane, Thaban...</td>\n",
       "      <td>South Africa</td>\n",
       "      <td>September 24, 2021</td>\n",
       "      <td>2021</td>\n",
       "      <td>TV-MA</td>\n",
       "      <td>2 Seasons</td>\n",
       "      <td>International TV Shows, TV Dramas, TV Mysteries</td>\n",
       "      <td>After crossing paths at a party, a Cape Town t...</td>\n",
       "      <td>September</td>\n",
       "      <td>2021</td>\n",
       "    </tr>\n",
       "    <tr>\n",
       "      <th>2</th>\n",
       "      <td>s3</td>\n",
       "      <td>TV Show</td>\n",
       "      <td>Ganglands</td>\n",
       "      <td>Julien Leclercq</td>\n",
       "      <td>Sami Bouajila, Tracy Gotoas, Samuel Jouy, Nabi...</td>\n",
       "      <td>NaN</td>\n",
       "      <td>September 24, 2021</td>\n",
       "      <td>2021</td>\n",
       "      <td>TV-MA</td>\n",
       "      <td>1 Season</td>\n",
       "      <td>Crime TV Shows, International TV Shows, TV Act...</td>\n",
       "      <td>To protect his family from a powerful drug lor...</td>\n",
       "      <td>September</td>\n",
       "      <td>2021</td>\n",
       "    </tr>\n",
       "    <tr>\n",
       "      <th>3</th>\n",
       "      <td>s4</td>\n",
       "      <td>TV Show</td>\n",
       "      <td>Jailbirds New Orleans</td>\n",
       "      <td>NaN</td>\n",
       "      <td>NaN</td>\n",
       "      <td>NaN</td>\n",
       "      <td>September 24, 2021</td>\n",
       "      <td>2021</td>\n",
       "      <td>TV-MA</td>\n",
       "      <td>1 Season</td>\n",
       "      <td>Docuseries, Reality TV</td>\n",
       "      <td>Feuds, flirtations and toilet talk go down amo...</td>\n",
       "      <td>September</td>\n",
       "      <td>2021</td>\n",
       "    </tr>\n",
       "    <tr>\n",
       "      <th>4</th>\n",
       "      <td>s5</td>\n",
       "      <td>TV Show</td>\n",
       "      <td>Kota Factory</td>\n",
       "      <td>NaN</td>\n",
       "      <td>Mayur More, Jitendra Kumar, Ranjan Raj, Alam K...</td>\n",
       "      <td>India</td>\n",
       "      <td>September 24, 2021</td>\n",
       "      <td>2021</td>\n",
       "      <td>TV-MA</td>\n",
       "      <td>2 Seasons</td>\n",
       "      <td>International TV Shows, Romantic TV Shows, TV ...</td>\n",
       "      <td>In a city of coaching centers known to train I...</td>\n",
       "      <td>September</td>\n",
       "      <td>2021</td>\n",
       "    </tr>\n",
       "  </tbody>\n",
       "</table>\n",
       "</div>"
      ],
      "text/plain": [
       "  show_id     type                  title         director  \\\n",
       "0      s1    Movie   Dick Johnson Is Dead  Kirsten Johnson   \n",
       "1      s2  TV Show          Blood & Water              NaN   \n",
       "2      s3  TV Show              Ganglands  Julien Leclercq   \n",
       "3      s4  TV Show  Jailbirds New Orleans              NaN   \n",
       "4      s5  TV Show           Kota Factory              NaN   \n",
       "\n",
       "                                                cast        country  \\\n",
       "0                                                NaN  United States   \n",
       "1  Ama Qamata, Khosi Ngema, Gail Mabalane, Thaban...   South Africa   \n",
       "2  Sami Bouajila, Tracy Gotoas, Samuel Jouy, Nabi...            NaN   \n",
       "3                                                NaN            NaN   \n",
       "4  Mayur More, Jitendra Kumar, Ranjan Raj, Alam K...          India   \n",
       "\n",
       "           date_added  release_year rating   duration  \\\n",
       "0  September 25, 2021          2020  PG-13     90 min   \n",
       "1  September 24, 2021          2021  TV-MA  2 Seasons   \n",
       "2  September 24, 2021          2021  TV-MA   1 Season   \n",
       "3  September 24, 2021          2021  TV-MA   1 Season   \n",
       "4  September 24, 2021          2021  TV-MA  2 Seasons   \n",
       "\n",
       "                                           listed_in  \\\n",
       "0                                      Documentaries   \n",
       "1    International TV Shows, TV Dramas, TV Mysteries   \n",
       "2  Crime TV Shows, International TV Shows, TV Act...   \n",
       "3                             Docuseries, Reality TV   \n",
       "4  International TV Shows, Romantic TV Shows, TV ...   \n",
       "\n",
       "                                         description release_month year_added  \n",
       "0  As her father nears the end of his life, filmm...     September       2021  \n",
       "1  After crossing paths at a party, a Cape Town t...     September       2021  \n",
       "2  To protect his family from a powerful drug lor...     September       2021  \n",
       "3  Feuds, flirtations and toilet talk go down amo...     September       2021  \n",
       "4  In a city of coaching centers known to train I...     September       2021  "
      ]
     },
     "execution_count": 13,
     "metadata": {},
     "output_type": "execute_result"
    }
   ],
   "source": [
    "df_netflix.head()"
   ]
  },
  {
   "cell_type": "code",
   "execution_count": 14,
   "id": "89f7497a",
   "metadata": {
    "execution": {
     "iopub.execute_input": "2024-06-26T14:52:06.945413Z",
     "iopub.status.busy": "2024-06-26T14:52:06.944351Z",
     "iopub.status.idle": "2024-06-26T14:52:06.955877Z",
     "shell.execute_reply": "2024-06-26T14:52:06.954472Z"
    },
    "papermill": {
     "duration": 0.042521,
     "end_time": "2024-06-26T14:52:06.958647",
     "exception": false,
     "start_time": "2024-06-26T14:52:06.916126",
     "status": "completed"
    },
    "tags": []
   },
   "outputs": [],
   "source": [
    "df_netflix.drop(columns=['date_added'],axis=1,inplace=True)"
   ]
  },
  {
   "cell_type": "code",
   "execution_count": 15,
   "id": "34c7e100",
   "metadata": {
    "execution": {
     "iopub.execute_input": "2024-06-26T14:52:07.014185Z",
     "iopub.status.busy": "2024-06-26T14:52:07.013786Z",
     "iopub.status.idle": "2024-06-26T14:52:07.033055Z",
     "shell.execute_reply": "2024-06-26T14:52:07.031795Z"
    },
    "papermill": {
     "duration": 0.050581,
     "end_time": "2024-06-26T14:52:07.035997",
     "exception": false,
     "start_time": "2024-06-26T14:52:06.985416",
     "status": "completed"
    },
    "tags": []
   },
   "outputs": [
    {
     "data": {
      "text/html": [
       "<div>\n",
       "<style scoped>\n",
       "    .dataframe tbody tr th:only-of-type {\n",
       "        vertical-align: middle;\n",
       "    }\n",
       "\n",
       "    .dataframe tbody tr th {\n",
       "        vertical-align: top;\n",
       "    }\n",
       "\n",
       "    .dataframe thead th {\n",
       "        text-align: right;\n",
       "    }\n",
       "</style>\n",
       "<table border=\"1\" class=\"dataframe\">\n",
       "  <thead>\n",
       "    <tr style=\"text-align: right;\">\n",
       "      <th></th>\n",
       "      <th>show_id</th>\n",
       "      <th>type</th>\n",
       "      <th>title</th>\n",
       "      <th>director</th>\n",
       "      <th>cast</th>\n",
       "      <th>country</th>\n",
       "      <th>release_year</th>\n",
       "      <th>rating</th>\n",
       "      <th>duration</th>\n",
       "      <th>listed_in</th>\n",
       "      <th>description</th>\n",
       "      <th>release_month</th>\n",
       "      <th>year_added</th>\n",
       "    </tr>\n",
       "  </thead>\n",
       "  <tbody>\n",
       "    <tr>\n",
       "      <th>0</th>\n",
       "      <td>s1</td>\n",
       "      <td>Movie</td>\n",
       "      <td>Dick Johnson Is Dead</td>\n",
       "      <td>Kirsten Johnson</td>\n",
       "      <td>NaN</td>\n",
       "      <td>United States</td>\n",
       "      <td>2020</td>\n",
       "      <td>PG-13</td>\n",
       "      <td>90 min</td>\n",
       "      <td>Documentaries</td>\n",
       "      <td>As her father nears the end of his life, filmm...</td>\n",
       "      <td>September</td>\n",
       "      <td>2021</td>\n",
       "    </tr>\n",
       "    <tr>\n",
       "      <th>1</th>\n",
       "      <td>s2</td>\n",
       "      <td>TV Show</td>\n",
       "      <td>Blood &amp; Water</td>\n",
       "      <td>NaN</td>\n",
       "      <td>Ama Qamata, Khosi Ngema, Gail Mabalane, Thaban...</td>\n",
       "      <td>South Africa</td>\n",
       "      <td>2021</td>\n",
       "      <td>TV-MA</td>\n",
       "      <td>2 Seasons</td>\n",
       "      <td>International TV Shows, TV Dramas, TV Mysteries</td>\n",
       "      <td>After crossing paths at a party, a Cape Town t...</td>\n",
       "      <td>September</td>\n",
       "      <td>2021</td>\n",
       "    </tr>\n",
       "    <tr>\n",
       "      <th>2</th>\n",
       "      <td>s3</td>\n",
       "      <td>TV Show</td>\n",
       "      <td>Ganglands</td>\n",
       "      <td>Julien Leclercq</td>\n",
       "      <td>Sami Bouajila, Tracy Gotoas, Samuel Jouy, Nabi...</td>\n",
       "      <td>NaN</td>\n",
       "      <td>2021</td>\n",
       "      <td>TV-MA</td>\n",
       "      <td>1 Season</td>\n",
       "      <td>Crime TV Shows, International TV Shows, TV Act...</td>\n",
       "      <td>To protect his family from a powerful drug lor...</td>\n",
       "      <td>September</td>\n",
       "      <td>2021</td>\n",
       "    </tr>\n",
       "    <tr>\n",
       "      <th>3</th>\n",
       "      <td>s4</td>\n",
       "      <td>TV Show</td>\n",
       "      <td>Jailbirds New Orleans</td>\n",
       "      <td>NaN</td>\n",
       "      <td>NaN</td>\n",
       "      <td>NaN</td>\n",
       "      <td>2021</td>\n",
       "      <td>TV-MA</td>\n",
       "      <td>1 Season</td>\n",
       "      <td>Docuseries, Reality TV</td>\n",
       "      <td>Feuds, flirtations and toilet talk go down amo...</td>\n",
       "      <td>September</td>\n",
       "      <td>2021</td>\n",
       "    </tr>\n",
       "    <tr>\n",
       "      <th>4</th>\n",
       "      <td>s5</td>\n",
       "      <td>TV Show</td>\n",
       "      <td>Kota Factory</td>\n",
       "      <td>NaN</td>\n",
       "      <td>Mayur More, Jitendra Kumar, Ranjan Raj, Alam K...</td>\n",
       "      <td>India</td>\n",
       "      <td>2021</td>\n",
       "      <td>TV-MA</td>\n",
       "      <td>2 Seasons</td>\n",
       "      <td>International TV Shows, Romantic TV Shows, TV ...</td>\n",
       "      <td>In a city of coaching centers known to train I...</td>\n",
       "      <td>September</td>\n",
       "      <td>2021</td>\n",
       "    </tr>\n",
       "  </tbody>\n",
       "</table>\n",
       "</div>"
      ],
      "text/plain": [
       "  show_id     type                  title         director  \\\n",
       "0      s1    Movie   Dick Johnson Is Dead  Kirsten Johnson   \n",
       "1      s2  TV Show          Blood & Water              NaN   \n",
       "2      s3  TV Show              Ganglands  Julien Leclercq   \n",
       "3      s4  TV Show  Jailbirds New Orleans              NaN   \n",
       "4      s5  TV Show           Kota Factory              NaN   \n",
       "\n",
       "                                                cast        country  \\\n",
       "0                                                NaN  United States   \n",
       "1  Ama Qamata, Khosi Ngema, Gail Mabalane, Thaban...   South Africa   \n",
       "2  Sami Bouajila, Tracy Gotoas, Samuel Jouy, Nabi...            NaN   \n",
       "3                                                NaN            NaN   \n",
       "4  Mayur More, Jitendra Kumar, Ranjan Raj, Alam K...          India   \n",
       "\n",
       "   release_year rating   duration  \\\n",
       "0          2020  PG-13     90 min   \n",
       "1          2021  TV-MA  2 Seasons   \n",
       "2          2021  TV-MA   1 Season   \n",
       "3          2021  TV-MA   1 Season   \n",
       "4          2021  TV-MA  2 Seasons   \n",
       "\n",
       "                                           listed_in  \\\n",
       "0                                      Documentaries   \n",
       "1    International TV Shows, TV Dramas, TV Mysteries   \n",
       "2  Crime TV Shows, International TV Shows, TV Act...   \n",
       "3                             Docuseries, Reality TV   \n",
       "4  International TV Shows, Romantic TV Shows, TV ...   \n",
       "\n",
       "                                         description release_month year_added  \n",
       "0  As her father nears the end of his life, filmm...     September       2021  \n",
       "1  After crossing paths at a party, a Cape Town t...     September       2021  \n",
       "2  To protect his family from a powerful drug lor...     September       2021  \n",
       "3  Feuds, flirtations and toilet talk go down amo...     September       2021  \n",
       "4  In a city of coaching centers known to train I...     September       2021  "
      ]
     },
     "execution_count": 15,
     "metadata": {},
     "output_type": "execute_result"
    }
   ],
   "source": [
    "df_netflix.head()"
   ]
  },
  {
   "cell_type": "markdown",
   "id": "61622182",
   "metadata": {
    "papermill": {
     "duration": 0.027771,
     "end_time": "2024-06-26T14:52:07.092219",
     "exception": false,
     "start_time": "2024-06-26T14:52:07.064448",
     "status": "completed"
    },
    "tags": []
   },
   "source": [
    "### Checking Unique Values Of Duration Feature"
   ]
  },
  {
   "cell_type": "code",
   "execution_count": 16,
   "id": "5a62e008",
   "metadata": {
    "execution": {
     "iopub.execute_input": "2024-06-26T14:52:07.149977Z",
     "iopub.status.busy": "2024-06-26T14:52:07.148918Z",
     "iopub.status.idle": "2024-06-26T14:52:07.159282Z",
     "shell.execute_reply": "2024-06-26T14:52:07.158182Z"
    },
    "papermill": {
     "duration": 0.041448,
     "end_time": "2024-06-26T14:52:07.161864",
     "exception": false,
     "start_time": "2024-06-26T14:52:07.120416",
     "status": "completed"
    },
    "tags": []
   },
   "outputs": [
    {
     "data": {
      "text/plain": [
       "array(['90 min', '2 Seasons', '1 Season', '91 min', '125 min',\n",
       "       '9 Seasons', '104 min', '127 min', '4 Seasons', '67 min', '94 min',\n",
       "       '5 Seasons', '161 min', '61 min', '166 min', '147 min', '103 min',\n",
       "       '97 min', '106 min', '111 min', '3 Seasons', '110 min', '105 min',\n",
       "       '96 min', '124 min', '116 min', '98 min', '23 min', '115 min',\n",
       "       '122 min', '99 min', '88 min', '100 min', '6 Seasons', '102 min',\n",
       "       '93 min', '95 min', '85 min', '83 min', '113 min', '13 min',\n",
       "       '182 min', '48 min', '145 min', '87 min', '92 min', '80 min',\n",
       "       '117 min', '128 min', '119 min', '143 min', '114 min', '118 min',\n",
       "       '108 min', '63 min', '121 min', '142 min', '154 min', '120 min',\n",
       "       '82 min', '109 min', '101 min', '86 min', '229 min', '76 min',\n",
       "       '89 min', '156 min', '112 min', '107 min', '129 min', '135 min',\n",
       "       '136 min', '165 min', '150 min', '133 min', '70 min', '84 min',\n",
       "       '140 min', '78 min', '7 Seasons', '64 min', '59 min', '139 min',\n",
       "       '69 min', '148 min', '189 min', '141 min', '130 min', '138 min',\n",
       "       '81 min', '132 min', '10 Seasons', '123 min', '65 min', '68 min',\n",
       "       '66 min', '62 min', '74 min', '131 min', '39 min', '46 min',\n",
       "       '38 min', '8 Seasons', '17 Seasons', '126 min', '155 min',\n",
       "       '159 min', '137 min', '12 min', '273 min', '36 min', '34 min',\n",
       "       '77 min', '60 min', '49 min', '58 min', '72 min', '204 min',\n",
       "       '212 min', '25 min', '73 min', '29 min', '47 min', '32 min',\n",
       "       '35 min', '71 min', '149 min', '33 min', '15 min', '54 min',\n",
       "       '224 min', '162 min', '37 min', '75 min', '79 min', '55 min',\n",
       "       '158 min', '164 min', '173 min', '181 min', '185 min', '21 min',\n",
       "       '24 min', '51 min', '151 min', '42 min', '22 min', '134 min',\n",
       "       '177 min', '13 Seasons', '52 min', '14 min', '53 min', '8 min',\n",
       "       '57 min', '28 min', '50 min', '9 min', '26 min', '45 min',\n",
       "       '171 min', '27 min', '44 min', '146 min', '20 min', '157 min',\n",
       "       '17 min', '203 min', '41 min', '30 min', '194 min', '15 Seasons',\n",
       "       '233 min', '237 min', '230 min', '195 min', '253 min', '152 min',\n",
       "       '190 min', '160 min', '208 min', '180 min', '144 min', '5 min',\n",
       "       '174 min', '170 min', '192 min', '209 min', '187 min', '172 min',\n",
       "       '16 min', '186 min', '11 min', '193 min', '176 min', '56 min',\n",
       "       '169 min', '40 min', '10 min', '3 min', '168 min', '312 min',\n",
       "       '153 min', '214 min', '31 min', '163 min', '19 min', '12 Seasons',\n",
       "       nan, '179 min', '11 Seasons', '43 min', '200 min', '196 min',\n",
       "       '167 min', '178 min', '228 min', '18 min', '205 min', '201 min',\n",
       "       '191 min'], dtype=object)"
      ]
     },
     "execution_count": 16,
     "metadata": {},
     "output_type": "execute_result"
    }
   ],
   "source": [
    "df_netflix['duration'].unique()"
   ]
  },
  {
   "cell_type": "markdown",
   "id": "7e8e5890",
   "metadata": {
    "papermill": {
     "duration": 0.027132,
     "end_time": "2024-06-26T14:52:07.216834",
     "exception": false,
     "start_time": "2024-06-26T14:52:07.189702",
     "status": "completed"
    },
    "tags": []
   },
   "source": [
    "### Replace Seasons To Season Of Duration Feature"
   ]
  },
  {
   "cell_type": "code",
   "execution_count": 17,
   "id": "dcd5870e",
   "metadata": {
    "execution": {
     "iopub.execute_input": "2024-06-26T14:52:07.274448Z",
     "iopub.status.busy": "2024-06-26T14:52:07.274050Z",
     "iopub.status.idle": "2024-06-26T14:52:07.285576Z",
     "shell.execute_reply": "2024-06-26T14:52:07.284234Z"
    },
    "papermill": {
     "duration": 0.043579,
     "end_time": "2024-06-26T14:52:07.288145",
     "exception": false,
     "start_time": "2024-06-26T14:52:07.244566",
     "status": "completed"
    },
    "tags": []
   },
   "outputs": [],
   "source": [
    "df_netflix['duration']=df_netflix['duration'].str.replace('Seasons','Season')"
   ]
  },
  {
   "cell_type": "code",
   "execution_count": 18,
   "id": "a5aec538",
   "metadata": {
    "execution": {
     "iopub.execute_input": "2024-06-26T14:52:07.346808Z",
     "iopub.status.busy": "2024-06-26T14:52:07.346339Z",
     "iopub.status.idle": "2024-06-26T14:52:07.355858Z",
     "shell.execute_reply": "2024-06-26T14:52:07.354703Z"
    },
    "papermill": {
     "duration": 0.042586,
     "end_time": "2024-06-26T14:52:07.358293",
     "exception": false,
     "start_time": "2024-06-26T14:52:07.315707",
     "status": "completed"
    },
    "tags": []
   },
   "outputs": [
    {
     "data": {
      "text/plain": [
       "array(['90 min', '2 Season', '1 Season', '91 min', '125 min', '9 Season',\n",
       "       '104 min', '127 min', '4 Season', '67 min', '94 min', '5 Season',\n",
       "       '161 min', '61 min', '166 min', '147 min', '103 min', '97 min',\n",
       "       '106 min', '111 min', '3 Season', '110 min', '105 min', '96 min',\n",
       "       '124 min', '116 min', '98 min', '23 min', '115 min', '122 min',\n",
       "       '99 min', '88 min', '100 min', '6 Season', '102 min', '93 min',\n",
       "       '95 min', '85 min', '83 min', '113 min', '13 min', '182 min',\n",
       "       '48 min', '145 min', '87 min', '92 min', '80 min', '117 min',\n",
       "       '128 min', '119 min', '143 min', '114 min', '118 min', '108 min',\n",
       "       '63 min', '121 min', '142 min', '154 min', '120 min', '82 min',\n",
       "       '109 min', '101 min', '86 min', '229 min', '76 min', '89 min',\n",
       "       '156 min', '112 min', '107 min', '129 min', '135 min', '136 min',\n",
       "       '165 min', '150 min', '133 min', '70 min', '84 min', '140 min',\n",
       "       '78 min', '7 Season', '64 min', '59 min', '139 min', '69 min',\n",
       "       '148 min', '189 min', '141 min', '130 min', '138 min', '81 min',\n",
       "       '132 min', '10 Season', '123 min', '65 min', '68 min', '66 min',\n",
       "       '62 min', '74 min', '131 min', '39 min', '46 min', '38 min',\n",
       "       '8 Season', '17 Season', '126 min', '155 min', '159 min',\n",
       "       '137 min', '12 min', '273 min', '36 min', '34 min', '77 min',\n",
       "       '60 min', '49 min', '58 min', '72 min', '204 min', '212 min',\n",
       "       '25 min', '73 min', '29 min', '47 min', '32 min', '35 min',\n",
       "       '71 min', '149 min', '33 min', '15 min', '54 min', '224 min',\n",
       "       '162 min', '37 min', '75 min', '79 min', '55 min', '158 min',\n",
       "       '164 min', '173 min', '181 min', '185 min', '21 min', '24 min',\n",
       "       '51 min', '151 min', '42 min', '22 min', '134 min', '177 min',\n",
       "       '13 Season', '52 min', '14 min', '53 min', '8 min', '57 min',\n",
       "       '28 min', '50 min', '9 min', '26 min', '45 min', '171 min',\n",
       "       '27 min', '44 min', '146 min', '20 min', '157 min', '17 min',\n",
       "       '203 min', '41 min', '30 min', '194 min', '15 Season', '233 min',\n",
       "       '237 min', '230 min', '195 min', '253 min', '152 min', '190 min',\n",
       "       '160 min', '208 min', '180 min', '144 min', '5 min', '174 min',\n",
       "       '170 min', '192 min', '209 min', '187 min', '172 min', '16 min',\n",
       "       '186 min', '11 min', '193 min', '176 min', '56 min', '169 min',\n",
       "       '40 min', '10 min', '3 min', '168 min', '312 min', '153 min',\n",
       "       '214 min', '31 min', '163 min', '19 min', '12 Season', nan,\n",
       "       '179 min', '11 Season', '43 min', '200 min', '196 min', '167 min',\n",
       "       '178 min', '228 min', '18 min', '205 min', '201 min', '191 min'],\n",
       "      dtype=object)"
      ]
     },
     "execution_count": 18,
     "metadata": {},
     "output_type": "execute_result"
    }
   ],
   "source": [
    "df_netflix['duration'].unique()"
   ]
  },
  {
   "cell_type": "markdown",
   "id": "2c62f17f",
   "metadata": {
    "papermill": {
     "duration": 0.028735,
     "end_time": "2024-06-26T14:52:07.414550",
     "exception": false,
     "start_time": "2024-06-26T14:52:07.385815",
     "status": "completed"
    },
    "tags": []
   },
   "source": [
    "### Monthly Shows Launch On Netflix"
   ]
  },
  {
   "cell_type": "code",
   "execution_count": 19,
   "id": "9b9d30ca",
   "metadata": {
    "execution": {
     "iopub.execute_input": "2024-06-26T14:52:07.471933Z",
     "iopub.status.busy": "2024-06-26T14:52:07.471499Z",
     "iopub.status.idle": "2024-06-26T14:52:07.483799Z",
     "shell.execute_reply": "2024-06-26T14:52:07.482557Z"
    },
    "papermill": {
     "duration": 0.044001,
     "end_time": "2024-06-26T14:52:07.486458",
     "exception": false,
     "start_time": "2024-06-26T14:52:07.442457",
     "status": "completed"
    },
    "tags": []
   },
   "outputs": [],
   "source": [
    "df_netflix_month=df_netflix.groupby('release_month').agg({'release_month':'count'}).rename(columns={'release_month':'show_month_count'})"
   ]
  },
  {
   "cell_type": "code",
   "execution_count": 20,
   "id": "5a0f9ff5",
   "metadata": {
    "execution": {
     "iopub.execute_input": "2024-06-26T14:52:07.544597Z",
     "iopub.status.busy": "2024-06-26T14:52:07.543565Z",
     "iopub.status.idle": "2024-06-26T14:52:09.599639Z",
     "shell.execute_reply": "2024-06-26T14:52:09.598337Z"
    },
    "papermill": {
     "duration": 2.088048,
     "end_time": "2024-06-26T14:52:09.602433",
     "exception": false,
     "start_time": "2024-06-26T14:52:07.514385",
     "status": "completed"
    },
    "tags": []
   },
   "outputs": [
    {
     "data": {
      "text/html": [
       "        <script type=\"text/javascript\">\n",
       "        window.PlotlyConfig = {MathJaxConfig: 'local'};\n",
       "        if (window.MathJax && window.MathJax.Hub && window.MathJax.Hub.Config) {window.MathJax.Hub.Config({SVG: {font: \"STIX-Web\"}});}\n",
       "        if (typeof require !== 'undefined') {\n",
       "        require.undef(\"plotly\");\n",
       "        requirejs.config({\n",
       "            paths: {\n",
       "                'plotly': ['https://cdn.plot.ly/plotly-2.27.0.min']\n",
       "            }\n",
       "        });\n",
       "        require(['plotly'], function(Plotly) {\n",
       "            window._Plotly = Plotly;\n",
       "        });\n",
       "        }\n",
       "        </script>\n",
       "        "
      ]
     },
     "metadata": {},
     "output_type": "display_data"
    },
    {
     "data": {
      "text/html": [
       "<div>                            <div id=\"4980a84f-ce49-4452-a3d5-3c853a93960f\" class=\"plotly-graph-div\" style=\"height:525px; width:100%;\"></div>            <script type=\"text/javascript\">                require([\"plotly\"], function(Plotly) {                    window.PLOTLYENV=window.PLOTLYENV || {};                                    if (document.getElementById(\"4980a84f-ce49-4452-a3d5-3c853a93960f\")) {                    Plotly.newPlot(                        \"4980a84f-ce49-4452-a3d5-3c853a93960f\",                        [{\"hovertemplate\":\"release_month=%{x}\\u003cbr\\u003eshow_month_count=%{y}\\u003cextra\\u003e\\u003c\\u002fextra\\u003e\",\"legendgroup\":\"\",\"line\":{\"color\":\"#636efa\",\"dash\":\"solid\"},\"marker\":{\"symbol\":\"circle\"},\"mode\":\"lines\",\"name\":\"\",\"orientation\":\"v\",\"showlegend\":false,\"x\":[\"\",\"April\",\"August\",\"December\",\"February\",\"January\",\"July\",\"June\",\"March\",\"May\",\"November\",\"October\",\"September\"],\"xaxis\":\"x\",\"y\":[88,759,749,797,557,727,819,724,734,626,697,755,765],\"yaxis\":\"y\",\"type\":\"scatter\"}],                        {\"template\":{\"data\":{\"histogram2dcontour\":[{\"type\":\"histogram2dcontour\",\"colorbar\":{\"outlinewidth\":0,\"ticks\":\"\"},\"colorscale\":[[0.0,\"#0d0887\"],[0.1111111111111111,\"#46039f\"],[0.2222222222222222,\"#7201a8\"],[0.3333333333333333,\"#9c179e\"],[0.4444444444444444,\"#bd3786\"],[0.5555555555555556,\"#d8576b\"],[0.6666666666666666,\"#ed7953\"],[0.7777777777777778,\"#fb9f3a\"],[0.8888888888888888,\"#fdca26\"],[1.0,\"#f0f921\"]]}],\"choropleth\":[{\"type\":\"choropleth\",\"colorbar\":{\"outlinewidth\":0,\"ticks\":\"\"}}],\"histogram2d\":[{\"type\":\"histogram2d\",\"colorbar\":{\"outlinewidth\":0,\"ticks\":\"\"},\"colorscale\":[[0.0,\"#0d0887\"],[0.1111111111111111,\"#46039f\"],[0.2222222222222222,\"#7201a8\"],[0.3333333333333333,\"#9c179e\"],[0.4444444444444444,\"#bd3786\"],[0.5555555555555556,\"#d8576b\"],[0.6666666666666666,\"#ed7953\"],[0.7777777777777778,\"#fb9f3a\"],[0.8888888888888888,\"#fdca26\"],[1.0,\"#f0f921\"]]}],\"heatmap\":[{\"type\":\"heatmap\",\"colorbar\":{\"outlinewidth\":0,\"ticks\":\"\"},\"colorscale\":[[0.0,\"#0d0887\"],[0.1111111111111111,\"#46039f\"],[0.2222222222222222,\"#7201a8\"],[0.3333333333333333,\"#9c179e\"],[0.4444444444444444,\"#bd3786\"],[0.5555555555555556,\"#d8576b\"],[0.6666666666666666,\"#ed7953\"],[0.7777777777777778,\"#fb9f3a\"],[0.8888888888888888,\"#fdca26\"],[1.0,\"#f0f921\"]]}],\"heatmapgl\":[{\"type\":\"heatmapgl\",\"colorbar\":{\"outlinewidth\":0,\"ticks\":\"\"},\"colorscale\":[[0.0,\"#0d0887\"],[0.1111111111111111,\"#46039f\"],[0.2222222222222222,\"#7201a8\"],[0.3333333333333333,\"#9c179e\"],[0.4444444444444444,\"#bd3786\"],[0.5555555555555556,\"#d8576b\"],[0.6666666666666666,\"#ed7953\"],[0.7777777777777778,\"#fb9f3a\"],[0.8888888888888888,\"#fdca26\"],[1.0,\"#f0f921\"]]}],\"contourcarpet\":[{\"type\":\"contourcarpet\",\"colorbar\":{\"outlinewidth\":0,\"ticks\":\"\"}}],\"contour\":[{\"type\":\"contour\",\"colorbar\":{\"outlinewidth\":0,\"ticks\":\"\"},\"colorscale\":[[0.0,\"#0d0887\"],[0.1111111111111111,\"#46039f\"],[0.2222222222222222,\"#7201a8\"],[0.3333333333333333,\"#9c179e\"],[0.4444444444444444,\"#bd3786\"],[0.5555555555555556,\"#d8576b\"],[0.6666666666666666,\"#ed7953\"],[0.7777777777777778,\"#fb9f3a\"],[0.8888888888888888,\"#fdca26\"],[1.0,\"#f0f921\"]]}],\"surface\":[{\"type\":\"surface\",\"colorbar\":{\"outlinewidth\":0,\"ticks\":\"\"},\"colorscale\":[[0.0,\"#0d0887\"],[0.1111111111111111,\"#46039f\"],[0.2222222222222222,\"#7201a8\"],[0.3333333333333333,\"#9c179e\"],[0.4444444444444444,\"#bd3786\"],[0.5555555555555556,\"#d8576b\"],[0.6666666666666666,\"#ed7953\"],[0.7777777777777778,\"#fb9f3a\"],[0.8888888888888888,\"#fdca26\"],[1.0,\"#f0f921\"]]}],\"mesh3d\":[{\"type\":\"mesh3d\",\"colorbar\":{\"outlinewidth\":0,\"ticks\":\"\"}}],\"scatter\":[{\"fillpattern\":{\"fillmode\":\"overlay\",\"size\":10,\"solidity\":0.2},\"type\":\"scatter\"}],\"parcoords\":[{\"type\":\"parcoords\",\"line\":{\"colorbar\":{\"outlinewidth\":0,\"ticks\":\"\"}}}],\"scatterpolargl\":[{\"type\":\"scatterpolargl\",\"marker\":{\"colorbar\":{\"outlinewidth\":0,\"ticks\":\"\"}}}],\"bar\":[{\"error_x\":{\"color\":\"#2a3f5f\"},\"error_y\":{\"color\":\"#2a3f5f\"},\"marker\":{\"line\":{\"color\":\"#E5ECF6\",\"width\":0.5},\"pattern\":{\"fillmode\":\"overlay\",\"size\":10,\"solidity\":0.2}},\"type\":\"bar\"}],\"scattergeo\":[{\"type\":\"scattergeo\",\"marker\":{\"colorbar\":{\"outlinewidth\":0,\"ticks\":\"\"}}}],\"scatterpolar\":[{\"type\":\"scatterpolar\",\"marker\":{\"colorbar\":{\"outlinewidth\":0,\"ticks\":\"\"}}}],\"histogram\":[{\"marker\":{\"pattern\":{\"fillmode\":\"overlay\",\"size\":10,\"solidity\":0.2}},\"type\":\"histogram\"}],\"scattergl\":[{\"type\":\"scattergl\",\"marker\":{\"colorbar\":{\"outlinewidth\":0,\"ticks\":\"\"}}}],\"scatter3d\":[{\"type\":\"scatter3d\",\"line\":{\"colorbar\":{\"outlinewidth\":0,\"ticks\":\"\"}},\"marker\":{\"colorbar\":{\"outlinewidth\":0,\"ticks\":\"\"}}}],\"scattermapbox\":[{\"type\":\"scattermapbox\",\"marker\":{\"colorbar\":{\"outlinewidth\":0,\"ticks\":\"\"}}}],\"scatterternary\":[{\"type\":\"scatterternary\",\"marker\":{\"colorbar\":{\"outlinewidth\":0,\"ticks\":\"\"}}}],\"scattercarpet\":[{\"type\":\"scattercarpet\",\"marker\":{\"colorbar\":{\"outlinewidth\":0,\"ticks\":\"\"}}}],\"carpet\":[{\"aaxis\":{\"endlinecolor\":\"#2a3f5f\",\"gridcolor\":\"white\",\"linecolor\":\"white\",\"minorgridcolor\":\"white\",\"startlinecolor\":\"#2a3f5f\"},\"baxis\":{\"endlinecolor\":\"#2a3f5f\",\"gridcolor\":\"white\",\"linecolor\":\"white\",\"minorgridcolor\":\"white\",\"startlinecolor\":\"#2a3f5f\"},\"type\":\"carpet\"}],\"table\":[{\"cells\":{\"fill\":{\"color\":\"#EBF0F8\"},\"line\":{\"color\":\"white\"}},\"header\":{\"fill\":{\"color\":\"#C8D4E3\"},\"line\":{\"color\":\"white\"}},\"type\":\"table\"}],\"barpolar\":[{\"marker\":{\"line\":{\"color\":\"#E5ECF6\",\"width\":0.5},\"pattern\":{\"fillmode\":\"overlay\",\"size\":10,\"solidity\":0.2}},\"type\":\"barpolar\"}],\"pie\":[{\"automargin\":true,\"type\":\"pie\"}]},\"layout\":{\"autotypenumbers\":\"strict\",\"colorway\":[\"#636efa\",\"#EF553B\",\"#00cc96\",\"#ab63fa\",\"#FFA15A\",\"#19d3f3\",\"#FF6692\",\"#B6E880\",\"#FF97FF\",\"#FECB52\"],\"font\":{\"color\":\"#2a3f5f\"},\"hovermode\":\"closest\",\"hoverlabel\":{\"align\":\"left\"},\"paper_bgcolor\":\"white\",\"plot_bgcolor\":\"#E5ECF6\",\"polar\":{\"bgcolor\":\"#E5ECF6\",\"angularaxis\":{\"gridcolor\":\"white\",\"linecolor\":\"white\",\"ticks\":\"\"},\"radialaxis\":{\"gridcolor\":\"white\",\"linecolor\":\"white\",\"ticks\":\"\"}},\"ternary\":{\"bgcolor\":\"#E5ECF6\",\"aaxis\":{\"gridcolor\":\"white\",\"linecolor\":\"white\",\"ticks\":\"\"},\"baxis\":{\"gridcolor\":\"white\",\"linecolor\":\"white\",\"ticks\":\"\"},\"caxis\":{\"gridcolor\":\"white\",\"linecolor\":\"white\",\"ticks\":\"\"}},\"coloraxis\":{\"colorbar\":{\"outlinewidth\":0,\"ticks\":\"\"}},\"colorscale\":{\"sequential\":[[0.0,\"#0d0887\"],[0.1111111111111111,\"#46039f\"],[0.2222222222222222,\"#7201a8\"],[0.3333333333333333,\"#9c179e\"],[0.4444444444444444,\"#bd3786\"],[0.5555555555555556,\"#d8576b\"],[0.6666666666666666,\"#ed7953\"],[0.7777777777777778,\"#fb9f3a\"],[0.8888888888888888,\"#fdca26\"],[1.0,\"#f0f921\"]],\"sequentialminus\":[[0.0,\"#0d0887\"],[0.1111111111111111,\"#46039f\"],[0.2222222222222222,\"#7201a8\"],[0.3333333333333333,\"#9c179e\"],[0.4444444444444444,\"#bd3786\"],[0.5555555555555556,\"#d8576b\"],[0.6666666666666666,\"#ed7953\"],[0.7777777777777778,\"#fb9f3a\"],[0.8888888888888888,\"#fdca26\"],[1.0,\"#f0f921\"]],\"diverging\":[[0,\"#8e0152\"],[0.1,\"#c51b7d\"],[0.2,\"#de77ae\"],[0.3,\"#f1b6da\"],[0.4,\"#fde0ef\"],[0.5,\"#f7f7f7\"],[0.6,\"#e6f5d0\"],[0.7,\"#b8e186\"],[0.8,\"#7fbc41\"],[0.9,\"#4d9221\"],[1,\"#276419\"]]},\"xaxis\":{\"gridcolor\":\"white\",\"linecolor\":\"white\",\"ticks\":\"\",\"title\":{\"standoff\":15},\"zerolinecolor\":\"white\",\"automargin\":true,\"zerolinewidth\":2},\"yaxis\":{\"gridcolor\":\"white\",\"linecolor\":\"white\",\"ticks\":\"\",\"title\":{\"standoff\":15},\"zerolinecolor\":\"white\",\"automargin\":true,\"zerolinewidth\":2},\"scene\":{\"xaxis\":{\"backgroundcolor\":\"#E5ECF6\",\"gridcolor\":\"white\",\"linecolor\":\"white\",\"showbackground\":true,\"ticks\":\"\",\"zerolinecolor\":\"white\",\"gridwidth\":2},\"yaxis\":{\"backgroundcolor\":\"#E5ECF6\",\"gridcolor\":\"white\",\"linecolor\":\"white\",\"showbackground\":true,\"ticks\":\"\",\"zerolinecolor\":\"white\",\"gridwidth\":2},\"zaxis\":{\"backgroundcolor\":\"#E5ECF6\",\"gridcolor\":\"white\",\"linecolor\":\"white\",\"showbackground\":true,\"ticks\":\"\",\"zerolinecolor\":\"white\",\"gridwidth\":2}},\"shapedefaults\":{\"line\":{\"color\":\"#2a3f5f\"}},\"annotationdefaults\":{\"arrowcolor\":\"#2a3f5f\",\"arrowhead\":0,\"arrowwidth\":1},\"geo\":{\"bgcolor\":\"white\",\"landcolor\":\"#E5ECF6\",\"subunitcolor\":\"white\",\"showland\":true,\"showlakes\":true,\"lakecolor\":\"white\"},\"title\":{\"x\":0.05},\"mapbox\":{\"style\":\"light\"}}},\"xaxis\":{\"anchor\":\"y\",\"domain\":[0.0,1.0],\"title\":{\"text\":\"release_month\"}},\"yaxis\":{\"anchor\":\"x\",\"domain\":[0.0,1.0],\"title\":{\"text\":\"show_month_count\"}},\"legend\":{\"tracegroupgap\":0},\"title\":{\"text\":\"Monthly Shows Launch\"}},                        {\"responsive\": true}                    ).then(function(){\n",
       "                            \n",
       "var gd = document.getElementById('4980a84f-ce49-4452-a3d5-3c853a93960f');\n",
       "var x = new MutationObserver(function (mutations, observer) {{\n",
       "        var display = window.getComputedStyle(gd).display;\n",
       "        if (!display || display === 'none') {{\n",
       "            console.log([gd, 'removed!']);\n",
       "            Plotly.purge(gd);\n",
       "            observer.disconnect();\n",
       "        }}\n",
       "}});\n",
       "\n",
       "// Listen for the removal of the full notebook cells\n",
       "var notebookContainer = gd.closest('#notebook-container');\n",
       "if (notebookContainer) {{\n",
       "    x.observe(notebookContainer, {childList: true});\n",
       "}}\n",
       "\n",
       "// Listen for the clearing of the current output cell\n",
       "var outputEl = gd.closest('.output');\n",
       "if (outputEl) {{\n",
       "    x.observe(outputEl, {childList: true});\n",
       "}}\n",
       "\n",
       "                        })                };                });            </script>        </div>"
      ]
     },
     "metadata": {},
     "output_type": "display_data"
    }
   ],
   "source": [
    "fig=px.line(df_netflix_month,y='show_month_count',x=df_netflix_month.index,title='Monthly Shows Launch')\n",
    "fig.show()"
   ]
  },
  {
   "cell_type": "markdown",
   "id": "53d2f34e",
   "metadata": {
    "papermill": {
     "duration": 0.028821,
     "end_time": "2024-06-26T14:52:09.660076",
     "exception": false,
     "start_time": "2024-06-26T14:52:09.631255",
     "status": "completed"
    },
    "tags": []
   },
   "source": [
    "### Year On Year Shows Release On Netflix"
   ]
  },
  {
   "cell_type": "code",
   "execution_count": 21,
   "id": "855ec08c",
   "metadata": {
    "execution": {
     "iopub.execute_input": "2024-06-26T14:52:09.719976Z",
     "iopub.status.busy": "2024-06-26T14:52:09.718904Z",
     "iopub.status.idle": "2024-06-26T14:52:09.728520Z",
     "shell.execute_reply": "2024-06-26T14:52:09.727095Z"
    },
    "papermill": {
     "duration": 0.042795,
     "end_time": "2024-06-26T14:52:09.731240",
     "exception": false,
     "start_time": "2024-06-26T14:52:09.688445",
     "status": "completed"
    },
    "tags": []
   },
   "outputs": [],
   "source": [
    "df_netflix_year=df_netflix.groupby('release_year').agg({'release_year':'count'}).rename(columns={'release_year':'show_year_count'})"
   ]
  },
  {
   "cell_type": "code",
   "execution_count": 22,
   "id": "042f983a",
   "metadata": {
    "execution": {
     "iopub.execute_input": "2024-06-26T14:52:09.789331Z",
     "iopub.status.busy": "2024-06-26T14:52:09.788875Z",
     "iopub.status.idle": "2024-06-26T14:52:09.859204Z",
     "shell.execute_reply": "2024-06-26T14:52:09.857893Z"
    },
    "papermill": {
     "duration": 0.102783,
     "end_time": "2024-06-26T14:52:09.862188",
     "exception": false,
     "start_time": "2024-06-26T14:52:09.759405",
     "status": "completed"
    },
    "tags": []
   },
   "outputs": [
    {
     "data": {
      "text/html": [
       "<div>                            <div id=\"326f545f-7308-416c-98fa-80134d4ff02c\" class=\"plotly-graph-div\" style=\"height:525px; width:100%;\"></div>            <script type=\"text/javascript\">                require([\"plotly\"], function(Plotly) {                    window.PLOTLYENV=window.PLOTLYENV || {};                                    if (document.getElementById(\"326f545f-7308-416c-98fa-80134d4ff02c\")) {                    Plotly.newPlot(                        \"326f545f-7308-416c-98fa-80134d4ff02c\",                        [{\"hovertemplate\":\"release_year=%{x}\\u003cbr\\u003eshow_year_count=%{y}\\u003cextra\\u003e\\u003c\\u002fextra\\u003e\",\"legendgroup\":\"\",\"line\":{\"color\":\"#636efa\",\"dash\":\"solid\"},\"marker\":{\"symbol\":\"circle\"},\"mode\":\"lines\",\"name\":\"\",\"orientation\":\"v\",\"showlegend\":false,\"x\":[1925,1942,1943,1944,1945,1946,1947,1954,1955,1956,1958,1959,1960,1961,1962,1963,1964,1965,1966,1967,1968,1969,1970,1971,1972,1973,1974,1975,1976,1977,1978,1979,1980,1981,1982,1983,1984,1985,1986,1987,1988,1989,1990,1991,1992,1993,1994,1995,1996,1997,1998,1999,2000,2001,2002,2003,2004,2005,2006,2007,2008,2009,2010,2011,2012,2013,2014,2015,2016,2017,2018,2019,2020,2021],\"xaxis\":\"x\",\"y\":[1,2,3,3,4,2,1,2,3,2,3,1,4,1,3,2,2,2,1,5,3,2,2,5,5,10,7,7,9,7,7,11,11,13,17,11,12,10,13,8,18,16,22,17,23,28,22,25,24,38,36,39,37,45,51,61,64,80,96,88,136,152,194,185,237,288,352,560,902,1032,1147,1030,953,592],\"yaxis\":\"y\",\"type\":\"scatter\"}],                        {\"template\":{\"data\":{\"histogram2dcontour\":[{\"type\":\"histogram2dcontour\",\"colorbar\":{\"outlinewidth\":0,\"ticks\":\"\"},\"colorscale\":[[0.0,\"#0d0887\"],[0.1111111111111111,\"#46039f\"],[0.2222222222222222,\"#7201a8\"],[0.3333333333333333,\"#9c179e\"],[0.4444444444444444,\"#bd3786\"],[0.5555555555555556,\"#d8576b\"],[0.6666666666666666,\"#ed7953\"],[0.7777777777777778,\"#fb9f3a\"],[0.8888888888888888,\"#fdca26\"],[1.0,\"#f0f921\"]]}],\"choropleth\":[{\"type\":\"choropleth\",\"colorbar\":{\"outlinewidth\":0,\"ticks\":\"\"}}],\"histogram2d\":[{\"type\":\"histogram2d\",\"colorbar\":{\"outlinewidth\":0,\"ticks\":\"\"},\"colorscale\":[[0.0,\"#0d0887\"],[0.1111111111111111,\"#46039f\"],[0.2222222222222222,\"#7201a8\"],[0.3333333333333333,\"#9c179e\"],[0.4444444444444444,\"#bd3786\"],[0.5555555555555556,\"#d8576b\"],[0.6666666666666666,\"#ed7953\"],[0.7777777777777778,\"#fb9f3a\"],[0.8888888888888888,\"#fdca26\"],[1.0,\"#f0f921\"]]}],\"heatmap\":[{\"type\":\"heatmap\",\"colorbar\":{\"outlinewidth\":0,\"ticks\":\"\"},\"colorscale\":[[0.0,\"#0d0887\"],[0.1111111111111111,\"#46039f\"],[0.2222222222222222,\"#7201a8\"],[0.3333333333333333,\"#9c179e\"],[0.4444444444444444,\"#bd3786\"],[0.5555555555555556,\"#d8576b\"],[0.6666666666666666,\"#ed7953\"],[0.7777777777777778,\"#fb9f3a\"],[0.8888888888888888,\"#fdca26\"],[1.0,\"#f0f921\"]]}],\"heatmapgl\":[{\"type\":\"heatmapgl\",\"colorbar\":{\"outlinewidth\":0,\"ticks\":\"\"},\"colorscale\":[[0.0,\"#0d0887\"],[0.1111111111111111,\"#46039f\"],[0.2222222222222222,\"#7201a8\"],[0.3333333333333333,\"#9c179e\"],[0.4444444444444444,\"#bd3786\"],[0.5555555555555556,\"#d8576b\"],[0.6666666666666666,\"#ed7953\"],[0.7777777777777778,\"#fb9f3a\"],[0.8888888888888888,\"#fdca26\"],[1.0,\"#f0f921\"]]}],\"contourcarpet\":[{\"type\":\"contourcarpet\",\"colorbar\":{\"outlinewidth\":0,\"ticks\":\"\"}}],\"contour\":[{\"type\":\"contour\",\"colorbar\":{\"outlinewidth\":0,\"ticks\":\"\"},\"colorscale\":[[0.0,\"#0d0887\"],[0.1111111111111111,\"#46039f\"],[0.2222222222222222,\"#7201a8\"],[0.3333333333333333,\"#9c179e\"],[0.4444444444444444,\"#bd3786\"],[0.5555555555555556,\"#d8576b\"],[0.6666666666666666,\"#ed7953\"],[0.7777777777777778,\"#fb9f3a\"],[0.8888888888888888,\"#fdca26\"],[1.0,\"#f0f921\"]]}],\"surface\":[{\"type\":\"surface\",\"colorbar\":{\"outlinewidth\":0,\"ticks\":\"\"},\"colorscale\":[[0.0,\"#0d0887\"],[0.1111111111111111,\"#46039f\"],[0.2222222222222222,\"#7201a8\"],[0.3333333333333333,\"#9c179e\"],[0.4444444444444444,\"#bd3786\"],[0.5555555555555556,\"#d8576b\"],[0.6666666666666666,\"#ed7953\"],[0.7777777777777778,\"#fb9f3a\"],[0.8888888888888888,\"#fdca26\"],[1.0,\"#f0f921\"]]}],\"mesh3d\":[{\"type\":\"mesh3d\",\"colorbar\":{\"outlinewidth\":0,\"ticks\":\"\"}}],\"scatter\":[{\"fillpattern\":{\"fillmode\":\"overlay\",\"size\":10,\"solidity\":0.2},\"type\":\"scatter\"}],\"parcoords\":[{\"type\":\"parcoords\",\"line\":{\"colorbar\":{\"outlinewidth\":0,\"ticks\":\"\"}}}],\"scatterpolargl\":[{\"type\":\"scatterpolargl\",\"marker\":{\"colorbar\":{\"outlinewidth\":0,\"ticks\":\"\"}}}],\"bar\":[{\"error_x\":{\"color\":\"#2a3f5f\"},\"error_y\":{\"color\":\"#2a3f5f\"},\"marker\":{\"line\":{\"color\":\"#E5ECF6\",\"width\":0.5},\"pattern\":{\"fillmode\":\"overlay\",\"size\":10,\"solidity\":0.2}},\"type\":\"bar\"}],\"scattergeo\":[{\"type\":\"scattergeo\",\"marker\":{\"colorbar\":{\"outlinewidth\":0,\"ticks\":\"\"}}}],\"scatterpolar\":[{\"type\":\"scatterpolar\",\"marker\":{\"colorbar\":{\"outlinewidth\":0,\"ticks\":\"\"}}}],\"histogram\":[{\"marker\":{\"pattern\":{\"fillmode\":\"overlay\",\"size\":10,\"solidity\":0.2}},\"type\":\"histogram\"}],\"scattergl\":[{\"type\":\"scattergl\",\"marker\":{\"colorbar\":{\"outlinewidth\":0,\"ticks\":\"\"}}}],\"scatter3d\":[{\"type\":\"scatter3d\",\"line\":{\"colorbar\":{\"outlinewidth\":0,\"ticks\":\"\"}},\"marker\":{\"colorbar\":{\"outlinewidth\":0,\"ticks\":\"\"}}}],\"scattermapbox\":[{\"type\":\"scattermapbox\",\"marker\":{\"colorbar\":{\"outlinewidth\":0,\"ticks\":\"\"}}}],\"scatterternary\":[{\"type\":\"scatterternary\",\"marker\":{\"colorbar\":{\"outlinewidth\":0,\"ticks\":\"\"}}}],\"scattercarpet\":[{\"type\":\"scattercarpet\",\"marker\":{\"colorbar\":{\"outlinewidth\":0,\"ticks\":\"\"}}}],\"carpet\":[{\"aaxis\":{\"endlinecolor\":\"#2a3f5f\",\"gridcolor\":\"white\",\"linecolor\":\"white\",\"minorgridcolor\":\"white\",\"startlinecolor\":\"#2a3f5f\"},\"baxis\":{\"endlinecolor\":\"#2a3f5f\",\"gridcolor\":\"white\",\"linecolor\":\"white\",\"minorgridcolor\":\"white\",\"startlinecolor\":\"#2a3f5f\"},\"type\":\"carpet\"}],\"table\":[{\"cells\":{\"fill\":{\"color\":\"#EBF0F8\"},\"line\":{\"color\":\"white\"}},\"header\":{\"fill\":{\"color\":\"#C8D4E3\"},\"line\":{\"color\":\"white\"}},\"type\":\"table\"}],\"barpolar\":[{\"marker\":{\"line\":{\"color\":\"#E5ECF6\",\"width\":0.5},\"pattern\":{\"fillmode\":\"overlay\",\"size\":10,\"solidity\":0.2}},\"type\":\"barpolar\"}],\"pie\":[{\"automargin\":true,\"type\":\"pie\"}]},\"layout\":{\"autotypenumbers\":\"strict\",\"colorway\":[\"#636efa\",\"#EF553B\",\"#00cc96\",\"#ab63fa\",\"#FFA15A\",\"#19d3f3\",\"#FF6692\",\"#B6E880\",\"#FF97FF\",\"#FECB52\"],\"font\":{\"color\":\"#2a3f5f\"},\"hovermode\":\"closest\",\"hoverlabel\":{\"align\":\"left\"},\"paper_bgcolor\":\"white\",\"plot_bgcolor\":\"#E5ECF6\",\"polar\":{\"bgcolor\":\"#E5ECF6\",\"angularaxis\":{\"gridcolor\":\"white\",\"linecolor\":\"white\",\"ticks\":\"\"},\"radialaxis\":{\"gridcolor\":\"white\",\"linecolor\":\"white\",\"ticks\":\"\"}},\"ternary\":{\"bgcolor\":\"#E5ECF6\",\"aaxis\":{\"gridcolor\":\"white\",\"linecolor\":\"white\",\"ticks\":\"\"},\"baxis\":{\"gridcolor\":\"white\",\"linecolor\":\"white\",\"ticks\":\"\"},\"caxis\":{\"gridcolor\":\"white\",\"linecolor\":\"white\",\"ticks\":\"\"}},\"coloraxis\":{\"colorbar\":{\"outlinewidth\":0,\"ticks\":\"\"}},\"colorscale\":{\"sequential\":[[0.0,\"#0d0887\"],[0.1111111111111111,\"#46039f\"],[0.2222222222222222,\"#7201a8\"],[0.3333333333333333,\"#9c179e\"],[0.4444444444444444,\"#bd3786\"],[0.5555555555555556,\"#d8576b\"],[0.6666666666666666,\"#ed7953\"],[0.7777777777777778,\"#fb9f3a\"],[0.8888888888888888,\"#fdca26\"],[1.0,\"#f0f921\"]],\"sequentialminus\":[[0.0,\"#0d0887\"],[0.1111111111111111,\"#46039f\"],[0.2222222222222222,\"#7201a8\"],[0.3333333333333333,\"#9c179e\"],[0.4444444444444444,\"#bd3786\"],[0.5555555555555556,\"#d8576b\"],[0.6666666666666666,\"#ed7953\"],[0.7777777777777778,\"#fb9f3a\"],[0.8888888888888888,\"#fdca26\"],[1.0,\"#f0f921\"]],\"diverging\":[[0,\"#8e0152\"],[0.1,\"#c51b7d\"],[0.2,\"#de77ae\"],[0.3,\"#f1b6da\"],[0.4,\"#fde0ef\"],[0.5,\"#f7f7f7\"],[0.6,\"#e6f5d0\"],[0.7,\"#b8e186\"],[0.8,\"#7fbc41\"],[0.9,\"#4d9221\"],[1,\"#276419\"]]},\"xaxis\":{\"gridcolor\":\"white\",\"linecolor\":\"white\",\"ticks\":\"\",\"title\":{\"standoff\":15},\"zerolinecolor\":\"white\",\"automargin\":true,\"zerolinewidth\":2},\"yaxis\":{\"gridcolor\":\"white\",\"linecolor\":\"white\",\"ticks\":\"\",\"title\":{\"standoff\":15},\"zerolinecolor\":\"white\",\"automargin\":true,\"zerolinewidth\":2},\"scene\":{\"xaxis\":{\"backgroundcolor\":\"#E5ECF6\",\"gridcolor\":\"white\",\"linecolor\":\"white\",\"showbackground\":true,\"ticks\":\"\",\"zerolinecolor\":\"white\",\"gridwidth\":2},\"yaxis\":{\"backgroundcolor\":\"#E5ECF6\",\"gridcolor\":\"white\",\"linecolor\":\"white\",\"showbackground\":true,\"ticks\":\"\",\"zerolinecolor\":\"white\",\"gridwidth\":2},\"zaxis\":{\"backgroundcolor\":\"#E5ECF6\",\"gridcolor\":\"white\",\"linecolor\":\"white\",\"showbackground\":true,\"ticks\":\"\",\"zerolinecolor\":\"white\",\"gridwidth\":2}},\"shapedefaults\":{\"line\":{\"color\":\"#2a3f5f\"}},\"annotationdefaults\":{\"arrowcolor\":\"#2a3f5f\",\"arrowhead\":0,\"arrowwidth\":1},\"geo\":{\"bgcolor\":\"white\",\"landcolor\":\"#E5ECF6\",\"subunitcolor\":\"white\",\"showland\":true,\"showlakes\":true,\"lakecolor\":\"white\"},\"title\":{\"x\":0.05},\"mapbox\":{\"style\":\"light\"}}},\"xaxis\":{\"anchor\":\"y\",\"domain\":[0.0,1.0],\"title\":{\"text\":\"release_year\"}},\"yaxis\":{\"anchor\":\"x\",\"domain\":[0.0,1.0],\"title\":{\"text\":\"show_year_count\"}},\"legend\":{\"tracegroupgap\":0},\"title\":{\"text\":\"Year On Year Shows Launch\"}},                        {\"responsive\": true}                    ).then(function(){\n",
       "                            \n",
       "var gd = document.getElementById('326f545f-7308-416c-98fa-80134d4ff02c');\n",
       "var x = new MutationObserver(function (mutations, observer) {{\n",
       "        var display = window.getComputedStyle(gd).display;\n",
       "        if (!display || display === 'none') {{\n",
       "            console.log([gd, 'removed!']);\n",
       "            Plotly.purge(gd);\n",
       "            observer.disconnect();\n",
       "        }}\n",
       "}});\n",
       "\n",
       "// Listen for the removal of the full notebook cells\n",
       "var notebookContainer = gd.closest('#notebook-container');\n",
       "if (notebookContainer) {{\n",
       "    x.observe(notebookContainer, {childList: true});\n",
       "}}\n",
       "\n",
       "// Listen for the clearing of the current output cell\n",
       "var outputEl = gd.closest('.output');\n",
       "if (outputEl) {{\n",
       "    x.observe(outputEl, {childList: true});\n",
       "}}\n",
       "\n",
       "                        })                };                });            </script>        </div>"
      ]
     },
     "metadata": {},
     "output_type": "display_data"
    }
   ],
   "source": [
    "fig=px.line(df_netflix_year,y='show_year_count',x=df_netflix_year.index,title='Year On Year Shows Launch')\n",
    "fig.show()"
   ]
  },
  {
   "cell_type": "markdown",
   "id": "adeede58",
   "metadata": {
    "papermill": {
     "duration": 0.027746,
     "end_time": "2024-06-26T14:52:09.918418",
     "exception": false,
     "start_time": "2024-06-26T14:52:09.890672",
     "status": "completed"
    },
    "tags": []
   },
   "source": [
    "### Year On Year Shows Added On Netflix"
   ]
  },
  {
   "cell_type": "code",
   "execution_count": 23,
   "id": "181d1621",
   "metadata": {
    "execution": {
     "iopub.execute_input": "2024-06-26T14:52:09.976785Z",
     "iopub.status.busy": "2024-06-26T14:52:09.976331Z",
     "iopub.status.idle": "2024-06-26T14:52:09.988865Z",
     "shell.execute_reply": "2024-06-26T14:52:09.987445Z"
    },
    "papermill": {
     "duration": 0.044687,
     "end_time": "2024-06-26T14:52:09.991231",
     "exception": false,
     "start_time": "2024-06-26T14:52:09.946544",
     "status": "completed"
    },
    "tags": []
   },
   "outputs": [],
   "source": [
    "df_netflix_year_netflix=df_netflix.groupby('year_added').agg({'year_added':'count'}).rename(columns={'year_added':'year_added_count'})"
   ]
  },
  {
   "cell_type": "code",
   "execution_count": 24,
   "id": "4e9e4449",
   "metadata": {
    "execution": {
     "iopub.execute_input": "2024-06-26T14:52:10.049570Z",
     "iopub.status.busy": "2024-06-26T14:52:10.049153Z",
     "iopub.status.idle": "2024-06-26T14:52:10.120645Z",
     "shell.execute_reply": "2024-06-26T14:52:10.119200Z"
    },
    "papermill": {
     "duration": 0.103991,
     "end_time": "2024-06-26T14:52:10.123325",
     "exception": false,
     "start_time": "2024-06-26T14:52:10.019334",
     "status": "completed"
    },
    "tags": []
   },
   "outputs": [
    {
     "data": {
      "text/html": [
       "<div>                            <div id=\"896aef0c-c829-4c14-a0b7-4395499c6900\" class=\"plotly-graph-div\" style=\"height:525px; width:100%;\"></div>            <script type=\"text/javascript\">                require([\"plotly\"], function(Plotly) {                    window.PLOTLYENV=window.PLOTLYENV || {};                                    if (document.getElementById(\"896aef0c-c829-4c14-a0b7-4395499c6900\")) {                    Plotly.newPlot(                        \"896aef0c-c829-4c14-a0b7-4395499c6900\",                        [{\"hovertemplate\":\"year_added=%{x}\\u003cbr\\u003eyear_added_count=%{y}\\u003cextra\\u003e\\u003c\\u002fextra\\u003e\",\"legendgroup\":\"\",\"line\":{\"color\":\"#636efa\",\"dash\":\"solid\"},\"marker\":{\"symbol\":\"circle\"},\"mode\":\"lines\",\"name\":\"\",\"orientation\":\"v\",\"showlegend\":false,\"x\":[\"2008\",\"2009\",\"2010\",\"2011\",\"2012\",\"2013\",\"2014\",\"2015\",\"2016\",\"2017\",\"2018\",\"2019\",\"2020\",\"2021\"],\"xaxis\":\"x\",\"y\":[2,2,1,13,3,11,24,82,429,1188,1649,2016,1879,1498],\"yaxis\":\"y\",\"type\":\"scatter\"}],                        {\"template\":{\"data\":{\"histogram2dcontour\":[{\"type\":\"histogram2dcontour\",\"colorbar\":{\"outlinewidth\":0,\"ticks\":\"\"},\"colorscale\":[[0.0,\"#0d0887\"],[0.1111111111111111,\"#46039f\"],[0.2222222222222222,\"#7201a8\"],[0.3333333333333333,\"#9c179e\"],[0.4444444444444444,\"#bd3786\"],[0.5555555555555556,\"#d8576b\"],[0.6666666666666666,\"#ed7953\"],[0.7777777777777778,\"#fb9f3a\"],[0.8888888888888888,\"#fdca26\"],[1.0,\"#f0f921\"]]}],\"choropleth\":[{\"type\":\"choropleth\",\"colorbar\":{\"outlinewidth\":0,\"ticks\":\"\"}}],\"histogram2d\":[{\"type\":\"histogram2d\",\"colorbar\":{\"outlinewidth\":0,\"ticks\":\"\"},\"colorscale\":[[0.0,\"#0d0887\"],[0.1111111111111111,\"#46039f\"],[0.2222222222222222,\"#7201a8\"],[0.3333333333333333,\"#9c179e\"],[0.4444444444444444,\"#bd3786\"],[0.5555555555555556,\"#d8576b\"],[0.6666666666666666,\"#ed7953\"],[0.7777777777777778,\"#fb9f3a\"],[0.8888888888888888,\"#fdca26\"],[1.0,\"#f0f921\"]]}],\"heatmap\":[{\"type\":\"heatmap\",\"colorbar\":{\"outlinewidth\":0,\"ticks\":\"\"},\"colorscale\":[[0.0,\"#0d0887\"],[0.1111111111111111,\"#46039f\"],[0.2222222222222222,\"#7201a8\"],[0.3333333333333333,\"#9c179e\"],[0.4444444444444444,\"#bd3786\"],[0.5555555555555556,\"#d8576b\"],[0.6666666666666666,\"#ed7953\"],[0.7777777777777778,\"#fb9f3a\"],[0.8888888888888888,\"#fdca26\"],[1.0,\"#f0f921\"]]}],\"heatmapgl\":[{\"type\":\"heatmapgl\",\"colorbar\":{\"outlinewidth\":0,\"ticks\":\"\"},\"colorscale\":[[0.0,\"#0d0887\"],[0.1111111111111111,\"#46039f\"],[0.2222222222222222,\"#7201a8\"],[0.3333333333333333,\"#9c179e\"],[0.4444444444444444,\"#bd3786\"],[0.5555555555555556,\"#d8576b\"],[0.6666666666666666,\"#ed7953\"],[0.7777777777777778,\"#fb9f3a\"],[0.8888888888888888,\"#fdca26\"],[1.0,\"#f0f921\"]]}],\"contourcarpet\":[{\"type\":\"contourcarpet\",\"colorbar\":{\"outlinewidth\":0,\"ticks\":\"\"}}],\"contour\":[{\"type\":\"contour\",\"colorbar\":{\"outlinewidth\":0,\"ticks\":\"\"},\"colorscale\":[[0.0,\"#0d0887\"],[0.1111111111111111,\"#46039f\"],[0.2222222222222222,\"#7201a8\"],[0.3333333333333333,\"#9c179e\"],[0.4444444444444444,\"#bd3786\"],[0.5555555555555556,\"#d8576b\"],[0.6666666666666666,\"#ed7953\"],[0.7777777777777778,\"#fb9f3a\"],[0.8888888888888888,\"#fdca26\"],[1.0,\"#f0f921\"]]}],\"surface\":[{\"type\":\"surface\",\"colorbar\":{\"outlinewidth\":0,\"ticks\":\"\"},\"colorscale\":[[0.0,\"#0d0887\"],[0.1111111111111111,\"#46039f\"],[0.2222222222222222,\"#7201a8\"],[0.3333333333333333,\"#9c179e\"],[0.4444444444444444,\"#bd3786\"],[0.5555555555555556,\"#d8576b\"],[0.6666666666666666,\"#ed7953\"],[0.7777777777777778,\"#fb9f3a\"],[0.8888888888888888,\"#fdca26\"],[1.0,\"#f0f921\"]]}],\"mesh3d\":[{\"type\":\"mesh3d\",\"colorbar\":{\"outlinewidth\":0,\"ticks\":\"\"}}],\"scatter\":[{\"fillpattern\":{\"fillmode\":\"overlay\",\"size\":10,\"solidity\":0.2},\"type\":\"scatter\"}],\"parcoords\":[{\"type\":\"parcoords\",\"line\":{\"colorbar\":{\"outlinewidth\":0,\"ticks\":\"\"}}}],\"scatterpolargl\":[{\"type\":\"scatterpolargl\",\"marker\":{\"colorbar\":{\"outlinewidth\":0,\"ticks\":\"\"}}}],\"bar\":[{\"error_x\":{\"color\":\"#2a3f5f\"},\"error_y\":{\"color\":\"#2a3f5f\"},\"marker\":{\"line\":{\"color\":\"#E5ECF6\",\"width\":0.5},\"pattern\":{\"fillmode\":\"overlay\",\"size\":10,\"solidity\":0.2}},\"type\":\"bar\"}],\"scattergeo\":[{\"type\":\"scattergeo\",\"marker\":{\"colorbar\":{\"outlinewidth\":0,\"ticks\":\"\"}}}],\"scatterpolar\":[{\"type\":\"scatterpolar\",\"marker\":{\"colorbar\":{\"outlinewidth\":0,\"ticks\":\"\"}}}],\"histogram\":[{\"marker\":{\"pattern\":{\"fillmode\":\"overlay\",\"size\":10,\"solidity\":0.2}},\"type\":\"histogram\"}],\"scattergl\":[{\"type\":\"scattergl\",\"marker\":{\"colorbar\":{\"outlinewidth\":0,\"ticks\":\"\"}}}],\"scatter3d\":[{\"type\":\"scatter3d\",\"line\":{\"colorbar\":{\"outlinewidth\":0,\"ticks\":\"\"}},\"marker\":{\"colorbar\":{\"outlinewidth\":0,\"ticks\":\"\"}}}],\"scattermapbox\":[{\"type\":\"scattermapbox\",\"marker\":{\"colorbar\":{\"outlinewidth\":0,\"ticks\":\"\"}}}],\"scatterternary\":[{\"type\":\"scatterternary\",\"marker\":{\"colorbar\":{\"outlinewidth\":0,\"ticks\":\"\"}}}],\"scattercarpet\":[{\"type\":\"scattercarpet\",\"marker\":{\"colorbar\":{\"outlinewidth\":0,\"ticks\":\"\"}}}],\"carpet\":[{\"aaxis\":{\"endlinecolor\":\"#2a3f5f\",\"gridcolor\":\"white\",\"linecolor\":\"white\",\"minorgridcolor\":\"white\",\"startlinecolor\":\"#2a3f5f\"},\"baxis\":{\"endlinecolor\":\"#2a3f5f\",\"gridcolor\":\"white\",\"linecolor\":\"white\",\"minorgridcolor\":\"white\",\"startlinecolor\":\"#2a3f5f\"},\"type\":\"carpet\"}],\"table\":[{\"cells\":{\"fill\":{\"color\":\"#EBF0F8\"},\"line\":{\"color\":\"white\"}},\"header\":{\"fill\":{\"color\":\"#C8D4E3\"},\"line\":{\"color\":\"white\"}},\"type\":\"table\"}],\"barpolar\":[{\"marker\":{\"line\":{\"color\":\"#E5ECF6\",\"width\":0.5},\"pattern\":{\"fillmode\":\"overlay\",\"size\":10,\"solidity\":0.2}},\"type\":\"barpolar\"}],\"pie\":[{\"automargin\":true,\"type\":\"pie\"}]},\"layout\":{\"autotypenumbers\":\"strict\",\"colorway\":[\"#636efa\",\"#EF553B\",\"#00cc96\",\"#ab63fa\",\"#FFA15A\",\"#19d3f3\",\"#FF6692\",\"#B6E880\",\"#FF97FF\",\"#FECB52\"],\"font\":{\"color\":\"#2a3f5f\"},\"hovermode\":\"closest\",\"hoverlabel\":{\"align\":\"left\"},\"paper_bgcolor\":\"white\",\"plot_bgcolor\":\"#E5ECF6\",\"polar\":{\"bgcolor\":\"#E5ECF6\",\"angularaxis\":{\"gridcolor\":\"white\",\"linecolor\":\"white\",\"ticks\":\"\"},\"radialaxis\":{\"gridcolor\":\"white\",\"linecolor\":\"white\",\"ticks\":\"\"}},\"ternary\":{\"bgcolor\":\"#E5ECF6\",\"aaxis\":{\"gridcolor\":\"white\",\"linecolor\":\"white\",\"ticks\":\"\"},\"baxis\":{\"gridcolor\":\"white\",\"linecolor\":\"white\",\"ticks\":\"\"},\"caxis\":{\"gridcolor\":\"white\",\"linecolor\":\"white\",\"ticks\":\"\"}},\"coloraxis\":{\"colorbar\":{\"outlinewidth\":0,\"ticks\":\"\"}},\"colorscale\":{\"sequential\":[[0.0,\"#0d0887\"],[0.1111111111111111,\"#46039f\"],[0.2222222222222222,\"#7201a8\"],[0.3333333333333333,\"#9c179e\"],[0.4444444444444444,\"#bd3786\"],[0.5555555555555556,\"#d8576b\"],[0.6666666666666666,\"#ed7953\"],[0.7777777777777778,\"#fb9f3a\"],[0.8888888888888888,\"#fdca26\"],[1.0,\"#f0f921\"]],\"sequentialminus\":[[0.0,\"#0d0887\"],[0.1111111111111111,\"#46039f\"],[0.2222222222222222,\"#7201a8\"],[0.3333333333333333,\"#9c179e\"],[0.4444444444444444,\"#bd3786\"],[0.5555555555555556,\"#d8576b\"],[0.6666666666666666,\"#ed7953\"],[0.7777777777777778,\"#fb9f3a\"],[0.8888888888888888,\"#fdca26\"],[1.0,\"#f0f921\"]],\"diverging\":[[0,\"#8e0152\"],[0.1,\"#c51b7d\"],[0.2,\"#de77ae\"],[0.3,\"#f1b6da\"],[0.4,\"#fde0ef\"],[0.5,\"#f7f7f7\"],[0.6,\"#e6f5d0\"],[0.7,\"#b8e186\"],[0.8,\"#7fbc41\"],[0.9,\"#4d9221\"],[1,\"#276419\"]]},\"xaxis\":{\"gridcolor\":\"white\",\"linecolor\":\"white\",\"ticks\":\"\",\"title\":{\"standoff\":15},\"zerolinecolor\":\"white\",\"automargin\":true,\"zerolinewidth\":2},\"yaxis\":{\"gridcolor\":\"white\",\"linecolor\":\"white\",\"ticks\":\"\",\"title\":{\"standoff\":15},\"zerolinecolor\":\"white\",\"automargin\":true,\"zerolinewidth\":2},\"scene\":{\"xaxis\":{\"backgroundcolor\":\"#E5ECF6\",\"gridcolor\":\"white\",\"linecolor\":\"white\",\"showbackground\":true,\"ticks\":\"\",\"zerolinecolor\":\"white\",\"gridwidth\":2},\"yaxis\":{\"backgroundcolor\":\"#E5ECF6\",\"gridcolor\":\"white\",\"linecolor\":\"white\",\"showbackground\":true,\"ticks\":\"\",\"zerolinecolor\":\"white\",\"gridwidth\":2},\"zaxis\":{\"backgroundcolor\":\"#E5ECF6\",\"gridcolor\":\"white\",\"linecolor\":\"white\",\"showbackground\":true,\"ticks\":\"\",\"zerolinecolor\":\"white\",\"gridwidth\":2}},\"shapedefaults\":{\"line\":{\"color\":\"#2a3f5f\"}},\"annotationdefaults\":{\"arrowcolor\":\"#2a3f5f\",\"arrowhead\":0,\"arrowwidth\":1},\"geo\":{\"bgcolor\":\"white\",\"landcolor\":\"#E5ECF6\",\"subunitcolor\":\"white\",\"showland\":true,\"showlakes\":true,\"lakecolor\":\"white\"},\"title\":{\"x\":0.05},\"mapbox\":{\"style\":\"light\"}}},\"xaxis\":{\"anchor\":\"y\",\"domain\":[0.0,1.0],\"title\":{\"text\":\"year_added\"}},\"yaxis\":{\"anchor\":\"x\",\"domain\":[0.0,1.0],\"title\":{\"text\":\"year_added_count\"}},\"legend\":{\"tracegroupgap\":0},\"title\":{\"text\":\"Year On Year Shows Added On Netflix\"}},                        {\"responsive\": true}                    ).then(function(){\n",
       "                            \n",
       "var gd = document.getElementById('896aef0c-c829-4c14-a0b7-4395499c6900');\n",
       "var x = new MutationObserver(function (mutations, observer) {{\n",
       "        var display = window.getComputedStyle(gd).display;\n",
       "        if (!display || display === 'none') {{\n",
       "            console.log([gd, 'removed!']);\n",
       "            Plotly.purge(gd);\n",
       "            observer.disconnect();\n",
       "        }}\n",
       "}});\n",
       "\n",
       "// Listen for the removal of the full notebook cells\n",
       "var notebookContainer = gd.closest('#notebook-container');\n",
       "if (notebookContainer) {{\n",
       "    x.observe(notebookContainer, {childList: true});\n",
       "}}\n",
       "\n",
       "// Listen for the clearing of the current output cell\n",
       "var outputEl = gd.closest('.output');\n",
       "if (outputEl) {{\n",
       "    x.observe(outputEl, {childList: true});\n",
       "}}\n",
       "\n",
       "                        })                };                });            </script>        </div>"
      ]
     },
     "metadata": {},
     "output_type": "display_data"
    }
   ],
   "source": [
    "fig=px.line(df_netflix_year_netflix,y='year_added_count',x=df_netflix_year_netflix.index,title='Year On Year Shows Added On Netflix')\n",
    "fig.show()"
   ]
  },
  {
   "cell_type": "markdown",
   "id": "54690ecb",
   "metadata": {
    "papermill": {
     "duration": 0.028421,
     "end_time": "2024-06-26T14:52:10.180643",
     "exception": false,
     "start_time": "2024-06-26T14:52:10.152222",
     "status": "completed"
    },
    "tags": []
   },
   "source": [
    "### Rating Count On Netflix"
   ]
  },
  {
   "cell_type": "code",
   "execution_count": 25,
   "id": "76e073c0",
   "metadata": {
    "execution": {
     "iopub.execute_input": "2024-06-26T14:52:10.241263Z",
     "iopub.status.busy": "2024-06-26T14:52:10.240869Z",
     "iopub.status.idle": "2024-06-26T14:52:10.251657Z",
     "shell.execute_reply": "2024-06-26T14:52:10.250562Z"
    },
    "papermill": {
     "duration": 0.04481,
     "end_time": "2024-06-26T14:52:10.254652",
     "exception": false,
     "start_time": "2024-06-26T14:52:10.209842",
     "status": "completed"
    },
    "tags": []
   },
   "outputs": [],
   "source": [
    "df_netflix['rating']=df_netflix['rating'].replace({'66 min':'Not Available','74 min':'Not Available','84 min':'Not Available'})"
   ]
  },
  {
   "cell_type": "code",
   "execution_count": 26,
   "id": "fb4007f8",
   "metadata": {
    "execution": {
     "iopub.execute_input": "2024-06-26T14:52:10.323916Z",
     "iopub.status.busy": "2024-06-26T14:52:10.322952Z",
     "iopub.status.idle": "2024-06-26T14:52:10.339527Z",
     "shell.execute_reply": "2024-06-26T14:52:10.336622Z"
    },
    "papermill": {
     "duration": 0.058544,
     "end_time": "2024-06-26T14:52:10.342628",
     "exception": false,
     "start_time": "2024-06-26T14:52:10.284084",
     "status": "completed"
    },
    "tags": []
   },
   "outputs": [],
   "source": [
    "df_netflix_rating=df_netflix.groupby('rating').agg({'rating':'count'}).rename(columns={'rating':'show_rating_count'})"
   ]
  },
  {
   "cell_type": "code",
   "execution_count": 27,
   "id": "693d9894",
   "metadata": {
    "execution": {
     "iopub.execute_input": "2024-06-26T14:52:10.405742Z",
     "iopub.status.busy": "2024-06-26T14:52:10.405310Z",
     "iopub.status.idle": "2024-06-26T14:52:10.515377Z",
     "shell.execute_reply": "2024-06-26T14:52:10.513395Z"
    },
    "papermill": {
     "duration": 0.143712,
     "end_time": "2024-06-26T14:52:10.518692",
     "exception": false,
     "start_time": "2024-06-26T14:52:10.374980",
     "status": "completed"
    },
    "tags": []
   },
   "outputs": [
    {
     "data": {
      "text/html": [
       "<div>                            <div id=\"80df1b58-0e6c-404c-b6f0-c34fab96625e\" class=\"plotly-graph-div\" style=\"height:525px; width:100%;\"></div>            <script type=\"text/javascript\">                require([\"plotly\"], function(Plotly) {                    window.PLOTLYENV=window.PLOTLYENV || {};                                    if (document.getElementById(\"80df1b58-0e6c-404c-b6f0-c34fab96625e\")) {                    Plotly.newPlot(                        \"80df1b58-0e6c-404c-b6f0-c34fab96625e\",                        [{\"alignmentgroup\":\"True\",\"hovertemplate\":\"rating=%{x}\\u003cbr\\u003eshow_rating_count=%{y}\\u003cextra\\u003e\\u003c\\u002fextra\\u003e\",\"legendgroup\":\"\",\"marker\":{\"color\":\"#636efa\",\"pattern\":{\"shape\":\"\"}},\"name\":\"\",\"offsetgroup\":\"\",\"orientation\":\"v\",\"showlegend\":false,\"textposition\":\"auto\",\"x\":[\"G\",\"NC-17\",\"NR\",\"Not Available\",\"PG\",\"PG-13\",\"R\",\"TV-14\",\"TV-G\",\"TV-MA\",\"TV-PG\",\"TV-Y\",\"TV-Y7\",\"TV-Y7-FV\",\"UR\"],\"xaxis\":\"x\",\"y\":[41,3,80,3,287,490,799,2160,220,3207,863,307,334,6,3],\"yaxis\":\"y\",\"type\":\"bar\"}],                        {\"template\":{\"data\":{\"histogram2dcontour\":[{\"type\":\"histogram2dcontour\",\"colorbar\":{\"outlinewidth\":0,\"ticks\":\"\"},\"colorscale\":[[0.0,\"#0d0887\"],[0.1111111111111111,\"#46039f\"],[0.2222222222222222,\"#7201a8\"],[0.3333333333333333,\"#9c179e\"],[0.4444444444444444,\"#bd3786\"],[0.5555555555555556,\"#d8576b\"],[0.6666666666666666,\"#ed7953\"],[0.7777777777777778,\"#fb9f3a\"],[0.8888888888888888,\"#fdca26\"],[1.0,\"#f0f921\"]]}],\"choropleth\":[{\"type\":\"choropleth\",\"colorbar\":{\"outlinewidth\":0,\"ticks\":\"\"}}],\"histogram2d\":[{\"type\":\"histogram2d\",\"colorbar\":{\"outlinewidth\":0,\"ticks\":\"\"},\"colorscale\":[[0.0,\"#0d0887\"],[0.1111111111111111,\"#46039f\"],[0.2222222222222222,\"#7201a8\"],[0.3333333333333333,\"#9c179e\"],[0.4444444444444444,\"#bd3786\"],[0.5555555555555556,\"#d8576b\"],[0.6666666666666666,\"#ed7953\"],[0.7777777777777778,\"#fb9f3a\"],[0.8888888888888888,\"#fdca26\"],[1.0,\"#f0f921\"]]}],\"heatmap\":[{\"type\":\"heatmap\",\"colorbar\":{\"outlinewidth\":0,\"ticks\":\"\"},\"colorscale\":[[0.0,\"#0d0887\"],[0.1111111111111111,\"#46039f\"],[0.2222222222222222,\"#7201a8\"],[0.3333333333333333,\"#9c179e\"],[0.4444444444444444,\"#bd3786\"],[0.5555555555555556,\"#d8576b\"],[0.6666666666666666,\"#ed7953\"],[0.7777777777777778,\"#fb9f3a\"],[0.8888888888888888,\"#fdca26\"],[1.0,\"#f0f921\"]]}],\"heatmapgl\":[{\"type\":\"heatmapgl\",\"colorbar\":{\"outlinewidth\":0,\"ticks\":\"\"},\"colorscale\":[[0.0,\"#0d0887\"],[0.1111111111111111,\"#46039f\"],[0.2222222222222222,\"#7201a8\"],[0.3333333333333333,\"#9c179e\"],[0.4444444444444444,\"#bd3786\"],[0.5555555555555556,\"#d8576b\"],[0.6666666666666666,\"#ed7953\"],[0.7777777777777778,\"#fb9f3a\"],[0.8888888888888888,\"#fdca26\"],[1.0,\"#f0f921\"]]}],\"contourcarpet\":[{\"type\":\"contourcarpet\",\"colorbar\":{\"outlinewidth\":0,\"ticks\":\"\"}}],\"contour\":[{\"type\":\"contour\",\"colorbar\":{\"outlinewidth\":0,\"ticks\":\"\"},\"colorscale\":[[0.0,\"#0d0887\"],[0.1111111111111111,\"#46039f\"],[0.2222222222222222,\"#7201a8\"],[0.3333333333333333,\"#9c179e\"],[0.4444444444444444,\"#bd3786\"],[0.5555555555555556,\"#d8576b\"],[0.6666666666666666,\"#ed7953\"],[0.7777777777777778,\"#fb9f3a\"],[0.8888888888888888,\"#fdca26\"],[1.0,\"#f0f921\"]]}],\"surface\":[{\"type\":\"surface\",\"colorbar\":{\"outlinewidth\":0,\"ticks\":\"\"},\"colorscale\":[[0.0,\"#0d0887\"],[0.1111111111111111,\"#46039f\"],[0.2222222222222222,\"#7201a8\"],[0.3333333333333333,\"#9c179e\"],[0.4444444444444444,\"#bd3786\"],[0.5555555555555556,\"#d8576b\"],[0.6666666666666666,\"#ed7953\"],[0.7777777777777778,\"#fb9f3a\"],[0.8888888888888888,\"#fdca26\"],[1.0,\"#f0f921\"]]}],\"mesh3d\":[{\"type\":\"mesh3d\",\"colorbar\":{\"outlinewidth\":0,\"ticks\":\"\"}}],\"scatter\":[{\"fillpattern\":{\"fillmode\":\"overlay\",\"size\":10,\"solidity\":0.2},\"type\":\"scatter\"}],\"parcoords\":[{\"type\":\"parcoords\",\"line\":{\"colorbar\":{\"outlinewidth\":0,\"ticks\":\"\"}}}],\"scatterpolargl\":[{\"type\":\"scatterpolargl\",\"marker\":{\"colorbar\":{\"outlinewidth\":0,\"ticks\":\"\"}}}],\"bar\":[{\"error_x\":{\"color\":\"#2a3f5f\"},\"error_y\":{\"color\":\"#2a3f5f\"},\"marker\":{\"line\":{\"color\":\"#E5ECF6\",\"width\":0.5},\"pattern\":{\"fillmode\":\"overlay\",\"size\":10,\"solidity\":0.2}},\"type\":\"bar\"}],\"scattergeo\":[{\"type\":\"scattergeo\",\"marker\":{\"colorbar\":{\"outlinewidth\":0,\"ticks\":\"\"}}}],\"scatterpolar\":[{\"type\":\"scatterpolar\",\"marker\":{\"colorbar\":{\"outlinewidth\":0,\"ticks\":\"\"}}}],\"histogram\":[{\"marker\":{\"pattern\":{\"fillmode\":\"overlay\",\"size\":10,\"solidity\":0.2}},\"type\":\"histogram\"}],\"scattergl\":[{\"type\":\"scattergl\",\"marker\":{\"colorbar\":{\"outlinewidth\":0,\"ticks\":\"\"}}}],\"scatter3d\":[{\"type\":\"scatter3d\",\"line\":{\"colorbar\":{\"outlinewidth\":0,\"ticks\":\"\"}},\"marker\":{\"colorbar\":{\"outlinewidth\":0,\"ticks\":\"\"}}}],\"scattermapbox\":[{\"type\":\"scattermapbox\",\"marker\":{\"colorbar\":{\"outlinewidth\":0,\"ticks\":\"\"}}}],\"scatterternary\":[{\"type\":\"scatterternary\",\"marker\":{\"colorbar\":{\"outlinewidth\":0,\"ticks\":\"\"}}}],\"scattercarpet\":[{\"type\":\"scattercarpet\",\"marker\":{\"colorbar\":{\"outlinewidth\":0,\"ticks\":\"\"}}}],\"carpet\":[{\"aaxis\":{\"endlinecolor\":\"#2a3f5f\",\"gridcolor\":\"white\",\"linecolor\":\"white\",\"minorgridcolor\":\"white\",\"startlinecolor\":\"#2a3f5f\"},\"baxis\":{\"endlinecolor\":\"#2a3f5f\",\"gridcolor\":\"white\",\"linecolor\":\"white\",\"minorgridcolor\":\"white\",\"startlinecolor\":\"#2a3f5f\"},\"type\":\"carpet\"}],\"table\":[{\"cells\":{\"fill\":{\"color\":\"#EBF0F8\"},\"line\":{\"color\":\"white\"}},\"header\":{\"fill\":{\"color\":\"#C8D4E3\"},\"line\":{\"color\":\"white\"}},\"type\":\"table\"}],\"barpolar\":[{\"marker\":{\"line\":{\"color\":\"#E5ECF6\",\"width\":0.5},\"pattern\":{\"fillmode\":\"overlay\",\"size\":10,\"solidity\":0.2}},\"type\":\"barpolar\"}],\"pie\":[{\"automargin\":true,\"type\":\"pie\"}]},\"layout\":{\"autotypenumbers\":\"strict\",\"colorway\":[\"#636efa\",\"#EF553B\",\"#00cc96\",\"#ab63fa\",\"#FFA15A\",\"#19d3f3\",\"#FF6692\",\"#B6E880\",\"#FF97FF\",\"#FECB52\"],\"font\":{\"color\":\"#2a3f5f\"},\"hovermode\":\"closest\",\"hoverlabel\":{\"align\":\"left\"},\"paper_bgcolor\":\"white\",\"plot_bgcolor\":\"#E5ECF6\",\"polar\":{\"bgcolor\":\"#E5ECF6\",\"angularaxis\":{\"gridcolor\":\"white\",\"linecolor\":\"white\",\"ticks\":\"\"},\"radialaxis\":{\"gridcolor\":\"white\",\"linecolor\":\"white\",\"ticks\":\"\"}},\"ternary\":{\"bgcolor\":\"#E5ECF6\",\"aaxis\":{\"gridcolor\":\"white\",\"linecolor\":\"white\",\"ticks\":\"\"},\"baxis\":{\"gridcolor\":\"white\",\"linecolor\":\"white\",\"ticks\":\"\"},\"caxis\":{\"gridcolor\":\"white\",\"linecolor\":\"white\",\"ticks\":\"\"}},\"coloraxis\":{\"colorbar\":{\"outlinewidth\":0,\"ticks\":\"\"}},\"colorscale\":{\"sequential\":[[0.0,\"#0d0887\"],[0.1111111111111111,\"#46039f\"],[0.2222222222222222,\"#7201a8\"],[0.3333333333333333,\"#9c179e\"],[0.4444444444444444,\"#bd3786\"],[0.5555555555555556,\"#d8576b\"],[0.6666666666666666,\"#ed7953\"],[0.7777777777777778,\"#fb9f3a\"],[0.8888888888888888,\"#fdca26\"],[1.0,\"#f0f921\"]],\"sequentialminus\":[[0.0,\"#0d0887\"],[0.1111111111111111,\"#46039f\"],[0.2222222222222222,\"#7201a8\"],[0.3333333333333333,\"#9c179e\"],[0.4444444444444444,\"#bd3786\"],[0.5555555555555556,\"#d8576b\"],[0.6666666666666666,\"#ed7953\"],[0.7777777777777778,\"#fb9f3a\"],[0.8888888888888888,\"#fdca26\"],[1.0,\"#f0f921\"]],\"diverging\":[[0,\"#8e0152\"],[0.1,\"#c51b7d\"],[0.2,\"#de77ae\"],[0.3,\"#f1b6da\"],[0.4,\"#fde0ef\"],[0.5,\"#f7f7f7\"],[0.6,\"#e6f5d0\"],[0.7,\"#b8e186\"],[0.8,\"#7fbc41\"],[0.9,\"#4d9221\"],[1,\"#276419\"]]},\"xaxis\":{\"gridcolor\":\"white\",\"linecolor\":\"white\",\"ticks\":\"\",\"title\":{\"standoff\":15},\"zerolinecolor\":\"white\",\"automargin\":true,\"zerolinewidth\":2},\"yaxis\":{\"gridcolor\":\"white\",\"linecolor\":\"white\",\"ticks\":\"\",\"title\":{\"standoff\":15},\"zerolinecolor\":\"white\",\"automargin\":true,\"zerolinewidth\":2},\"scene\":{\"xaxis\":{\"backgroundcolor\":\"#E5ECF6\",\"gridcolor\":\"white\",\"linecolor\":\"white\",\"showbackground\":true,\"ticks\":\"\",\"zerolinecolor\":\"white\",\"gridwidth\":2},\"yaxis\":{\"backgroundcolor\":\"#E5ECF6\",\"gridcolor\":\"white\",\"linecolor\":\"white\",\"showbackground\":true,\"ticks\":\"\",\"zerolinecolor\":\"white\",\"gridwidth\":2},\"zaxis\":{\"backgroundcolor\":\"#E5ECF6\",\"gridcolor\":\"white\",\"linecolor\":\"white\",\"showbackground\":true,\"ticks\":\"\",\"zerolinecolor\":\"white\",\"gridwidth\":2}},\"shapedefaults\":{\"line\":{\"color\":\"#2a3f5f\"}},\"annotationdefaults\":{\"arrowcolor\":\"#2a3f5f\",\"arrowhead\":0,\"arrowwidth\":1},\"geo\":{\"bgcolor\":\"white\",\"landcolor\":\"#E5ECF6\",\"subunitcolor\":\"white\",\"showland\":true,\"showlakes\":true,\"lakecolor\":\"white\"},\"title\":{\"x\":0.05},\"mapbox\":{\"style\":\"light\"}}},\"xaxis\":{\"anchor\":\"y\",\"domain\":[0.0,1.0],\"title\":{\"text\":\"rating\"}},\"yaxis\":{\"anchor\":\"x\",\"domain\":[0.0,1.0],\"title\":{\"text\":\"show_rating_count\"}},\"legend\":{\"tracegroupgap\":0},\"title\":{\"text\":\"Shows Rating Count\"},\"barmode\":\"relative\"},                        {\"responsive\": true}                    ).then(function(){\n",
       "                            \n",
       "var gd = document.getElementById('80df1b58-0e6c-404c-b6f0-c34fab96625e');\n",
       "var x = new MutationObserver(function (mutations, observer) {{\n",
       "        var display = window.getComputedStyle(gd).display;\n",
       "        if (!display || display === 'none') {{\n",
       "            console.log([gd, 'removed!']);\n",
       "            Plotly.purge(gd);\n",
       "            observer.disconnect();\n",
       "        }}\n",
       "}});\n",
       "\n",
       "// Listen for the removal of the full notebook cells\n",
       "var notebookContainer = gd.closest('#notebook-container');\n",
       "if (notebookContainer) {{\n",
       "    x.observe(notebookContainer, {childList: true});\n",
       "}}\n",
       "\n",
       "// Listen for the clearing of the current output cell\n",
       "var outputEl = gd.closest('.output');\n",
       "if (outputEl) {{\n",
       "    x.observe(outputEl, {childList: true});\n",
       "}}\n",
       "\n",
       "                        })                };                });            </script>        </div>"
      ]
     },
     "metadata": {},
     "output_type": "display_data"
    }
   ],
   "source": [
    "fig=px.bar(df_netflix_rating,y='show_rating_count',x=df_netflix_rating.index,title='Shows Rating Count')\n",
    "fig.show()"
   ]
  },
  {
   "cell_type": "markdown",
   "id": "7a55df8b",
   "metadata": {
    "papermill": {
     "duration": 0.028531,
     "end_time": "2024-06-26T14:52:10.576517",
     "exception": false,
     "start_time": "2024-06-26T14:52:10.547986",
     "status": "completed"
    },
    "tags": []
   },
   "source": [
    "### Shows Type Count On Netflix"
   ]
  },
  {
   "cell_type": "code",
   "execution_count": 28,
   "id": "47e3ccbe",
   "metadata": {
    "execution": {
     "iopub.execute_input": "2024-06-26T14:52:10.636993Z",
     "iopub.status.busy": "2024-06-26T14:52:10.636537Z",
     "iopub.status.idle": "2024-06-26T14:52:10.648319Z",
     "shell.execute_reply": "2024-06-26T14:52:10.646804Z"
    },
    "papermill": {
     "duration": 0.044943,
     "end_time": "2024-06-26T14:52:10.651183",
     "exception": false,
     "start_time": "2024-06-26T14:52:10.606240",
     "status": "completed"
    },
    "tags": []
   },
   "outputs": [],
   "source": [
    "df_netflix_type=df_netflix.groupby('type').agg({'type':'count'}).rename(columns={'type':'show_type_count'})"
   ]
  },
  {
   "cell_type": "code",
   "execution_count": 29,
   "id": "5b41e6c4",
   "metadata": {
    "execution": {
     "iopub.execute_input": "2024-06-26T14:52:10.723973Z",
     "iopub.status.busy": "2024-06-26T14:52:10.722737Z",
     "iopub.status.idle": "2024-06-26T14:52:10.808500Z",
     "shell.execute_reply": "2024-06-26T14:52:10.807244Z"
    },
    "papermill": {
     "duration": 0.122565,
     "end_time": "2024-06-26T14:52:10.811269",
     "exception": false,
     "start_time": "2024-06-26T14:52:10.688704",
     "status": "completed"
    },
    "tags": []
   },
   "outputs": [
    {
     "data": {
      "text/html": [
       "<div>                            <div id=\"3ba1ece0-b742-42ca-bf08-5f163572ba5d\" class=\"plotly-graph-div\" style=\"height:525px; width:100%;\"></div>            <script type=\"text/javascript\">                require([\"plotly\"], function(Plotly) {                    window.PLOTLYENV=window.PLOTLYENV || {};                                    if (document.getElementById(\"3ba1ece0-b742-42ca-bf08-5f163572ba5d\")) {                    Plotly.newPlot(                        \"3ba1ece0-b742-42ca-bf08-5f163572ba5d\",                        [{\"alignmentgroup\":\"True\",\"hovertemplate\":\"type=%{x}\\u003cbr\\u003eshow_type_count=%{y}\\u003cextra\\u003e\\u003c\\u002fextra\\u003e\",\"legendgroup\":\"\",\"marker\":{\"color\":\"#636efa\",\"pattern\":{\"shape\":\"\"}},\"name\":\"\",\"offsetgroup\":\"\",\"orientation\":\"v\",\"showlegend\":false,\"textposition\":\"auto\",\"x\":[\"Movie\",\"TV Show\"],\"xaxis\":\"x\",\"y\":[6131,2676],\"yaxis\":\"y\",\"type\":\"bar\"}],                        {\"template\":{\"data\":{\"histogram2dcontour\":[{\"type\":\"histogram2dcontour\",\"colorbar\":{\"outlinewidth\":0,\"ticks\":\"\"},\"colorscale\":[[0.0,\"#0d0887\"],[0.1111111111111111,\"#46039f\"],[0.2222222222222222,\"#7201a8\"],[0.3333333333333333,\"#9c179e\"],[0.4444444444444444,\"#bd3786\"],[0.5555555555555556,\"#d8576b\"],[0.6666666666666666,\"#ed7953\"],[0.7777777777777778,\"#fb9f3a\"],[0.8888888888888888,\"#fdca26\"],[1.0,\"#f0f921\"]]}],\"choropleth\":[{\"type\":\"choropleth\",\"colorbar\":{\"outlinewidth\":0,\"ticks\":\"\"}}],\"histogram2d\":[{\"type\":\"histogram2d\",\"colorbar\":{\"outlinewidth\":0,\"ticks\":\"\"},\"colorscale\":[[0.0,\"#0d0887\"],[0.1111111111111111,\"#46039f\"],[0.2222222222222222,\"#7201a8\"],[0.3333333333333333,\"#9c179e\"],[0.4444444444444444,\"#bd3786\"],[0.5555555555555556,\"#d8576b\"],[0.6666666666666666,\"#ed7953\"],[0.7777777777777778,\"#fb9f3a\"],[0.8888888888888888,\"#fdca26\"],[1.0,\"#f0f921\"]]}],\"heatmap\":[{\"type\":\"heatmap\",\"colorbar\":{\"outlinewidth\":0,\"ticks\":\"\"},\"colorscale\":[[0.0,\"#0d0887\"],[0.1111111111111111,\"#46039f\"],[0.2222222222222222,\"#7201a8\"],[0.3333333333333333,\"#9c179e\"],[0.4444444444444444,\"#bd3786\"],[0.5555555555555556,\"#d8576b\"],[0.6666666666666666,\"#ed7953\"],[0.7777777777777778,\"#fb9f3a\"],[0.8888888888888888,\"#fdca26\"],[1.0,\"#f0f921\"]]}],\"heatmapgl\":[{\"type\":\"heatmapgl\",\"colorbar\":{\"outlinewidth\":0,\"ticks\":\"\"},\"colorscale\":[[0.0,\"#0d0887\"],[0.1111111111111111,\"#46039f\"],[0.2222222222222222,\"#7201a8\"],[0.3333333333333333,\"#9c179e\"],[0.4444444444444444,\"#bd3786\"],[0.5555555555555556,\"#d8576b\"],[0.6666666666666666,\"#ed7953\"],[0.7777777777777778,\"#fb9f3a\"],[0.8888888888888888,\"#fdca26\"],[1.0,\"#f0f921\"]]}],\"contourcarpet\":[{\"type\":\"contourcarpet\",\"colorbar\":{\"outlinewidth\":0,\"ticks\":\"\"}}],\"contour\":[{\"type\":\"contour\",\"colorbar\":{\"outlinewidth\":0,\"ticks\":\"\"},\"colorscale\":[[0.0,\"#0d0887\"],[0.1111111111111111,\"#46039f\"],[0.2222222222222222,\"#7201a8\"],[0.3333333333333333,\"#9c179e\"],[0.4444444444444444,\"#bd3786\"],[0.5555555555555556,\"#d8576b\"],[0.6666666666666666,\"#ed7953\"],[0.7777777777777778,\"#fb9f3a\"],[0.8888888888888888,\"#fdca26\"],[1.0,\"#f0f921\"]]}],\"surface\":[{\"type\":\"surface\",\"colorbar\":{\"outlinewidth\":0,\"ticks\":\"\"},\"colorscale\":[[0.0,\"#0d0887\"],[0.1111111111111111,\"#46039f\"],[0.2222222222222222,\"#7201a8\"],[0.3333333333333333,\"#9c179e\"],[0.4444444444444444,\"#bd3786\"],[0.5555555555555556,\"#d8576b\"],[0.6666666666666666,\"#ed7953\"],[0.7777777777777778,\"#fb9f3a\"],[0.8888888888888888,\"#fdca26\"],[1.0,\"#f0f921\"]]}],\"mesh3d\":[{\"type\":\"mesh3d\",\"colorbar\":{\"outlinewidth\":0,\"ticks\":\"\"}}],\"scatter\":[{\"fillpattern\":{\"fillmode\":\"overlay\",\"size\":10,\"solidity\":0.2},\"type\":\"scatter\"}],\"parcoords\":[{\"type\":\"parcoords\",\"line\":{\"colorbar\":{\"outlinewidth\":0,\"ticks\":\"\"}}}],\"scatterpolargl\":[{\"type\":\"scatterpolargl\",\"marker\":{\"colorbar\":{\"outlinewidth\":0,\"ticks\":\"\"}}}],\"bar\":[{\"error_x\":{\"color\":\"#2a3f5f\"},\"error_y\":{\"color\":\"#2a3f5f\"},\"marker\":{\"line\":{\"color\":\"#E5ECF6\",\"width\":0.5},\"pattern\":{\"fillmode\":\"overlay\",\"size\":10,\"solidity\":0.2}},\"type\":\"bar\"}],\"scattergeo\":[{\"type\":\"scattergeo\",\"marker\":{\"colorbar\":{\"outlinewidth\":0,\"ticks\":\"\"}}}],\"scatterpolar\":[{\"type\":\"scatterpolar\",\"marker\":{\"colorbar\":{\"outlinewidth\":0,\"ticks\":\"\"}}}],\"histogram\":[{\"marker\":{\"pattern\":{\"fillmode\":\"overlay\",\"size\":10,\"solidity\":0.2}},\"type\":\"histogram\"}],\"scattergl\":[{\"type\":\"scattergl\",\"marker\":{\"colorbar\":{\"outlinewidth\":0,\"ticks\":\"\"}}}],\"scatter3d\":[{\"type\":\"scatter3d\",\"line\":{\"colorbar\":{\"outlinewidth\":0,\"ticks\":\"\"}},\"marker\":{\"colorbar\":{\"outlinewidth\":0,\"ticks\":\"\"}}}],\"scattermapbox\":[{\"type\":\"scattermapbox\",\"marker\":{\"colorbar\":{\"outlinewidth\":0,\"ticks\":\"\"}}}],\"scatterternary\":[{\"type\":\"scatterternary\",\"marker\":{\"colorbar\":{\"outlinewidth\":0,\"ticks\":\"\"}}}],\"scattercarpet\":[{\"type\":\"scattercarpet\",\"marker\":{\"colorbar\":{\"outlinewidth\":0,\"ticks\":\"\"}}}],\"carpet\":[{\"aaxis\":{\"endlinecolor\":\"#2a3f5f\",\"gridcolor\":\"white\",\"linecolor\":\"white\",\"minorgridcolor\":\"white\",\"startlinecolor\":\"#2a3f5f\"},\"baxis\":{\"endlinecolor\":\"#2a3f5f\",\"gridcolor\":\"white\",\"linecolor\":\"white\",\"minorgridcolor\":\"white\",\"startlinecolor\":\"#2a3f5f\"},\"type\":\"carpet\"}],\"table\":[{\"cells\":{\"fill\":{\"color\":\"#EBF0F8\"},\"line\":{\"color\":\"white\"}},\"header\":{\"fill\":{\"color\":\"#C8D4E3\"},\"line\":{\"color\":\"white\"}},\"type\":\"table\"}],\"barpolar\":[{\"marker\":{\"line\":{\"color\":\"#E5ECF6\",\"width\":0.5},\"pattern\":{\"fillmode\":\"overlay\",\"size\":10,\"solidity\":0.2}},\"type\":\"barpolar\"}],\"pie\":[{\"automargin\":true,\"type\":\"pie\"}]},\"layout\":{\"autotypenumbers\":\"strict\",\"colorway\":[\"#636efa\",\"#EF553B\",\"#00cc96\",\"#ab63fa\",\"#FFA15A\",\"#19d3f3\",\"#FF6692\",\"#B6E880\",\"#FF97FF\",\"#FECB52\"],\"font\":{\"color\":\"#2a3f5f\"},\"hovermode\":\"closest\",\"hoverlabel\":{\"align\":\"left\"},\"paper_bgcolor\":\"white\",\"plot_bgcolor\":\"#E5ECF6\",\"polar\":{\"bgcolor\":\"#E5ECF6\",\"angularaxis\":{\"gridcolor\":\"white\",\"linecolor\":\"white\",\"ticks\":\"\"},\"radialaxis\":{\"gridcolor\":\"white\",\"linecolor\":\"white\",\"ticks\":\"\"}},\"ternary\":{\"bgcolor\":\"#E5ECF6\",\"aaxis\":{\"gridcolor\":\"white\",\"linecolor\":\"white\",\"ticks\":\"\"},\"baxis\":{\"gridcolor\":\"white\",\"linecolor\":\"white\",\"ticks\":\"\"},\"caxis\":{\"gridcolor\":\"white\",\"linecolor\":\"white\",\"ticks\":\"\"}},\"coloraxis\":{\"colorbar\":{\"outlinewidth\":0,\"ticks\":\"\"}},\"colorscale\":{\"sequential\":[[0.0,\"#0d0887\"],[0.1111111111111111,\"#46039f\"],[0.2222222222222222,\"#7201a8\"],[0.3333333333333333,\"#9c179e\"],[0.4444444444444444,\"#bd3786\"],[0.5555555555555556,\"#d8576b\"],[0.6666666666666666,\"#ed7953\"],[0.7777777777777778,\"#fb9f3a\"],[0.8888888888888888,\"#fdca26\"],[1.0,\"#f0f921\"]],\"sequentialminus\":[[0.0,\"#0d0887\"],[0.1111111111111111,\"#46039f\"],[0.2222222222222222,\"#7201a8\"],[0.3333333333333333,\"#9c179e\"],[0.4444444444444444,\"#bd3786\"],[0.5555555555555556,\"#d8576b\"],[0.6666666666666666,\"#ed7953\"],[0.7777777777777778,\"#fb9f3a\"],[0.8888888888888888,\"#fdca26\"],[1.0,\"#f0f921\"]],\"diverging\":[[0,\"#8e0152\"],[0.1,\"#c51b7d\"],[0.2,\"#de77ae\"],[0.3,\"#f1b6da\"],[0.4,\"#fde0ef\"],[0.5,\"#f7f7f7\"],[0.6,\"#e6f5d0\"],[0.7,\"#b8e186\"],[0.8,\"#7fbc41\"],[0.9,\"#4d9221\"],[1,\"#276419\"]]},\"xaxis\":{\"gridcolor\":\"white\",\"linecolor\":\"white\",\"ticks\":\"\",\"title\":{\"standoff\":15},\"zerolinecolor\":\"white\",\"automargin\":true,\"zerolinewidth\":2},\"yaxis\":{\"gridcolor\":\"white\",\"linecolor\":\"white\",\"ticks\":\"\",\"title\":{\"standoff\":15},\"zerolinecolor\":\"white\",\"automargin\":true,\"zerolinewidth\":2},\"scene\":{\"xaxis\":{\"backgroundcolor\":\"#E5ECF6\",\"gridcolor\":\"white\",\"linecolor\":\"white\",\"showbackground\":true,\"ticks\":\"\",\"zerolinecolor\":\"white\",\"gridwidth\":2},\"yaxis\":{\"backgroundcolor\":\"#E5ECF6\",\"gridcolor\":\"white\",\"linecolor\":\"white\",\"showbackground\":true,\"ticks\":\"\",\"zerolinecolor\":\"white\",\"gridwidth\":2},\"zaxis\":{\"backgroundcolor\":\"#E5ECF6\",\"gridcolor\":\"white\",\"linecolor\":\"white\",\"showbackground\":true,\"ticks\":\"\",\"zerolinecolor\":\"white\",\"gridwidth\":2}},\"shapedefaults\":{\"line\":{\"color\":\"#2a3f5f\"}},\"annotationdefaults\":{\"arrowcolor\":\"#2a3f5f\",\"arrowhead\":0,\"arrowwidth\":1},\"geo\":{\"bgcolor\":\"white\",\"landcolor\":\"#E5ECF6\",\"subunitcolor\":\"white\",\"showland\":true,\"showlakes\":true,\"lakecolor\":\"white\"},\"title\":{\"x\":0.05},\"mapbox\":{\"style\":\"light\"}}},\"xaxis\":{\"anchor\":\"y\",\"domain\":[0.0,1.0],\"title\":{\"text\":\"type\"}},\"yaxis\":{\"anchor\":\"x\",\"domain\":[0.0,1.0],\"title\":{\"text\":\"show_type_count\"}},\"legend\":{\"tracegroupgap\":0},\"title\":{\"text\":\"Shows Type Count\"},\"barmode\":\"relative\"},                        {\"responsive\": true}                    ).then(function(){\n",
       "                            \n",
       "var gd = document.getElementById('3ba1ece0-b742-42ca-bf08-5f163572ba5d');\n",
       "var x = new MutationObserver(function (mutations, observer) {{\n",
       "        var display = window.getComputedStyle(gd).display;\n",
       "        if (!display || display === 'none') {{\n",
       "            console.log([gd, 'removed!']);\n",
       "            Plotly.purge(gd);\n",
       "            observer.disconnect();\n",
       "        }}\n",
       "}});\n",
       "\n",
       "// Listen for the removal of the full notebook cells\n",
       "var notebookContainer = gd.closest('#notebook-container');\n",
       "if (notebookContainer) {{\n",
       "    x.observe(notebookContainer, {childList: true});\n",
       "}}\n",
       "\n",
       "// Listen for the clearing of the current output cell\n",
       "var outputEl = gd.closest('.output');\n",
       "if (outputEl) {{\n",
       "    x.observe(outputEl, {childList: true});\n",
       "}}\n",
       "\n",
       "                        })                };                });            </script>        </div>"
      ]
     },
     "metadata": {},
     "output_type": "display_data"
    }
   ],
   "source": [
    "fig=px.bar(df_netflix_type,y='show_type_count',x=df_netflix_type.index,title='Shows Type Count')\n",
    "fig.show()"
   ]
  },
  {
   "cell_type": "markdown",
   "id": "0c201f0c",
   "metadata": {
    "papermill": {
     "duration": 0.030409,
     "end_time": "2024-06-26T14:52:10.872179",
     "exception": false,
     "start_time": "2024-06-26T14:52:10.841770",
     "status": "completed"
    },
    "tags": []
   },
   "source": [
    "### Year On Year Show Added On Netflix By Its Type"
   ]
  },
  {
   "cell_type": "code",
   "execution_count": 30,
   "id": "0dc66c5b",
   "metadata": {
    "execution": {
     "iopub.execute_input": "2024-06-26T14:52:10.933649Z",
     "iopub.status.busy": "2024-06-26T14:52:10.933160Z",
     "iopub.status.idle": "2024-06-26T14:52:10.952557Z",
     "shell.execute_reply": "2024-06-26T14:52:10.950840Z"
    },
    "papermill": {
     "duration": 0.053644,
     "end_time": "2024-06-26T14:52:10.955589",
     "exception": false,
     "start_time": "2024-06-26T14:52:10.901945",
     "status": "completed"
    },
    "tags": []
   },
   "outputs": [],
   "source": [
    "df_netflix_type_year=df_netflix.groupby(['type','year_added']).agg({'type':'count'}).rename(columns={'type':'type_count'}).reset_index()"
   ]
  },
  {
   "cell_type": "code",
   "execution_count": 31,
   "id": "70d47d51",
   "metadata": {
    "execution": {
     "iopub.execute_input": "2024-06-26T14:52:11.016210Z",
     "iopub.status.busy": "2024-06-26T14:52:11.015806Z",
     "iopub.status.idle": "2024-06-26T14:52:11.029650Z",
     "shell.execute_reply": "2024-06-26T14:52:11.028626Z"
    },
    "papermill": {
     "duration": 0.04714,
     "end_time": "2024-06-26T14:52:11.032101",
     "exception": false,
     "start_time": "2024-06-26T14:52:10.984961",
     "status": "completed"
    },
    "tags": []
   },
   "outputs": [
    {
     "data": {
      "text/html": [
       "<div>\n",
       "<style scoped>\n",
       "    .dataframe tbody tr th:only-of-type {\n",
       "        vertical-align: middle;\n",
       "    }\n",
       "\n",
       "    .dataframe tbody tr th {\n",
       "        vertical-align: top;\n",
       "    }\n",
       "\n",
       "    .dataframe thead th {\n",
       "        text-align: right;\n",
       "    }\n",
       "</style>\n",
       "<table border=\"1\" class=\"dataframe\">\n",
       "  <thead>\n",
       "    <tr style=\"text-align: right;\">\n",
       "      <th></th>\n",
       "      <th>type</th>\n",
       "      <th>year_added</th>\n",
       "      <th>type_count</th>\n",
       "    </tr>\n",
       "  </thead>\n",
       "  <tbody>\n",
       "    <tr>\n",
       "      <th>0</th>\n",
       "      <td>Movie</td>\n",
       "      <td>2008</td>\n",
       "      <td>1</td>\n",
       "    </tr>\n",
       "    <tr>\n",
       "      <th>1</th>\n",
       "      <td>Movie</td>\n",
       "      <td>2009</td>\n",
       "      <td>2</td>\n",
       "    </tr>\n",
       "    <tr>\n",
       "      <th>2</th>\n",
       "      <td>Movie</td>\n",
       "      <td>2010</td>\n",
       "      <td>1</td>\n",
       "    </tr>\n",
       "    <tr>\n",
       "      <th>3</th>\n",
       "      <td>Movie</td>\n",
       "      <td>2011</td>\n",
       "      <td>13</td>\n",
       "    </tr>\n",
       "    <tr>\n",
       "      <th>4</th>\n",
       "      <td>Movie</td>\n",
       "      <td>2012</td>\n",
       "      <td>3</td>\n",
       "    </tr>\n",
       "    <tr>\n",
       "      <th>5</th>\n",
       "      <td>Movie</td>\n",
       "      <td>2013</td>\n",
       "      <td>6</td>\n",
       "    </tr>\n",
       "    <tr>\n",
       "      <th>6</th>\n",
       "      <td>Movie</td>\n",
       "      <td>2014</td>\n",
       "      <td>19</td>\n",
       "    </tr>\n",
       "    <tr>\n",
       "      <th>7</th>\n",
       "      <td>Movie</td>\n",
       "      <td>2015</td>\n",
       "      <td>56</td>\n",
       "    </tr>\n",
       "    <tr>\n",
       "      <th>8</th>\n",
       "      <td>Movie</td>\n",
       "      <td>2016</td>\n",
       "      <td>253</td>\n",
       "    </tr>\n",
       "    <tr>\n",
       "      <th>9</th>\n",
       "      <td>Movie</td>\n",
       "      <td>2017</td>\n",
       "      <td>839</td>\n",
       "    </tr>\n",
       "    <tr>\n",
       "      <th>10</th>\n",
       "      <td>Movie</td>\n",
       "      <td>2018</td>\n",
       "      <td>1237</td>\n",
       "    </tr>\n",
       "    <tr>\n",
       "      <th>11</th>\n",
       "      <td>Movie</td>\n",
       "      <td>2019</td>\n",
       "      <td>1424</td>\n",
       "    </tr>\n",
       "    <tr>\n",
       "      <th>12</th>\n",
       "      <td>Movie</td>\n",
       "      <td>2020</td>\n",
       "      <td>1284</td>\n",
       "    </tr>\n",
       "    <tr>\n",
       "      <th>13</th>\n",
       "      <td>Movie</td>\n",
       "      <td>2021</td>\n",
       "      <td>993</td>\n",
       "    </tr>\n",
       "    <tr>\n",
       "      <th>14</th>\n",
       "      <td>TV Show</td>\n",
       "      <td>2008</td>\n",
       "      <td>1</td>\n",
       "    </tr>\n",
       "    <tr>\n",
       "      <th>15</th>\n",
       "      <td>TV Show</td>\n",
       "      <td>2013</td>\n",
       "      <td>5</td>\n",
       "    </tr>\n",
       "    <tr>\n",
       "      <th>16</th>\n",
       "      <td>TV Show</td>\n",
       "      <td>2014</td>\n",
       "      <td>5</td>\n",
       "    </tr>\n",
       "    <tr>\n",
       "      <th>17</th>\n",
       "      <td>TV Show</td>\n",
       "      <td>2015</td>\n",
       "      <td>26</td>\n",
       "    </tr>\n",
       "    <tr>\n",
       "      <th>18</th>\n",
       "      <td>TV Show</td>\n",
       "      <td>2016</td>\n",
       "      <td>176</td>\n",
       "    </tr>\n",
       "    <tr>\n",
       "      <th>19</th>\n",
       "      <td>TV Show</td>\n",
       "      <td>2017</td>\n",
       "      <td>349</td>\n",
       "    </tr>\n",
       "    <tr>\n",
       "      <th>20</th>\n",
       "      <td>TV Show</td>\n",
       "      <td>2018</td>\n",
       "      <td>412</td>\n",
       "    </tr>\n",
       "    <tr>\n",
       "      <th>21</th>\n",
       "      <td>TV Show</td>\n",
       "      <td>2019</td>\n",
       "      <td>592</td>\n",
       "    </tr>\n",
       "    <tr>\n",
       "      <th>22</th>\n",
       "      <td>TV Show</td>\n",
       "      <td>2020</td>\n",
       "      <td>595</td>\n",
       "    </tr>\n",
       "    <tr>\n",
       "      <th>23</th>\n",
       "      <td>TV Show</td>\n",
       "      <td>2021</td>\n",
       "      <td>505</td>\n",
       "    </tr>\n",
       "  </tbody>\n",
       "</table>\n",
       "</div>"
      ],
      "text/plain": [
       "       type year_added  type_count\n",
       "0     Movie       2008           1\n",
       "1     Movie       2009           2\n",
       "2     Movie       2010           1\n",
       "3     Movie       2011          13\n",
       "4     Movie       2012           3\n",
       "5     Movie       2013           6\n",
       "6     Movie       2014          19\n",
       "7     Movie       2015          56\n",
       "8     Movie       2016         253\n",
       "9     Movie       2017         839\n",
       "10    Movie       2018        1237\n",
       "11    Movie       2019        1424\n",
       "12    Movie       2020        1284\n",
       "13    Movie       2021         993\n",
       "14  TV Show       2008           1\n",
       "15  TV Show       2013           5\n",
       "16  TV Show       2014           5\n",
       "17  TV Show       2015          26\n",
       "18  TV Show       2016         176\n",
       "19  TV Show       2017         349\n",
       "20  TV Show       2018         412\n",
       "21  TV Show       2019         592\n",
       "22  TV Show       2020         595\n",
       "23  TV Show       2021         505"
      ]
     },
     "execution_count": 31,
     "metadata": {},
     "output_type": "execute_result"
    }
   ],
   "source": [
    "df_netflix_type_year"
   ]
  },
  {
   "cell_type": "code",
   "execution_count": 32,
   "id": "40aa9fce",
   "metadata": {
    "execution": {
     "iopub.execute_input": "2024-06-26T14:52:11.097476Z",
     "iopub.status.busy": "2024-06-26T14:52:11.096580Z",
     "iopub.status.idle": "2024-06-26T14:52:11.207025Z",
     "shell.execute_reply": "2024-06-26T14:52:11.205742Z"
    },
    "papermill": {
     "duration": 0.146159,
     "end_time": "2024-06-26T14:52:11.209484",
     "exception": false,
     "start_time": "2024-06-26T14:52:11.063325",
     "status": "completed"
    },
    "tags": []
   },
   "outputs": [
    {
     "name": "stderr",
     "output_type": "stream",
     "text": [
      "/opt/conda/lib/python3.10/site-packages/plotly/express/_core.py:2065: FutureWarning:\n",
      "\n",
      "When grouping with a length-1 list-like, you will need to pass a length-1 tuple to get_group in a future version of pandas. Pass `(name,)` instead of `name` to silence this warning.\n",
      "\n"
     ]
    },
    {
     "data": {
      "text/html": [
       "<div>                            <div id=\"942faf0d-132b-497d-bd94-42db847dd4cd\" class=\"plotly-graph-div\" style=\"height:525px; width:100%;\"></div>            <script type=\"text/javascript\">                require([\"plotly\"], function(Plotly) {                    window.PLOTLYENV=window.PLOTLYENV || {};                                    if (document.getElementById(\"942faf0d-132b-497d-bd94-42db847dd4cd\")) {                    Plotly.newPlot(                        \"942faf0d-132b-497d-bd94-42db847dd4cd\",                        [{\"alignmentgroup\":\"True\",\"hovertemplate\":\"type=Movie\\u003cbr\\u003eyear_added=%{x}\\u003cbr\\u003etype_count=%{y}\\u003cextra\\u003e\\u003c\\u002fextra\\u003e\",\"legendgroup\":\"Movie\",\"marker\":{\"color\":\"#636efa\",\"pattern\":{\"shape\":\"\"}},\"name\":\"Movie\",\"offsetgroup\":\"Movie\",\"orientation\":\"v\",\"showlegend\":true,\"textposition\":\"auto\",\"x\":[\"2008\",\"2009\",\"2010\",\"2011\",\"2012\",\"2013\",\"2014\",\"2015\",\"2016\",\"2017\",\"2018\",\"2019\",\"2020\",\"2021\"],\"xaxis\":\"x\",\"y\":[1,2,1,13,3,6,19,56,253,839,1237,1424,1284,993],\"yaxis\":\"y\",\"type\":\"bar\"},{\"alignmentgroup\":\"True\",\"hovertemplate\":\"type=TV Show\\u003cbr\\u003eyear_added=%{x}\\u003cbr\\u003etype_count=%{y}\\u003cextra\\u003e\\u003c\\u002fextra\\u003e\",\"legendgroup\":\"TV Show\",\"marker\":{\"color\":\"#EF553B\",\"pattern\":{\"shape\":\"\"}},\"name\":\"TV Show\",\"offsetgroup\":\"TV Show\",\"orientation\":\"v\",\"showlegend\":true,\"textposition\":\"auto\",\"x\":[\"2008\",\"2013\",\"2014\",\"2015\",\"2016\",\"2017\",\"2018\",\"2019\",\"2020\",\"2021\"],\"xaxis\":\"x\",\"y\":[1,5,5,26,176,349,412,592,595,505],\"yaxis\":\"y\",\"type\":\"bar\"}],                        {\"template\":{\"data\":{\"histogram2dcontour\":[{\"type\":\"histogram2dcontour\",\"colorbar\":{\"outlinewidth\":0,\"ticks\":\"\"},\"colorscale\":[[0.0,\"#0d0887\"],[0.1111111111111111,\"#46039f\"],[0.2222222222222222,\"#7201a8\"],[0.3333333333333333,\"#9c179e\"],[0.4444444444444444,\"#bd3786\"],[0.5555555555555556,\"#d8576b\"],[0.6666666666666666,\"#ed7953\"],[0.7777777777777778,\"#fb9f3a\"],[0.8888888888888888,\"#fdca26\"],[1.0,\"#f0f921\"]]}],\"choropleth\":[{\"type\":\"choropleth\",\"colorbar\":{\"outlinewidth\":0,\"ticks\":\"\"}}],\"histogram2d\":[{\"type\":\"histogram2d\",\"colorbar\":{\"outlinewidth\":0,\"ticks\":\"\"},\"colorscale\":[[0.0,\"#0d0887\"],[0.1111111111111111,\"#46039f\"],[0.2222222222222222,\"#7201a8\"],[0.3333333333333333,\"#9c179e\"],[0.4444444444444444,\"#bd3786\"],[0.5555555555555556,\"#d8576b\"],[0.6666666666666666,\"#ed7953\"],[0.7777777777777778,\"#fb9f3a\"],[0.8888888888888888,\"#fdca26\"],[1.0,\"#f0f921\"]]}],\"heatmap\":[{\"type\":\"heatmap\",\"colorbar\":{\"outlinewidth\":0,\"ticks\":\"\"},\"colorscale\":[[0.0,\"#0d0887\"],[0.1111111111111111,\"#46039f\"],[0.2222222222222222,\"#7201a8\"],[0.3333333333333333,\"#9c179e\"],[0.4444444444444444,\"#bd3786\"],[0.5555555555555556,\"#d8576b\"],[0.6666666666666666,\"#ed7953\"],[0.7777777777777778,\"#fb9f3a\"],[0.8888888888888888,\"#fdca26\"],[1.0,\"#f0f921\"]]}],\"heatmapgl\":[{\"type\":\"heatmapgl\",\"colorbar\":{\"outlinewidth\":0,\"ticks\":\"\"},\"colorscale\":[[0.0,\"#0d0887\"],[0.1111111111111111,\"#46039f\"],[0.2222222222222222,\"#7201a8\"],[0.3333333333333333,\"#9c179e\"],[0.4444444444444444,\"#bd3786\"],[0.5555555555555556,\"#d8576b\"],[0.6666666666666666,\"#ed7953\"],[0.7777777777777778,\"#fb9f3a\"],[0.8888888888888888,\"#fdca26\"],[1.0,\"#f0f921\"]]}],\"contourcarpet\":[{\"type\":\"contourcarpet\",\"colorbar\":{\"outlinewidth\":0,\"ticks\":\"\"}}],\"contour\":[{\"type\":\"contour\",\"colorbar\":{\"outlinewidth\":0,\"ticks\":\"\"},\"colorscale\":[[0.0,\"#0d0887\"],[0.1111111111111111,\"#46039f\"],[0.2222222222222222,\"#7201a8\"],[0.3333333333333333,\"#9c179e\"],[0.4444444444444444,\"#bd3786\"],[0.5555555555555556,\"#d8576b\"],[0.6666666666666666,\"#ed7953\"],[0.7777777777777778,\"#fb9f3a\"],[0.8888888888888888,\"#fdca26\"],[1.0,\"#f0f921\"]]}],\"surface\":[{\"type\":\"surface\",\"colorbar\":{\"outlinewidth\":0,\"ticks\":\"\"},\"colorscale\":[[0.0,\"#0d0887\"],[0.1111111111111111,\"#46039f\"],[0.2222222222222222,\"#7201a8\"],[0.3333333333333333,\"#9c179e\"],[0.4444444444444444,\"#bd3786\"],[0.5555555555555556,\"#d8576b\"],[0.6666666666666666,\"#ed7953\"],[0.7777777777777778,\"#fb9f3a\"],[0.8888888888888888,\"#fdca26\"],[1.0,\"#f0f921\"]]}],\"mesh3d\":[{\"type\":\"mesh3d\",\"colorbar\":{\"outlinewidth\":0,\"ticks\":\"\"}}],\"scatter\":[{\"fillpattern\":{\"fillmode\":\"overlay\",\"size\":10,\"solidity\":0.2},\"type\":\"scatter\"}],\"parcoords\":[{\"type\":\"parcoords\",\"line\":{\"colorbar\":{\"outlinewidth\":0,\"ticks\":\"\"}}}],\"scatterpolargl\":[{\"type\":\"scatterpolargl\",\"marker\":{\"colorbar\":{\"outlinewidth\":0,\"ticks\":\"\"}}}],\"bar\":[{\"error_x\":{\"color\":\"#2a3f5f\"},\"error_y\":{\"color\":\"#2a3f5f\"},\"marker\":{\"line\":{\"color\":\"#E5ECF6\",\"width\":0.5},\"pattern\":{\"fillmode\":\"overlay\",\"size\":10,\"solidity\":0.2}},\"type\":\"bar\"}],\"scattergeo\":[{\"type\":\"scattergeo\",\"marker\":{\"colorbar\":{\"outlinewidth\":0,\"ticks\":\"\"}}}],\"scatterpolar\":[{\"type\":\"scatterpolar\",\"marker\":{\"colorbar\":{\"outlinewidth\":0,\"ticks\":\"\"}}}],\"histogram\":[{\"marker\":{\"pattern\":{\"fillmode\":\"overlay\",\"size\":10,\"solidity\":0.2}},\"type\":\"histogram\"}],\"scattergl\":[{\"type\":\"scattergl\",\"marker\":{\"colorbar\":{\"outlinewidth\":0,\"ticks\":\"\"}}}],\"scatter3d\":[{\"type\":\"scatter3d\",\"line\":{\"colorbar\":{\"outlinewidth\":0,\"ticks\":\"\"}},\"marker\":{\"colorbar\":{\"outlinewidth\":0,\"ticks\":\"\"}}}],\"scattermapbox\":[{\"type\":\"scattermapbox\",\"marker\":{\"colorbar\":{\"outlinewidth\":0,\"ticks\":\"\"}}}],\"scatterternary\":[{\"type\":\"scatterternary\",\"marker\":{\"colorbar\":{\"outlinewidth\":0,\"ticks\":\"\"}}}],\"scattercarpet\":[{\"type\":\"scattercarpet\",\"marker\":{\"colorbar\":{\"outlinewidth\":0,\"ticks\":\"\"}}}],\"carpet\":[{\"aaxis\":{\"endlinecolor\":\"#2a3f5f\",\"gridcolor\":\"white\",\"linecolor\":\"white\",\"minorgridcolor\":\"white\",\"startlinecolor\":\"#2a3f5f\"},\"baxis\":{\"endlinecolor\":\"#2a3f5f\",\"gridcolor\":\"white\",\"linecolor\":\"white\",\"minorgridcolor\":\"white\",\"startlinecolor\":\"#2a3f5f\"},\"type\":\"carpet\"}],\"table\":[{\"cells\":{\"fill\":{\"color\":\"#EBF0F8\"},\"line\":{\"color\":\"white\"}},\"header\":{\"fill\":{\"color\":\"#C8D4E3\"},\"line\":{\"color\":\"white\"}},\"type\":\"table\"}],\"barpolar\":[{\"marker\":{\"line\":{\"color\":\"#E5ECF6\",\"width\":0.5},\"pattern\":{\"fillmode\":\"overlay\",\"size\":10,\"solidity\":0.2}},\"type\":\"barpolar\"}],\"pie\":[{\"automargin\":true,\"type\":\"pie\"}]},\"layout\":{\"autotypenumbers\":\"strict\",\"colorway\":[\"#636efa\",\"#EF553B\",\"#00cc96\",\"#ab63fa\",\"#FFA15A\",\"#19d3f3\",\"#FF6692\",\"#B6E880\",\"#FF97FF\",\"#FECB52\"],\"font\":{\"color\":\"#2a3f5f\"},\"hovermode\":\"closest\",\"hoverlabel\":{\"align\":\"left\"},\"paper_bgcolor\":\"white\",\"plot_bgcolor\":\"#E5ECF6\",\"polar\":{\"bgcolor\":\"#E5ECF6\",\"angularaxis\":{\"gridcolor\":\"white\",\"linecolor\":\"white\",\"ticks\":\"\"},\"radialaxis\":{\"gridcolor\":\"white\",\"linecolor\":\"white\",\"ticks\":\"\"}},\"ternary\":{\"bgcolor\":\"#E5ECF6\",\"aaxis\":{\"gridcolor\":\"white\",\"linecolor\":\"white\",\"ticks\":\"\"},\"baxis\":{\"gridcolor\":\"white\",\"linecolor\":\"white\",\"ticks\":\"\"},\"caxis\":{\"gridcolor\":\"white\",\"linecolor\":\"white\",\"ticks\":\"\"}},\"coloraxis\":{\"colorbar\":{\"outlinewidth\":0,\"ticks\":\"\"}},\"colorscale\":{\"sequential\":[[0.0,\"#0d0887\"],[0.1111111111111111,\"#46039f\"],[0.2222222222222222,\"#7201a8\"],[0.3333333333333333,\"#9c179e\"],[0.4444444444444444,\"#bd3786\"],[0.5555555555555556,\"#d8576b\"],[0.6666666666666666,\"#ed7953\"],[0.7777777777777778,\"#fb9f3a\"],[0.8888888888888888,\"#fdca26\"],[1.0,\"#f0f921\"]],\"sequentialminus\":[[0.0,\"#0d0887\"],[0.1111111111111111,\"#46039f\"],[0.2222222222222222,\"#7201a8\"],[0.3333333333333333,\"#9c179e\"],[0.4444444444444444,\"#bd3786\"],[0.5555555555555556,\"#d8576b\"],[0.6666666666666666,\"#ed7953\"],[0.7777777777777778,\"#fb9f3a\"],[0.8888888888888888,\"#fdca26\"],[1.0,\"#f0f921\"]],\"diverging\":[[0,\"#8e0152\"],[0.1,\"#c51b7d\"],[0.2,\"#de77ae\"],[0.3,\"#f1b6da\"],[0.4,\"#fde0ef\"],[0.5,\"#f7f7f7\"],[0.6,\"#e6f5d0\"],[0.7,\"#b8e186\"],[0.8,\"#7fbc41\"],[0.9,\"#4d9221\"],[1,\"#276419\"]]},\"xaxis\":{\"gridcolor\":\"white\",\"linecolor\":\"white\",\"ticks\":\"\",\"title\":{\"standoff\":15},\"zerolinecolor\":\"white\",\"automargin\":true,\"zerolinewidth\":2},\"yaxis\":{\"gridcolor\":\"white\",\"linecolor\":\"white\",\"ticks\":\"\",\"title\":{\"standoff\":15},\"zerolinecolor\":\"white\",\"automargin\":true,\"zerolinewidth\":2},\"scene\":{\"xaxis\":{\"backgroundcolor\":\"#E5ECF6\",\"gridcolor\":\"white\",\"linecolor\":\"white\",\"showbackground\":true,\"ticks\":\"\",\"zerolinecolor\":\"white\",\"gridwidth\":2},\"yaxis\":{\"backgroundcolor\":\"#E5ECF6\",\"gridcolor\":\"white\",\"linecolor\":\"white\",\"showbackground\":true,\"ticks\":\"\",\"zerolinecolor\":\"white\",\"gridwidth\":2},\"zaxis\":{\"backgroundcolor\":\"#E5ECF6\",\"gridcolor\":\"white\",\"linecolor\":\"white\",\"showbackground\":true,\"ticks\":\"\",\"zerolinecolor\":\"white\",\"gridwidth\":2}},\"shapedefaults\":{\"line\":{\"color\":\"#2a3f5f\"}},\"annotationdefaults\":{\"arrowcolor\":\"#2a3f5f\",\"arrowhead\":0,\"arrowwidth\":1},\"geo\":{\"bgcolor\":\"white\",\"landcolor\":\"#E5ECF6\",\"subunitcolor\":\"white\",\"showland\":true,\"showlakes\":true,\"lakecolor\":\"white\"},\"title\":{\"x\":0.05},\"mapbox\":{\"style\":\"light\"}}},\"xaxis\":{\"anchor\":\"y\",\"domain\":[0.0,1.0],\"title\":{\"text\":\"year_added\"}},\"yaxis\":{\"anchor\":\"x\",\"domain\":[0.0,1.0],\"title\":{\"text\":\"type_count\"}},\"legend\":{\"title\":{\"text\":\"type\"},\"tracegroupgap\":0},\"title\":{\"text\":\"Year On Year Show Added On Netflix\"},\"barmode\":\"relative\"},                        {\"responsive\": true}                    ).then(function(){\n",
       "                            \n",
       "var gd = document.getElementById('942faf0d-132b-497d-bd94-42db847dd4cd');\n",
       "var x = new MutationObserver(function (mutations, observer) {{\n",
       "        var display = window.getComputedStyle(gd).display;\n",
       "        if (!display || display === 'none') {{\n",
       "            console.log([gd, 'removed!']);\n",
       "            Plotly.purge(gd);\n",
       "            observer.disconnect();\n",
       "        }}\n",
       "}});\n",
       "\n",
       "// Listen for the removal of the full notebook cells\n",
       "var notebookContainer = gd.closest('#notebook-container');\n",
       "if (notebookContainer) {{\n",
       "    x.observe(notebookContainer, {childList: true});\n",
       "}}\n",
       "\n",
       "// Listen for the clearing of the current output cell\n",
       "var outputEl = gd.closest('.output');\n",
       "if (outputEl) {{\n",
       "    x.observe(outputEl, {childList: true});\n",
       "}}\n",
       "\n",
       "                        })                };                });            </script>        </div>"
      ]
     },
     "metadata": {},
     "output_type": "display_data"
    }
   ],
   "source": [
    "fig=px.bar(df_netflix_type_year,y='type_count',x='year_added',title='Year On Year Show Added On Netflix',color='type')\n",
    "fig.show()"
   ]
  },
  {
   "cell_type": "markdown",
   "id": "7dc107b4",
   "metadata": {
    "papermill": {
     "duration": 0.030438,
     "end_time": "2024-06-26T14:52:11.270149",
     "exception": false,
     "start_time": "2024-06-26T14:52:11.239711",
     "status": "completed"
    },
    "tags": []
   },
   "source": [
    "### Creating Time Duration And Season Duration Features "
   ]
  },
  {
   "cell_type": "code",
   "execution_count": 33,
   "id": "0a889a51",
   "metadata": {
    "execution": {
     "iopub.execute_input": "2024-06-26T14:52:11.334742Z",
     "iopub.status.busy": "2024-06-26T14:52:11.333666Z",
     "iopub.status.idle": "2024-06-26T14:52:11.359694Z",
     "shell.execute_reply": "2024-06-26T14:52:11.358042Z"
    },
    "papermill": {
     "duration": 0.060815,
     "end_time": "2024-06-26T14:52:11.362505",
     "exception": false,
     "start_time": "2024-06-26T14:52:11.301690",
     "status": "completed"
    },
    "tags": []
   },
   "outputs": [],
   "source": [
    "df_netflix[['time_season_duration','time_season_duration_char']]=df_netflix['duration'].str.split(' ',expand=True)"
   ]
  },
  {
   "cell_type": "code",
   "execution_count": 34,
   "id": "76eb4b80",
   "metadata": {
    "execution": {
     "iopub.execute_input": "2024-06-26T14:52:11.425078Z",
     "iopub.status.busy": "2024-06-26T14:52:11.424591Z",
     "iopub.status.idle": "2024-06-26T14:52:11.430935Z",
     "shell.execute_reply": "2024-06-26T14:52:11.429781Z"
    },
    "papermill": {
     "duration": 0.040435,
     "end_time": "2024-06-26T14:52:11.433442",
     "exception": false,
     "start_time": "2024-06-26T14:52:11.393007",
     "status": "completed"
    },
    "tags": []
   },
   "outputs": [],
   "source": [
    "def time(row):\n",
    "    if(row['time_season_duration_char']=='min'):\n",
    "        return row['time_season_duration']\n",
    "    else:\n",
    "        return 0"
   ]
  },
  {
   "cell_type": "code",
   "execution_count": 35,
   "id": "23e39ce4",
   "metadata": {
    "execution": {
     "iopub.execute_input": "2024-06-26T14:52:11.497266Z",
     "iopub.status.busy": "2024-06-26T14:52:11.496739Z",
     "iopub.status.idle": "2024-06-26T14:52:11.645576Z",
     "shell.execute_reply": "2024-06-26T14:52:11.644437Z"
    },
    "papermill": {
     "duration": 0.184953,
     "end_time": "2024-06-26T14:52:11.648382",
     "exception": false,
     "start_time": "2024-06-26T14:52:11.463429",
     "status": "completed"
    },
    "tags": []
   },
   "outputs": [],
   "source": [
    "df_netflix['times_duration']=df_netflix.apply(time,axis=1)"
   ]
  },
  {
   "cell_type": "code",
   "execution_count": 36,
   "id": "be085c8a",
   "metadata": {
    "execution": {
     "iopub.execute_input": "2024-06-26T14:52:11.711062Z",
     "iopub.status.busy": "2024-06-26T14:52:11.709985Z",
     "iopub.status.idle": "2024-06-26T14:52:11.715918Z",
     "shell.execute_reply": "2024-06-26T14:52:11.714729Z"
    },
    "papermill": {
     "duration": 0.040034,
     "end_time": "2024-06-26T14:52:11.718407",
     "exception": false,
     "start_time": "2024-06-26T14:52:11.678373",
     "status": "completed"
    },
    "tags": []
   },
   "outputs": [],
   "source": [
    "def season(row):\n",
    "    if(row['time_season_duration_char']=='Season'):\n",
    "        return row['time_season_duration']\n",
    "    else:\n",
    "        return 0"
   ]
  },
  {
   "cell_type": "code",
   "execution_count": 37,
   "id": "ba124823",
   "metadata": {
    "execution": {
     "iopub.execute_input": "2024-06-26T14:52:11.781802Z",
     "iopub.status.busy": "2024-06-26T14:52:11.780778Z",
     "iopub.status.idle": "2024-06-26T14:52:11.912296Z",
     "shell.execute_reply": "2024-06-26T14:52:11.911040Z"
    },
    "papermill": {
     "duration": 0.166528,
     "end_time": "2024-06-26T14:52:11.915160",
     "exception": false,
     "start_time": "2024-06-26T14:52:11.748632",
     "status": "completed"
    },
    "tags": []
   },
   "outputs": [],
   "source": [
    "df_netflix['seasons_duration']=df_netflix.apply(season,axis=1)"
   ]
  },
  {
   "cell_type": "code",
   "execution_count": 38,
   "id": "b4441da3",
   "metadata": {
    "execution": {
     "iopub.execute_input": "2024-06-26T14:52:11.977097Z",
     "iopub.status.busy": "2024-06-26T14:52:11.976673Z",
     "iopub.status.idle": "2024-06-26T14:52:11.986456Z",
     "shell.execute_reply": "2024-06-26T14:52:11.985255Z"
    },
    "papermill": {
     "duration": 0.043801,
     "end_time": "2024-06-26T14:52:11.989046",
     "exception": false,
     "start_time": "2024-06-26T14:52:11.945245",
     "status": "completed"
    },
    "tags": []
   },
   "outputs": [],
   "source": [
    "df_netflix.drop(columns=['duration','time_season_duration','time_season_duration_char'],axis=1,inplace=True)"
   ]
  },
  {
   "cell_type": "code",
   "execution_count": 39,
   "id": "9e08d5e2",
   "metadata": {
    "execution": {
     "iopub.execute_input": "2024-06-26T14:52:12.051865Z",
     "iopub.status.busy": "2024-06-26T14:52:12.051401Z",
     "iopub.status.idle": "2024-06-26T14:52:12.071244Z",
     "shell.execute_reply": "2024-06-26T14:52:12.070090Z"
    },
    "papermill": {
     "duration": 0.054712,
     "end_time": "2024-06-26T14:52:12.073880",
     "exception": false,
     "start_time": "2024-06-26T14:52:12.019168",
     "status": "completed"
    },
    "tags": []
   },
   "outputs": [
    {
     "data": {
      "text/html": [
       "<div>\n",
       "<style scoped>\n",
       "    .dataframe tbody tr th:only-of-type {\n",
       "        vertical-align: middle;\n",
       "    }\n",
       "\n",
       "    .dataframe tbody tr th {\n",
       "        vertical-align: top;\n",
       "    }\n",
       "\n",
       "    .dataframe thead th {\n",
       "        text-align: right;\n",
       "    }\n",
       "</style>\n",
       "<table border=\"1\" class=\"dataframe\">\n",
       "  <thead>\n",
       "    <tr style=\"text-align: right;\">\n",
       "      <th></th>\n",
       "      <th>show_id</th>\n",
       "      <th>type</th>\n",
       "      <th>title</th>\n",
       "      <th>director</th>\n",
       "      <th>cast</th>\n",
       "      <th>country</th>\n",
       "      <th>release_year</th>\n",
       "      <th>rating</th>\n",
       "      <th>listed_in</th>\n",
       "      <th>description</th>\n",
       "      <th>release_month</th>\n",
       "      <th>year_added</th>\n",
       "      <th>times_duration</th>\n",
       "      <th>seasons_duration</th>\n",
       "    </tr>\n",
       "  </thead>\n",
       "  <tbody>\n",
       "    <tr>\n",
       "      <th>0</th>\n",
       "      <td>s1</td>\n",
       "      <td>Movie</td>\n",
       "      <td>Dick Johnson Is Dead</td>\n",
       "      <td>Kirsten Johnson</td>\n",
       "      <td>NaN</td>\n",
       "      <td>United States</td>\n",
       "      <td>2020</td>\n",
       "      <td>PG-13</td>\n",
       "      <td>Documentaries</td>\n",
       "      <td>As her father nears the end of his life, filmm...</td>\n",
       "      <td>September</td>\n",
       "      <td>2021</td>\n",
       "      <td>90</td>\n",
       "      <td>0</td>\n",
       "    </tr>\n",
       "    <tr>\n",
       "      <th>1</th>\n",
       "      <td>s2</td>\n",
       "      <td>TV Show</td>\n",
       "      <td>Blood &amp; Water</td>\n",
       "      <td>NaN</td>\n",
       "      <td>Ama Qamata, Khosi Ngema, Gail Mabalane, Thaban...</td>\n",
       "      <td>South Africa</td>\n",
       "      <td>2021</td>\n",
       "      <td>TV-MA</td>\n",
       "      <td>International TV Shows, TV Dramas, TV Mysteries</td>\n",
       "      <td>After crossing paths at a party, a Cape Town t...</td>\n",
       "      <td>September</td>\n",
       "      <td>2021</td>\n",
       "      <td>0</td>\n",
       "      <td>2</td>\n",
       "    </tr>\n",
       "    <tr>\n",
       "      <th>2</th>\n",
       "      <td>s3</td>\n",
       "      <td>TV Show</td>\n",
       "      <td>Ganglands</td>\n",
       "      <td>Julien Leclercq</td>\n",
       "      <td>Sami Bouajila, Tracy Gotoas, Samuel Jouy, Nabi...</td>\n",
       "      <td>NaN</td>\n",
       "      <td>2021</td>\n",
       "      <td>TV-MA</td>\n",
       "      <td>Crime TV Shows, International TV Shows, TV Act...</td>\n",
       "      <td>To protect his family from a powerful drug lor...</td>\n",
       "      <td>September</td>\n",
       "      <td>2021</td>\n",
       "      <td>0</td>\n",
       "      <td>1</td>\n",
       "    </tr>\n",
       "    <tr>\n",
       "      <th>3</th>\n",
       "      <td>s4</td>\n",
       "      <td>TV Show</td>\n",
       "      <td>Jailbirds New Orleans</td>\n",
       "      <td>NaN</td>\n",
       "      <td>NaN</td>\n",
       "      <td>NaN</td>\n",
       "      <td>2021</td>\n",
       "      <td>TV-MA</td>\n",
       "      <td>Docuseries, Reality TV</td>\n",
       "      <td>Feuds, flirtations and toilet talk go down amo...</td>\n",
       "      <td>September</td>\n",
       "      <td>2021</td>\n",
       "      <td>0</td>\n",
       "      <td>1</td>\n",
       "    </tr>\n",
       "    <tr>\n",
       "      <th>4</th>\n",
       "      <td>s5</td>\n",
       "      <td>TV Show</td>\n",
       "      <td>Kota Factory</td>\n",
       "      <td>NaN</td>\n",
       "      <td>Mayur More, Jitendra Kumar, Ranjan Raj, Alam K...</td>\n",
       "      <td>India</td>\n",
       "      <td>2021</td>\n",
       "      <td>TV-MA</td>\n",
       "      <td>International TV Shows, Romantic TV Shows, TV ...</td>\n",
       "      <td>In a city of coaching centers known to train I...</td>\n",
       "      <td>September</td>\n",
       "      <td>2021</td>\n",
       "      <td>0</td>\n",
       "      <td>2</td>\n",
       "    </tr>\n",
       "  </tbody>\n",
       "</table>\n",
       "</div>"
      ],
      "text/plain": [
       "  show_id     type                  title         director  \\\n",
       "0      s1    Movie   Dick Johnson Is Dead  Kirsten Johnson   \n",
       "1      s2  TV Show          Blood & Water              NaN   \n",
       "2      s3  TV Show              Ganglands  Julien Leclercq   \n",
       "3      s4  TV Show  Jailbirds New Orleans              NaN   \n",
       "4      s5  TV Show           Kota Factory              NaN   \n",
       "\n",
       "                                                cast        country  \\\n",
       "0                                                NaN  United States   \n",
       "1  Ama Qamata, Khosi Ngema, Gail Mabalane, Thaban...   South Africa   \n",
       "2  Sami Bouajila, Tracy Gotoas, Samuel Jouy, Nabi...            NaN   \n",
       "3                                                NaN            NaN   \n",
       "4  Mayur More, Jitendra Kumar, Ranjan Raj, Alam K...          India   \n",
       "\n",
       "   release_year rating                                          listed_in  \\\n",
       "0          2020  PG-13                                      Documentaries   \n",
       "1          2021  TV-MA    International TV Shows, TV Dramas, TV Mysteries   \n",
       "2          2021  TV-MA  Crime TV Shows, International TV Shows, TV Act...   \n",
       "3          2021  TV-MA                             Docuseries, Reality TV   \n",
       "4          2021  TV-MA  International TV Shows, Romantic TV Shows, TV ...   \n",
       "\n",
       "                                         description release_month year_added  \\\n",
       "0  As her father nears the end of his life, filmm...     September       2021   \n",
       "1  After crossing paths at a party, a Cape Town t...     September       2021   \n",
       "2  To protect his family from a powerful drug lor...     September       2021   \n",
       "3  Feuds, flirtations and toilet talk go down amo...     September       2021   \n",
       "4  In a city of coaching centers known to train I...     September       2021   \n",
       "\n",
       "  times_duration seasons_duration  \n",
       "0             90                0  \n",
       "1              0                2  \n",
       "2              0                1  \n",
       "3              0                1  \n",
       "4              0                2  "
      ]
     },
     "execution_count": 39,
     "metadata": {},
     "output_type": "execute_result"
    }
   ],
   "source": [
    "df_netflix.head()"
   ]
  },
  {
   "cell_type": "markdown",
   "id": "daa9ed58",
   "metadata": {
    "papermill": {
     "duration": 0.030476,
     "end_time": "2024-06-26T14:52:12.135705",
     "exception": false,
     "start_time": "2024-06-26T14:52:12.105229",
     "status": "completed"
    },
    "tags": []
   },
   "source": [
    "### Choosing The Columns On Basis Of Their Data Type And Filling NaN Values With Respect To Data Type"
   ]
  },
  {
   "cell_type": "code",
   "execution_count": 40,
   "id": "6889a230",
   "metadata": {
    "execution": {
     "iopub.execute_input": "2024-06-26T14:52:12.199682Z",
     "iopub.status.busy": "2024-06-26T14:52:12.199241Z",
     "iopub.status.idle": "2024-06-26T14:52:12.222361Z",
     "shell.execute_reply": "2024-06-26T14:52:12.221302Z"
    },
    "papermill": {
     "duration": 0.058162,
     "end_time": "2024-06-26T14:52:12.224694",
     "exception": false,
     "start_time": "2024-06-26T14:52:12.166532",
     "status": "completed"
    },
    "tags": []
   },
   "outputs": [
    {
     "data": {
      "text/plain": [
       "show_id                0\n",
       "type                   0\n",
       "title                  0\n",
       "director            2634\n",
       "cast                 825\n",
       "country              831\n",
       "release_year           0\n",
       "rating                 4\n",
       "listed_in              0\n",
       "description            0\n",
       "release_month         10\n",
       "year_added            10\n",
       "times_duration         0\n",
       "seasons_duration       0\n",
       "dtype: int64"
      ]
     },
     "execution_count": 40,
     "metadata": {},
     "output_type": "execute_result"
    }
   ],
   "source": [
    "df_netflix.isna().sum()"
   ]
  },
  {
   "cell_type": "code",
   "execution_count": 41,
   "id": "bcf0d544",
   "metadata": {
    "execution": {
     "iopub.execute_input": "2024-06-26T14:52:12.288132Z",
     "iopub.status.busy": "2024-06-26T14:52:12.287689Z",
     "iopub.status.idle": "2024-06-26T14:52:12.297008Z",
     "shell.execute_reply": "2024-06-26T14:52:12.295710Z"
    },
    "papermill": {
     "duration": 0.043917,
     "end_time": "2024-06-26T14:52:12.299474",
     "exception": false,
     "start_time": "2024-06-26T14:52:12.255557",
     "status": "completed"
    },
    "tags": []
   },
   "outputs": [
    {
     "data": {
      "text/plain": [
       "show_id             object\n",
       "type                object\n",
       "title               object\n",
       "director            object\n",
       "cast                object\n",
       "country             object\n",
       "release_year         int64\n",
       "rating              object\n",
       "listed_in           object\n",
       "description         object\n",
       "release_month       object\n",
       "year_added          object\n",
       "times_duration      object\n",
       "seasons_duration    object\n",
       "dtype: object"
      ]
     },
     "execution_count": 41,
     "metadata": {},
     "output_type": "execute_result"
    }
   ],
   "source": [
    "df_netflix.dtypes"
   ]
  },
  {
   "cell_type": "code",
   "execution_count": 42,
   "id": "757792af",
   "metadata": {
    "execution": {
     "iopub.execute_input": "2024-06-26T14:52:12.364476Z",
     "iopub.status.busy": "2024-06-26T14:52:12.363610Z",
     "iopub.status.idle": "2024-06-26T14:52:12.371530Z",
     "shell.execute_reply": "2024-06-26T14:52:12.370422Z"
    },
    "papermill": {
     "duration": 0.043844,
     "end_time": "2024-06-26T14:52:12.374010",
     "exception": false,
     "start_time": "2024-06-26T14:52:12.330166",
     "status": "completed"
    },
    "tags": []
   },
   "outputs": [
    {
     "data": {
      "text/plain": [
       "Index(['show_id', 'type', 'title', 'director', 'cast', 'country',\n",
       "       'release_year', 'rating', 'listed_in', 'description', 'release_month',\n",
       "       'year_added', 'times_duration', 'seasons_duration'],\n",
       "      dtype='object')"
      ]
     },
     "execution_count": 42,
     "metadata": {},
     "output_type": "execute_result"
    }
   ],
   "source": [
    "df_netflix.columns"
   ]
  },
  {
   "cell_type": "code",
   "execution_count": 43,
   "id": "4e5414e7",
   "metadata": {
    "execution": {
     "iopub.execute_input": "2024-06-26T14:52:12.438660Z",
     "iopub.status.busy": "2024-06-26T14:52:12.438271Z",
     "iopub.status.idle": "2024-06-26T14:52:12.453371Z",
     "shell.execute_reply": "2024-06-26T14:52:12.452222Z"
    },
    "papermill": {
     "duration": 0.050377,
     "end_time": "2024-06-26T14:52:12.455998",
     "exception": false,
     "start_time": "2024-06-26T14:52:12.405621",
     "status": "completed"
    },
    "tags": []
   },
   "outputs": [
    {
     "data": {
      "text/plain": [
       "Index(['show_id', 'type', 'title', 'director', 'cast', 'country', 'rating',\n",
       "       'listed_in', 'description', 'release_month', 'year_added',\n",
       "       'times_duration', 'seasons_duration'],\n",
       "      dtype='object')"
      ]
     },
     "execution_count": 43,
     "metadata": {},
     "output_type": "execute_result"
    }
   ],
   "source": [
    "df_netflix.select_dtypes('object').columns"
   ]
  },
  {
   "cell_type": "code",
   "execution_count": 44,
   "id": "3c9abbff",
   "metadata": {
    "execution": {
     "iopub.execute_input": "2024-06-26T14:52:12.519969Z",
     "iopub.status.busy": "2024-06-26T14:52:12.519557Z",
     "iopub.status.idle": "2024-06-26T14:52:12.527763Z",
     "shell.execute_reply": "2024-06-26T14:52:12.526744Z"
    },
    "papermill": {
     "duration": 0.042982,
     "end_time": "2024-06-26T14:52:12.530102",
     "exception": false,
     "start_time": "2024-06-26T14:52:12.487120",
     "status": "completed"
    },
    "tags": []
   },
   "outputs": [
    {
     "data": {
      "text/plain": [
       "Index(['release_year'], dtype='object')"
      ]
     },
     "execution_count": 44,
     "metadata": {},
     "output_type": "execute_result"
    }
   ],
   "source": [
    "df_netflix.select_dtypes('int').columns"
   ]
  },
  {
   "cell_type": "code",
   "execution_count": 45,
   "id": "138c15b2",
   "metadata": {
    "execution": {
     "iopub.execute_input": "2024-06-26T14:52:12.596138Z",
     "iopub.status.busy": "2024-06-26T14:52:12.595357Z",
     "iopub.status.idle": "2024-06-26T14:52:12.630032Z",
     "shell.execute_reply": "2024-06-26T14:52:12.628977Z"
    },
    "papermill": {
     "duration": 0.071201,
     "end_time": "2024-06-26T14:52:12.633083",
     "exception": false,
     "start_time": "2024-06-26T14:52:12.561882",
     "status": "completed"
    },
    "tags": []
   },
   "outputs": [],
   "source": [
    "object_columns=df_netflix.select_dtypes('object').columns\n",
    "integer_columns=df_netflix.select_dtypes('int').columns\n",
    "for column in df_netflix.columns:\n",
    "    if column in object_columns:\n",
    "        df_netflix[column]=df_netflix[column].fillna('Not Available')\n",
    "    if column in integer_columns:\n",
    "        df_netflix[column]=df_netflix[column].fillna(0)"
   ]
  },
  {
   "cell_type": "code",
   "execution_count": 46,
   "id": "c7380982",
   "metadata": {
    "execution": {
     "iopub.execute_input": "2024-06-26T14:52:12.697975Z",
     "iopub.status.busy": "2024-06-26T14:52:12.697502Z",
     "iopub.status.idle": "2024-06-26T14:52:12.723239Z",
     "shell.execute_reply": "2024-06-26T14:52:12.721981Z"
    },
    "papermill": {
     "duration": 0.061423,
     "end_time": "2024-06-26T14:52:12.726054",
     "exception": false,
     "start_time": "2024-06-26T14:52:12.664631",
     "status": "completed"
    },
    "tags": []
   },
   "outputs": [
    {
     "data": {
      "text/plain": [
       "show_id             0\n",
       "type                0\n",
       "title               0\n",
       "director            0\n",
       "cast                0\n",
       "country             0\n",
       "release_year        0\n",
       "rating              0\n",
       "listed_in           0\n",
       "description         0\n",
       "release_month       0\n",
       "year_added          0\n",
       "times_duration      0\n",
       "seasons_duration    0\n",
       "dtype: int64"
      ]
     },
     "execution_count": 46,
     "metadata": {},
     "output_type": "execute_result"
    }
   ],
   "source": [
    "df_netflix.isna().sum()"
   ]
  },
  {
   "cell_type": "markdown",
   "id": "d5b30456",
   "metadata": {
    "papermill": {
     "duration": 0.030914,
     "end_time": "2024-06-26T14:52:12.789148",
     "exception": false,
     "start_time": "2024-06-26T14:52:12.758234",
     "status": "completed"
    },
    "tags": []
   },
   "source": [
    "### Setting Data Type Of Time Duration And Season Duration Features To View Movies Vs Web Series "
   ]
  },
  {
   "cell_type": "code",
   "execution_count": 47,
   "id": "cf0a3ae3",
   "metadata": {
    "execution": {
     "iopub.execute_input": "2024-06-26T14:52:12.854343Z",
     "iopub.status.busy": "2024-06-26T14:52:12.853284Z",
     "iopub.status.idle": "2024-06-26T14:52:12.860884Z",
     "shell.execute_reply": "2024-06-26T14:52:12.859640Z"
    },
    "papermill": {
     "duration": 0.042908,
     "end_time": "2024-06-26T14:52:12.863349",
     "exception": false,
     "start_time": "2024-06-26T14:52:12.820441",
     "status": "completed"
    },
    "tags": []
   },
   "outputs": [],
   "source": [
    "df_netflix['times_duration']=df_netflix['times_duration'].astype(int)"
   ]
  },
  {
   "cell_type": "code",
   "execution_count": 48,
   "id": "bc2c7a43",
   "metadata": {
    "execution": {
     "iopub.execute_input": "2024-06-26T14:52:12.928236Z",
     "iopub.status.busy": "2024-06-26T14:52:12.927847Z",
     "iopub.status.idle": "2024-06-26T14:52:12.934940Z",
     "shell.execute_reply": "2024-06-26T14:52:12.933751Z"
    },
    "papermill": {
     "duration": 0.04258,
     "end_time": "2024-06-26T14:52:12.937486",
     "exception": false,
     "start_time": "2024-06-26T14:52:12.894906",
     "status": "completed"
    },
    "tags": []
   },
   "outputs": [],
   "source": [
    "df_netflix['seasons_duration']=df_netflix['seasons_duration'].astype(int)"
   ]
  },
  {
   "cell_type": "code",
   "execution_count": 49,
   "id": "a40e2f35",
   "metadata": {
    "execution": {
     "iopub.execute_input": "2024-06-26T14:52:13.002345Z",
     "iopub.status.busy": "2024-06-26T14:52:13.001960Z",
     "iopub.status.idle": "2024-06-26T14:52:13.011656Z",
     "shell.execute_reply": "2024-06-26T14:52:13.010126Z"
    },
    "papermill": {
     "duration": 0.045282,
     "end_time": "2024-06-26T14:52:13.014336",
     "exception": false,
     "start_time": "2024-06-26T14:52:12.969054",
     "status": "completed"
    },
    "tags": []
   },
   "outputs": [
    {
     "data": {
      "text/plain": [
       "show_id             object\n",
       "type                object\n",
       "title               object\n",
       "director            object\n",
       "cast                object\n",
       "country             object\n",
       "release_year         int64\n",
       "rating              object\n",
       "listed_in           object\n",
       "description         object\n",
       "release_month       object\n",
       "year_added          object\n",
       "times_duration       int64\n",
       "seasons_duration     int64\n",
       "dtype: object"
      ]
     },
     "execution_count": 49,
     "metadata": {},
     "output_type": "execute_result"
    }
   ],
   "source": [
    "df_netflix.dtypes"
   ]
  },
  {
   "cell_type": "code",
   "execution_count": 50,
   "id": "4a337b49",
   "metadata": {
    "execution": {
     "iopub.execute_input": "2024-06-26T14:52:13.081866Z",
     "iopub.status.busy": "2024-06-26T14:52:13.080691Z",
     "iopub.status.idle": "2024-06-26T14:52:13.092300Z",
     "shell.execute_reply": "2024-06-26T14:52:13.090799Z"
    },
    "papermill": {
     "duration": 0.04855,
     "end_time": "2024-06-26T14:52:13.094827",
     "exception": false,
     "start_time": "2024-06-26T14:52:13.046277",
     "status": "completed"
    },
    "tags": []
   },
   "outputs": [
    {
     "name": "stdout",
     "output_type": "stream",
     "text": [
      "2679 6128\n"
     ]
    }
   ],
   "source": [
    "count_times=0\n",
    "count_season=0\n",
    "for i in df_netflix['times_duration']:\n",
    "    if(i==0):\n",
    "        count_times+=1  \n",
    "    else:\n",
    "        count_season+=1\n",
    "print(count_times,count_season)"
   ]
  },
  {
   "cell_type": "code",
   "execution_count": 51,
   "id": "3a17d04d",
   "metadata": {
    "execution": {
     "iopub.execute_input": "2024-06-26T14:52:13.160246Z",
     "iopub.status.busy": "2024-06-26T14:52:13.159808Z",
     "iopub.status.idle": "2024-06-26T14:52:13.229616Z",
     "shell.execute_reply": "2024-06-26T14:52:13.228486Z"
    },
    "papermill": {
     "duration": 0.105592,
     "end_time": "2024-06-26T14:52:13.232248",
     "exception": false,
     "start_time": "2024-06-26T14:52:13.126656",
     "status": "completed"
    },
    "tags": []
   },
   "outputs": [
    {
     "data": {
      "text/html": [
       "<div>                            <div id=\"23580738-0642-4909-83c8-2991f48625cb\" class=\"plotly-graph-div\" style=\"height:525px; width:100%;\"></div>            <script type=\"text/javascript\">                require([\"plotly\"], function(Plotly) {                    window.PLOTLYENV=window.PLOTLYENV || {};                                    if (document.getElementById(\"23580738-0642-4909-83c8-2991f48625cb\")) {                    Plotly.newPlot(                        \"23580738-0642-4909-83c8-2991f48625cb\",                        [{\"alignmentgroup\":\"True\",\"hovertemplate\":\"x=%{x}\\u003cbr\\u003ey=%{y}\\u003cextra\\u003e\\u003c\\u002fextra\\u003e\",\"legendgroup\":\"\",\"marker\":{\"color\":\"#636efa\",\"pattern\":{\"shape\":\"\"}},\"name\":\"\",\"offsetgroup\":\"\",\"orientation\":\"v\",\"showlegend\":false,\"textposition\":\"auto\",\"x\":[\"count_times\",\"count_season\"],\"xaxis\":\"x\",\"y\":[2679,6128],\"yaxis\":\"y\",\"type\":\"bar\"}],                        {\"template\":{\"data\":{\"histogram2dcontour\":[{\"type\":\"histogram2dcontour\",\"colorbar\":{\"outlinewidth\":0,\"ticks\":\"\"},\"colorscale\":[[0.0,\"#0d0887\"],[0.1111111111111111,\"#46039f\"],[0.2222222222222222,\"#7201a8\"],[0.3333333333333333,\"#9c179e\"],[0.4444444444444444,\"#bd3786\"],[0.5555555555555556,\"#d8576b\"],[0.6666666666666666,\"#ed7953\"],[0.7777777777777778,\"#fb9f3a\"],[0.8888888888888888,\"#fdca26\"],[1.0,\"#f0f921\"]]}],\"choropleth\":[{\"type\":\"choropleth\",\"colorbar\":{\"outlinewidth\":0,\"ticks\":\"\"}}],\"histogram2d\":[{\"type\":\"histogram2d\",\"colorbar\":{\"outlinewidth\":0,\"ticks\":\"\"},\"colorscale\":[[0.0,\"#0d0887\"],[0.1111111111111111,\"#46039f\"],[0.2222222222222222,\"#7201a8\"],[0.3333333333333333,\"#9c179e\"],[0.4444444444444444,\"#bd3786\"],[0.5555555555555556,\"#d8576b\"],[0.6666666666666666,\"#ed7953\"],[0.7777777777777778,\"#fb9f3a\"],[0.8888888888888888,\"#fdca26\"],[1.0,\"#f0f921\"]]}],\"heatmap\":[{\"type\":\"heatmap\",\"colorbar\":{\"outlinewidth\":0,\"ticks\":\"\"},\"colorscale\":[[0.0,\"#0d0887\"],[0.1111111111111111,\"#46039f\"],[0.2222222222222222,\"#7201a8\"],[0.3333333333333333,\"#9c179e\"],[0.4444444444444444,\"#bd3786\"],[0.5555555555555556,\"#d8576b\"],[0.6666666666666666,\"#ed7953\"],[0.7777777777777778,\"#fb9f3a\"],[0.8888888888888888,\"#fdca26\"],[1.0,\"#f0f921\"]]}],\"heatmapgl\":[{\"type\":\"heatmapgl\",\"colorbar\":{\"outlinewidth\":0,\"ticks\":\"\"},\"colorscale\":[[0.0,\"#0d0887\"],[0.1111111111111111,\"#46039f\"],[0.2222222222222222,\"#7201a8\"],[0.3333333333333333,\"#9c179e\"],[0.4444444444444444,\"#bd3786\"],[0.5555555555555556,\"#d8576b\"],[0.6666666666666666,\"#ed7953\"],[0.7777777777777778,\"#fb9f3a\"],[0.8888888888888888,\"#fdca26\"],[1.0,\"#f0f921\"]]}],\"contourcarpet\":[{\"type\":\"contourcarpet\",\"colorbar\":{\"outlinewidth\":0,\"ticks\":\"\"}}],\"contour\":[{\"type\":\"contour\",\"colorbar\":{\"outlinewidth\":0,\"ticks\":\"\"},\"colorscale\":[[0.0,\"#0d0887\"],[0.1111111111111111,\"#46039f\"],[0.2222222222222222,\"#7201a8\"],[0.3333333333333333,\"#9c179e\"],[0.4444444444444444,\"#bd3786\"],[0.5555555555555556,\"#d8576b\"],[0.6666666666666666,\"#ed7953\"],[0.7777777777777778,\"#fb9f3a\"],[0.8888888888888888,\"#fdca26\"],[1.0,\"#f0f921\"]]}],\"surface\":[{\"type\":\"surface\",\"colorbar\":{\"outlinewidth\":0,\"ticks\":\"\"},\"colorscale\":[[0.0,\"#0d0887\"],[0.1111111111111111,\"#46039f\"],[0.2222222222222222,\"#7201a8\"],[0.3333333333333333,\"#9c179e\"],[0.4444444444444444,\"#bd3786\"],[0.5555555555555556,\"#d8576b\"],[0.6666666666666666,\"#ed7953\"],[0.7777777777777778,\"#fb9f3a\"],[0.8888888888888888,\"#fdca26\"],[1.0,\"#f0f921\"]]}],\"mesh3d\":[{\"type\":\"mesh3d\",\"colorbar\":{\"outlinewidth\":0,\"ticks\":\"\"}}],\"scatter\":[{\"fillpattern\":{\"fillmode\":\"overlay\",\"size\":10,\"solidity\":0.2},\"type\":\"scatter\"}],\"parcoords\":[{\"type\":\"parcoords\",\"line\":{\"colorbar\":{\"outlinewidth\":0,\"ticks\":\"\"}}}],\"scatterpolargl\":[{\"type\":\"scatterpolargl\",\"marker\":{\"colorbar\":{\"outlinewidth\":0,\"ticks\":\"\"}}}],\"bar\":[{\"error_x\":{\"color\":\"#2a3f5f\"},\"error_y\":{\"color\":\"#2a3f5f\"},\"marker\":{\"line\":{\"color\":\"#E5ECF6\",\"width\":0.5},\"pattern\":{\"fillmode\":\"overlay\",\"size\":10,\"solidity\":0.2}},\"type\":\"bar\"}],\"scattergeo\":[{\"type\":\"scattergeo\",\"marker\":{\"colorbar\":{\"outlinewidth\":0,\"ticks\":\"\"}}}],\"scatterpolar\":[{\"type\":\"scatterpolar\",\"marker\":{\"colorbar\":{\"outlinewidth\":0,\"ticks\":\"\"}}}],\"histogram\":[{\"marker\":{\"pattern\":{\"fillmode\":\"overlay\",\"size\":10,\"solidity\":0.2}},\"type\":\"histogram\"}],\"scattergl\":[{\"type\":\"scattergl\",\"marker\":{\"colorbar\":{\"outlinewidth\":0,\"ticks\":\"\"}}}],\"scatter3d\":[{\"type\":\"scatter3d\",\"line\":{\"colorbar\":{\"outlinewidth\":0,\"ticks\":\"\"}},\"marker\":{\"colorbar\":{\"outlinewidth\":0,\"ticks\":\"\"}}}],\"scattermapbox\":[{\"type\":\"scattermapbox\",\"marker\":{\"colorbar\":{\"outlinewidth\":0,\"ticks\":\"\"}}}],\"scatterternary\":[{\"type\":\"scatterternary\",\"marker\":{\"colorbar\":{\"outlinewidth\":0,\"ticks\":\"\"}}}],\"scattercarpet\":[{\"type\":\"scattercarpet\",\"marker\":{\"colorbar\":{\"outlinewidth\":0,\"ticks\":\"\"}}}],\"carpet\":[{\"aaxis\":{\"endlinecolor\":\"#2a3f5f\",\"gridcolor\":\"white\",\"linecolor\":\"white\",\"minorgridcolor\":\"white\",\"startlinecolor\":\"#2a3f5f\"},\"baxis\":{\"endlinecolor\":\"#2a3f5f\",\"gridcolor\":\"white\",\"linecolor\":\"white\",\"minorgridcolor\":\"white\",\"startlinecolor\":\"#2a3f5f\"},\"type\":\"carpet\"}],\"table\":[{\"cells\":{\"fill\":{\"color\":\"#EBF0F8\"},\"line\":{\"color\":\"white\"}},\"header\":{\"fill\":{\"color\":\"#C8D4E3\"},\"line\":{\"color\":\"white\"}},\"type\":\"table\"}],\"barpolar\":[{\"marker\":{\"line\":{\"color\":\"#E5ECF6\",\"width\":0.5},\"pattern\":{\"fillmode\":\"overlay\",\"size\":10,\"solidity\":0.2}},\"type\":\"barpolar\"}],\"pie\":[{\"automargin\":true,\"type\":\"pie\"}]},\"layout\":{\"autotypenumbers\":\"strict\",\"colorway\":[\"#636efa\",\"#EF553B\",\"#00cc96\",\"#ab63fa\",\"#FFA15A\",\"#19d3f3\",\"#FF6692\",\"#B6E880\",\"#FF97FF\",\"#FECB52\"],\"font\":{\"color\":\"#2a3f5f\"},\"hovermode\":\"closest\",\"hoverlabel\":{\"align\":\"left\"},\"paper_bgcolor\":\"white\",\"plot_bgcolor\":\"#E5ECF6\",\"polar\":{\"bgcolor\":\"#E5ECF6\",\"angularaxis\":{\"gridcolor\":\"white\",\"linecolor\":\"white\",\"ticks\":\"\"},\"radialaxis\":{\"gridcolor\":\"white\",\"linecolor\":\"white\",\"ticks\":\"\"}},\"ternary\":{\"bgcolor\":\"#E5ECF6\",\"aaxis\":{\"gridcolor\":\"white\",\"linecolor\":\"white\",\"ticks\":\"\"},\"baxis\":{\"gridcolor\":\"white\",\"linecolor\":\"white\",\"ticks\":\"\"},\"caxis\":{\"gridcolor\":\"white\",\"linecolor\":\"white\",\"ticks\":\"\"}},\"coloraxis\":{\"colorbar\":{\"outlinewidth\":0,\"ticks\":\"\"}},\"colorscale\":{\"sequential\":[[0.0,\"#0d0887\"],[0.1111111111111111,\"#46039f\"],[0.2222222222222222,\"#7201a8\"],[0.3333333333333333,\"#9c179e\"],[0.4444444444444444,\"#bd3786\"],[0.5555555555555556,\"#d8576b\"],[0.6666666666666666,\"#ed7953\"],[0.7777777777777778,\"#fb9f3a\"],[0.8888888888888888,\"#fdca26\"],[1.0,\"#f0f921\"]],\"sequentialminus\":[[0.0,\"#0d0887\"],[0.1111111111111111,\"#46039f\"],[0.2222222222222222,\"#7201a8\"],[0.3333333333333333,\"#9c179e\"],[0.4444444444444444,\"#bd3786\"],[0.5555555555555556,\"#d8576b\"],[0.6666666666666666,\"#ed7953\"],[0.7777777777777778,\"#fb9f3a\"],[0.8888888888888888,\"#fdca26\"],[1.0,\"#f0f921\"]],\"diverging\":[[0,\"#8e0152\"],[0.1,\"#c51b7d\"],[0.2,\"#de77ae\"],[0.3,\"#f1b6da\"],[0.4,\"#fde0ef\"],[0.5,\"#f7f7f7\"],[0.6,\"#e6f5d0\"],[0.7,\"#b8e186\"],[0.8,\"#7fbc41\"],[0.9,\"#4d9221\"],[1,\"#276419\"]]},\"xaxis\":{\"gridcolor\":\"white\",\"linecolor\":\"white\",\"ticks\":\"\",\"title\":{\"standoff\":15},\"zerolinecolor\":\"white\",\"automargin\":true,\"zerolinewidth\":2},\"yaxis\":{\"gridcolor\":\"white\",\"linecolor\":\"white\",\"ticks\":\"\",\"title\":{\"standoff\":15},\"zerolinecolor\":\"white\",\"automargin\":true,\"zerolinewidth\":2},\"scene\":{\"xaxis\":{\"backgroundcolor\":\"#E5ECF6\",\"gridcolor\":\"white\",\"linecolor\":\"white\",\"showbackground\":true,\"ticks\":\"\",\"zerolinecolor\":\"white\",\"gridwidth\":2},\"yaxis\":{\"backgroundcolor\":\"#E5ECF6\",\"gridcolor\":\"white\",\"linecolor\":\"white\",\"showbackground\":true,\"ticks\":\"\",\"zerolinecolor\":\"white\",\"gridwidth\":2},\"zaxis\":{\"backgroundcolor\":\"#E5ECF6\",\"gridcolor\":\"white\",\"linecolor\":\"white\",\"showbackground\":true,\"ticks\":\"\",\"zerolinecolor\":\"white\",\"gridwidth\":2}},\"shapedefaults\":{\"line\":{\"color\":\"#2a3f5f\"}},\"annotationdefaults\":{\"arrowcolor\":\"#2a3f5f\",\"arrowhead\":0,\"arrowwidth\":1},\"geo\":{\"bgcolor\":\"white\",\"landcolor\":\"#E5ECF6\",\"subunitcolor\":\"white\",\"showland\":true,\"showlakes\":true,\"lakecolor\":\"white\"},\"title\":{\"x\":0.05},\"mapbox\":{\"style\":\"light\"}}},\"xaxis\":{\"anchor\":\"y\",\"domain\":[0.0,1.0],\"title\":{\"text\":\"x\"}},\"yaxis\":{\"anchor\":\"x\",\"domain\":[0.0,1.0],\"title\":{\"text\":\"y\"}},\"legend\":{\"tracegroupgap\":0},\"title\":{\"text\":\"Movies Vs Web Series\"},\"barmode\":\"relative\"},                        {\"responsive\": true}                    ).then(function(){\n",
       "                            \n",
       "var gd = document.getElementById('23580738-0642-4909-83c8-2991f48625cb');\n",
       "var x = new MutationObserver(function (mutations, observer) {{\n",
       "        var display = window.getComputedStyle(gd).display;\n",
       "        if (!display || display === 'none') {{\n",
       "            console.log([gd, 'removed!']);\n",
       "            Plotly.purge(gd);\n",
       "            observer.disconnect();\n",
       "        }}\n",
       "}});\n",
       "\n",
       "// Listen for the removal of the full notebook cells\n",
       "var notebookContainer = gd.closest('#notebook-container');\n",
       "if (notebookContainer) {{\n",
       "    x.observe(notebookContainer, {childList: true});\n",
       "}}\n",
       "\n",
       "// Listen for the clearing of the current output cell\n",
       "var outputEl = gd.closest('.output');\n",
       "if (outputEl) {{\n",
       "    x.observe(outputEl, {childList: true});\n",
       "}}\n",
       "\n",
       "                        })                };                });            </script>        </div>"
      ]
     },
     "metadata": {},
     "output_type": "display_data"
    }
   ],
   "source": [
    "fig=px.bar(x=['count_times','count_season'],y=[count_times,count_season],title='Movies Vs Web Series')\n",
    "fig.show()"
   ]
  },
  {
   "cell_type": "markdown",
   "id": "3b62bc83",
   "metadata": {
    "papermill": {
     "duration": 0.031911,
     "end_time": "2024-06-26T14:52:13.296270",
     "exception": false,
     "start_time": "2024-06-26T14:52:13.264359",
     "status": "completed"
    },
    "tags": []
   },
   "source": [
    "### Show With Maximum Seasons"
   ]
  },
  {
   "cell_type": "code",
   "execution_count": 52,
   "id": "259980ad",
   "metadata": {
    "execution": {
     "iopub.execute_input": "2024-06-26T14:52:13.363643Z",
     "iopub.status.busy": "2024-06-26T14:52:13.363258Z",
     "iopub.status.idle": "2024-06-26T14:52:13.382663Z",
     "shell.execute_reply": "2024-06-26T14:52:13.381286Z"
    },
    "papermill": {
     "duration": 0.056808,
     "end_time": "2024-06-26T14:52:13.385286",
     "exception": false,
     "start_time": "2024-06-26T14:52:13.328478",
     "status": "completed"
    },
    "tags": []
   },
   "outputs": [
    {
     "data": {
      "text/html": [
       "<div>\n",
       "<style scoped>\n",
       "    .dataframe tbody tr th:only-of-type {\n",
       "        vertical-align: middle;\n",
       "    }\n",
       "\n",
       "    .dataframe tbody tr th {\n",
       "        vertical-align: top;\n",
       "    }\n",
       "\n",
       "    .dataframe thead th {\n",
       "        text-align: right;\n",
       "    }\n",
       "</style>\n",
       "<table border=\"1\" class=\"dataframe\">\n",
       "  <thead>\n",
       "    <tr style=\"text-align: right;\">\n",
       "      <th></th>\n",
       "      <th>show_id</th>\n",
       "      <th>type</th>\n",
       "      <th>title</th>\n",
       "      <th>director</th>\n",
       "      <th>cast</th>\n",
       "      <th>country</th>\n",
       "      <th>release_year</th>\n",
       "      <th>rating</th>\n",
       "      <th>listed_in</th>\n",
       "      <th>description</th>\n",
       "      <th>release_month</th>\n",
       "      <th>year_added</th>\n",
       "      <th>times_duration</th>\n",
       "      <th>seasons_duration</th>\n",
       "    </tr>\n",
       "  </thead>\n",
       "  <tbody>\n",
       "    <tr>\n",
       "      <th>548</th>\n",
       "      <td>s549</td>\n",
       "      <td>TV Show</td>\n",
       "      <td>Grey's Anatomy</td>\n",
       "      <td>Not Available</td>\n",
       "      <td>Ellen Pompeo, Sandra Oh, Katherine Heigl, Just...</td>\n",
       "      <td>United States</td>\n",
       "      <td>2020</td>\n",
       "      <td>TV-14</td>\n",
       "      <td>Romantic TV Shows, TV Dramas</td>\n",
       "      <td>Intern (and eventual resident) Meredith Grey f...</td>\n",
       "      <td>July</td>\n",
       "      <td>2021</td>\n",
       "      <td>0</td>\n",
       "      <td>17</td>\n",
       "    </tr>\n",
       "  </tbody>\n",
       "</table>\n",
       "</div>"
      ],
      "text/plain": [
       "    show_id     type           title       director  \\\n",
       "548    s549  TV Show  Grey's Anatomy  Not Available   \n",
       "\n",
       "                                                  cast        country  \\\n",
       "548  Ellen Pompeo, Sandra Oh, Katherine Heigl, Just...  United States   \n",
       "\n",
       "     release_year rating                     listed_in  \\\n",
       "548          2020  TV-14  Romantic TV Shows, TV Dramas   \n",
       "\n",
       "                                           description release_month  \\\n",
       "548  Intern (and eventual resident) Meredith Grey f...          July   \n",
       "\n",
       "    year_added  times_duration  seasons_duration  \n",
       "548       2021               0                17  "
      ]
     },
     "execution_count": 52,
     "metadata": {},
     "output_type": "execute_result"
    }
   ],
   "source": [
    "df_netflix[df_netflix['seasons_duration']==df_netflix['seasons_duration'].max()]"
   ]
  },
  {
   "cell_type": "markdown",
   "id": "9a25c409",
   "metadata": {
    "papermill": {
     "duration": 0.032803,
     "end_time": "2024-06-26T14:52:13.453320",
     "exception": false,
     "start_time": "2024-06-26T14:52:13.420517",
     "status": "completed"
    },
    "tags": []
   },
   "source": [
    "### Show With Maximum Time Duration"
   ]
  },
  {
   "cell_type": "code",
   "execution_count": 53,
   "id": "f1b20477",
   "metadata": {
    "execution": {
     "iopub.execute_input": "2024-06-26T14:52:13.520295Z",
     "iopub.status.busy": "2024-06-26T14:52:13.519817Z",
     "iopub.status.idle": "2024-06-26T14:52:13.538967Z",
     "shell.execute_reply": "2024-06-26T14:52:13.537654Z"
    },
    "papermill": {
     "duration": 0.055907,
     "end_time": "2024-06-26T14:52:13.541617",
     "exception": false,
     "start_time": "2024-06-26T14:52:13.485710",
     "status": "completed"
    },
    "tags": []
   },
   "outputs": [
    {
     "data": {
      "text/html": [
       "<div>\n",
       "<style scoped>\n",
       "    .dataframe tbody tr th:only-of-type {\n",
       "        vertical-align: middle;\n",
       "    }\n",
       "\n",
       "    .dataframe tbody tr th {\n",
       "        vertical-align: top;\n",
       "    }\n",
       "\n",
       "    .dataframe thead th {\n",
       "        text-align: right;\n",
       "    }\n",
       "</style>\n",
       "<table border=\"1\" class=\"dataframe\">\n",
       "  <thead>\n",
       "    <tr style=\"text-align: right;\">\n",
       "      <th></th>\n",
       "      <th>show_id</th>\n",
       "      <th>type</th>\n",
       "      <th>title</th>\n",
       "      <th>director</th>\n",
       "      <th>cast</th>\n",
       "      <th>country</th>\n",
       "      <th>release_year</th>\n",
       "      <th>rating</th>\n",
       "      <th>listed_in</th>\n",
       "      <th>description</th>\n",
       "      <th>release_month</th>\n",
       "      <th>year_added</th>\n",
       "      <th>times_duration</th>\n",
       "      <th>seasons_duration</th>\n",
       "    </tr>\n",
       "  </thead>\n",
       "  <tbody>\n",
       "    <tr>\n",
       "      <th>4253</th>\n",
       "      <td>s4254</td>\n",
       "      <td>Movie</td>\n",
       "      <td>Black Mirror: Bandersnatch</td>\n",
       "      <td>Not Available</td>\n",
       "      <td>Fionn Whitehead, Will Poulter, Craig Parkinson...</td>\n",
       "      <td>United States</td>\n",
       "      <td>2018</td>\n",
       "      <td>TV-MA</td>\n",
       "      <td>Dramas, International Movies, Sci-Fi &amp; Fantasy</td>\n",
       "      <td>In 1984, a young programmer begins to question...</td>\n",
       "      <td>December</td>\n",
       "      <td>2018</td>\n",
       "      <td>312</td>\n",
       "      <td>0</td>\n",
       "    </tr>\n",
       "  </tbody>\n",
       "</table>\n",
       "</div>"
      ],
      "text/plain": [
       "     show_id   type                       title       director  \\\n",
       "4253   s4254  Movie  Black Mirror: Bandersnatch  Not Available   \n",
       "\n",
       "                                                   cast        country  \\\n",
       "4253  Fionn Whitehead, Will Poulter, Craig Parkinson...  United States   \n",
       "\n",
       "      release_year rating                                       listed_in  \\\n",
       "4253          2018  TV-MA  Dramas, International Movies, Sci-Fi & Fantasy   \n",
       "\n",
       "                                            description release_month  \\\n",
       "4253  In 1984, a young programmer begins to question...      December   \n",
       "\n",
       "     year_added  times_duration  seasons_duration  \n",
       "4253       2018             312                 0  "
      ]
     },
     "execution_count": 53,
     "metadata": {},
     "output_type": "execute_result"
    }
   ],
   "source": [
    "df_netflix[df_netflix['times_duration']==df_netflix['times_duration'].max()]"
   ]
  },
  {
   "cell_type": "markdown",
   "id": "f8ec9c44",
   "metadata": {
    "papermill": {
     "duration": 0.033542,
     "end_time": "2024-06-26T14:52:13.608228",
     "exception": false,
     "start_time": "2024-06-26T14:52:13.574686",
     "status": "completed"
    },
    "tags": []
   },
   "source": [
    "### Jitendra Kumar Shows On Netflix"
   ]
  },
  {
   "cell_type": "code",
   "execution_count": 54,
   "id": "a3ed6131",
   "metadata": {
    "execution": {
     "iopub.execute_input": "2024-06-26T14:52:13.675409Z",
     "iopub.status.busy": "2024-06-26T14:52:13.675026Z",
     "iopub.status.idle": "2024-06-26T14:52:14.241147Z",
     "shell.execute_reply": "2024-06-26T14:52:14.239949Z"
    },
    "papermill": {
     "duration": 0.603075,
     "end_time": "2024-06-26T14:52:14.243986",
     "exception": false,
     "start_time": "2024-06-26T14:52:13.640911",
     "status": "completed"
    },
    "tags": []
   },
   "outputs": [
    {
     "name": "stdout",
     "output_type": "stream",
     "text": [
      "TV Show || Kota Factory || Not Available || Mayur More, Jitendra Kumar, Ranjan Raj, Alam Khan, Ahsaas Channa, Revathi Pillai, Urvi Singh, Arun Kumar || India || 2021 \n",
      "\n",
      "Movie || Chaman Bahaar || Apurva Dhar Badgaiyann || Jitendra Kumar, Ritika Badiani, Yogendra Tikku, Bhuvan Arora, Alam Khan, Dhirendra Tiwari, Ashwani Kumar, Bhagwan Tiwari || India || 2020 \n",
      "\n"
     ]
    }
   ],
   "source": [
    "for index,row in df_netflix.iterrows():\n",
    "    if 'Jitendra Kumar' in row['cast']:\n",
    "        print(row['type'],'||',row['title'],'||',row['director'],'||',row['cast'],'||',row['country'],'||',row['release_year'],'\\n')"
   ]
  },
  {
   "cell_type": "markdown",
   "id": "88f46abf",
   "metadata": {
    "papermill": {
     "duration": 0.032758,
     "end_time": "2024-06-26T14:52:14.311885",
     "exception": false,
     "start_time": "2024-06-26T14:52:14.279127",
     "status": "completed"
    },
    "tags": []
   },
   "source": [
    "### Ayushmann Khurrana Shows On Netflix"
   ]
  },
  {
   "cell_type": "code",
   "execution_count": 55,
   "id": "0e0ae9b6",
   "metadata": {
    "execution": {
     "iopub.execute_input": "2024-06-26T14:52:14.381628Z",
     "iopub.status.busy": "2024-06-26T14:52:14.381237Z",
     "iopub.status.idle": "2024-06-26T14:52:14.947643Z",
     "shell.execute_reply": "2024-06-26T14:52:14.946526Z"
    },
    "papermill": {
     "duration": 0.604852,
     "end_time": "2024-06-26T14:52:14.950611",
     "exception": false,
     "start_time": "2024-06-26T14:52:14.345759",
     "status": "completed"
    },
    "tags": []
   },
   "outputs": [
    {
     "name": "stdout",
     "output_type": "stream",
     "text": [
      "Movie || Hawaizaada || Vibhu Virender Puri || Ayushmann Khurrana, Mithun Chakraborty, Pallavi Sharda, Naman Jain, Jameel Khan || India || 2015 \n",
      "\n",
      "Movie || Article 15 || Anubhav Sinha || Ayushmann Khurrana, Nassar, Manoj Pahwa, Kumud Mishra, Isha Talwar, Sayani Gupta, Mohammed Zeeshan Ayyub, Subhrajyoti Barat, Sushil Pandey, Aakash Dabhade || India || 2019 \n",
      "\n",
      "Movie || Andhadhun || Sriram Raghavan || Tabu, Ayushmann Khurrana, Radhika Apte, Anil Dhawan, Manav Vij, Zakir Hussain, Ashwini Kalsekar, Chhaya Kadam, Pawan Singh, Kabir Sajid || India || 2018 \n",
      "\n",
      "Movie || Bareilly Ki Barfi || Ashwiny Iyer Tiwari || Ayushmann Khurrana, Kriti Sanon, Rajkummar Rao, Pankaj Tripathi, Seema Pahwa, Rohit Chaudhury, Swati Semwal || India || 2017 \n",
      "\n"
     ]
    }
   ],
   "source": [
    "for index,row in df_netflix.iterrows():\n",
    "    if 'Ayushmann Khurrana' in row['cast']:\n",
    "        print(row['type'],'||',row['title'],'||',row['director'],'||',row['cast'],'||',row['country'],'||',row['release_year'],'\\n')"
   ]
  },
  {
   "cell_type": "markdown",
   "id": "cf2b919b",
   "metadata": {
    "papermill": {
     "duration": 0.034873,
     "end_time": "2024-06-26T14:52:15.018571",
     "exception": false,
     "start_time": "2024-06-26T14:52:14.983698",
     "status": "completed"
    },
    "tags": []
   },
   "source": [
    "### Pankaj Tripathi Shows On Netflix"
   ]
  },
  {
   "cell_type": "code",
   "execution_count": 56,
   "id": "373ce842",
   "metadata": {
    "execution": {
     "iopub.execute_input": "2024-06-26T14:52:15.087068Z",
     "iopub.status.busy": "2024-06-26T14:52:15.086595Z",
     "iopub.status.idle": "2024-06-26T14:52:15.659935Z",
     "shell.execute_reply": "2024-06-26T14:52:15.658566Z"
    },
    "papermill": {
     "duration": 0.611761,
     "end_time": "2024-06-26T14:52:15.662970",
     "exception": false,
     "start_time": "2024-06-26T14:52:15.051209",
     "status": "completed"
    },
    "tags": []
   },
   "outputs": [
    {
     "name": "stdout",
     "output_type": "stream",
     "text": [
      "Movie || Gurgaon || Shanker Raman || Akshay Oberoi, Pankaj Tripathi, Ragini Khanna, Aamir Bashir, Shalini Vatsa, Ashish Verma || India || 2017 \n",
      "\n",
      "Movie || Mimi || Laxman Utekar || Kriti Sanon, Pankaj Tripathi, Sai Tamhankar, Manoj Pahwa, Supriya Pathak, Evelyn Edwards || Not Available || 2021 \n",
      "\n",
      "Movie || Ludo || Anurag Basu || Abhishek Bachchan, Aditya Roy Kapur, Rajkummar Rao, Sanya Malhotra, Fatima Sana Shaikh, Pankaj Tripathi, Rohit Saraf, Shalini Vatsa, Pearle Maaney || India || 2020 \n",
      "\n",
      "Movie || Gunjan Saxena: The Kargil Girl || Sharan Sharma || Janhvi Kapoor, Pankaj Tripathi, Angad Bedi, Viineet Kumar, Manav Vij, Ayesha Raza Mishra || India || 2020 \n",
      "\n",
      "Movie || Fukrey || Mrighdeep Singh Lamba || Pulkit Samrat, Manjot Singh, Ali Fazal, Varun Sharma, Richa Chadda, Priya Anand, Vishakha Singh, Pankaj Tripathi || India || 2013 \n",
      "\n",
      "Movie || Drive || Tarun Mansukhani || Jacqueline Fernandez, Sushant Singh Rajput, Boman Irani, Pankaj Tripathi, Vikramjeet Virk, Sapna Pabbi, Vibha Chhibber, Kaustubh Kumar || India || 2019 \n",
      "\n",
      "Movie || Luka Chuppi || Laxman Utekar || Kartik Aaryan, Kriti Sanon, Pankaj Tripathi, Vinay Pathak, Aparshakti Khurana, Atul Srivastava, Alka Amin || India || 2019 \n",
      "\n",
      "Movie || Stree || Amar Kaushik || Rajkummar Rao, Shraddha Kapoor, Pankaj Tripathi, Aparshakti Khurana, Abhishek Banerjee, Atul Srivastava || India || 2018 \n",
      "\n",
      "Movie || Bareilly Ki Barfi || Ashwiny Iyer Tiwari || Ayushmann Khurrana, Kriti Sanon, Rajkummar Rao, Pankaj Tripathi, Seema Pahwa, Rohit Chaudhury, Swati Semwal || India || 2017 \n",
      "\n",
      "Movie || Dilwale || Rohit Shetty || Shah Rukh Khan, Kajol, Kriti Sanon, Kabir Bedi, Varun Dhawan, Boman Irani, Johnny Lever, Varun Sharma, Sanjay Mishra, Vinod Khanna, Mukesh Tiwari, Pankaj Tripathi, Shawar Ali || India || 2015 \n",
      "\n",
      "Movie || Anarkali of Aarah || Avinash Das || Swara Bhaskar, Sanjay Mishra, Vijay Kumar, Pankaj Tripathi, Mayur More, Ishtiyak Khan || India || 2017 \n",
      "\n",
      "Movie || Coffee with D || Vishal Mishra || Sunil Grover, Zakir Hussain, Anjana Sukhani, Dipannita Sharma, Pankaj Tripathi, Rajesh Sharma, Vinod Ramani, Guru Singh || India || 2017 \n",
      "\n",
      "Movie || Mango Dreams || John Upchurch || Ram Gopal Bajaj, Pankaj Tripathi, Sameer Kochhar || United States || 2016 \n",
      "\n",
      "Movie || Phamous || Karan Lalit Butani || Jimmy Shergill, Kay Kay Menon, Jackie Shroff, Shriya Saran, Pankaj Tripathi, Mahie Gill, Jameel Khan, Deep Raj Rana || Not Available || 2018 \n",
      "\n",
      "TV Show || Powder || Not Available || Manish Chaudhary, Pankaj Tripathi, Geetika Tyagi, Rahul Bagga || India || 2010 \n",
      "\n"
     ]
    }
   ],
   "source": [
    "for index,row in df_netflix.iterrows():\n",
    "    if 'Pankaj Tripathi' in row['cast']:\n",
    "        print(row['type'],'||',row['title'],'||',row['director'],'||',row['cast'],'||',row['country'],'||',row['release_year'],'\\n')"
   ]
  },
  {
   "cell_type": "markdown",
   "id": "9bfb042f",
   "metadata": {
    "papermill": {
     "duration": 0.033327,
     "end_time": "2024-06-26T14:52:15.731589",
     "exception": false,
     "start_time": "2024-06-26T14:52:15.698262",
     "status": "completed"
    },
    "tags": []
   },
   "source": [
    "### Nora Fatehi Shows On Netflix"
   ]
  },
  {
   "cell_type": "code",
   "execution_count": 57,
   "id": "919f912e",
   "metadata": {
    "execution": {
     "iopub.execute_input": "2024-06-26T14:52:15.800826Z",
     "iopub.status.busy": "2024-06-26T14:52:15.800359Z",
     "iopub.status.idle": "2024-06-26T14:52:16.365160Z",
     "shell.execute_reply": "2024-06-26T14:52:16.363953Z"
    },
    "papermill": {
     "duration": 0.602647,
     "end_time": "2024-06-26T14:52:16.368035",
     "exception": false,
     "start_time": "2024-06-26T14:52:15.765388",
     "status": "completed"
    },
    "tags": []
   },
   "outputs": [
    {
     "name": "stdout",
     "output_type": "stream",
     "text": [
      "Movie || My Birthday Song || Samir Soni || Sanjay Suri, Nora Fatehi, Zenia Starr, Suparna Krishna, Elena Kazan || India || 2018\n"
     ]
    }
   ],
   "source": [
    "for index,row in df_netflix.iterrows():\n",
    "    if 'Nora Fatehi' in row['cast']:\n",
    "        print(row['type'],'||',row['title'],'||',row['director'],'||',row['cast'],'||',row['country'],'||',row['release_year'])"
   ]
  },
  {
   "cell_type": "markdown",
   "id": "36dbd767",
   "metadata": {
    "papermill": {
     "duration": 0.033577,
     "end_time": "2024-06-26T14:52:16.435438",
     "exception": false,
     "start_time": "2024-06-26T14:52:16.401861",
     "status": "completed"
    },
    "tags": []
   },
   "source": [
    "### Esha Gupta Shows On Netflix"
   ]
  },
  {
   "cell_type": "code",
   "execution_count": 58,
   "id": "526951d4",
   "metadata": {
    "execution": {
     "iopub.execute_input": "2024-06-26T14:52:16.505249Z",
     "iopub.status.busy": "2024-06-26T14:52:16.504858Z",
     "iopub.status.idle": "2024-06-26T14:52:17.066167Z",
     "shell.execute_reply": "2024-06-26T14:52:17.064617Z"
    },
    "papermill": {
     "duration": 0.600038,
     "end_time": "2024-06-26T14:52:17.069310",
     "exception": false,
     "start_time": "2024-06-26T14:52:16.469272",
     "status": "completed"
    },
    "tags": []
   },
   "outputs": [
    {
     "name": "stdout",
     "output_type": "stream",
     "text": [
      "Movie || One Day: Justice Delivered || Ashok Nanda || Anupam Kher, Esha Gupta, Kumud Mishra, Kashyap Bharbhaya, Anusmiritu Sarkar, Zakir Hussain, Rajesh Sharma, Murli Sharma, Ananth Narayan Mahadevan, Deepshikha || India || 2019 \n",
      "\n",
      "Movie || Gori Tere Pyaar Mein || Punit Malhotra || Imran Khan, Kareena Kapoor, Nizhalgal Ravi, Anupam Kher, Shraddha Kapoor, Esha Gupta, Sujata Kumar, Neelu Kohli || India || 2013 \n",
      "\n",
      "Movie || Baadshaho || Milan Luthria || Ajay Devgn, Emraan Hashmi, Vidyut Jamwal, Ileana D'Cruz, Esha Gupta, Sanjay Mishra, Sunny Leone, Sharad Kelkar, Priyanshu Chatterjee, Denzil Smith || India || 2017 \n",
      "\n",
      "Movie || Rustom || Dharmendra Suresh Desai || Akshay Kumar, Ileana D'Cruz, Arjan Bajwa, Esha Gupta, Pavan Malhotra, Parmeet Sethi, Sachin Khedekar, Anang Desai, Kumud Mishra, Brijendra Kala, Usha Nadkarni, Kanwaljeet Singh || India || 2016 \n",
      "\n"
     ]
    }
   ],
   "source": [
    "for index,row in df_netflix.iterrows():\n",
    "    if 'Esha Gupta' in row['cast']:\n",
    "        print(row['type'],'||',row['title'],'||',row['director'],'||',row['cast'],'||',row['country'],'||',row['release_year'],'\\n')"
   ]
  },
  {
   "cell_type": "markdown",
   "id": "462a6a24",
   "metadata": {
    "papermill": {
     "duration": 0.032963,
     "end_time": "2024-06-26T14:52:17.137370",
     "exception": false,
     "start_time": "2024-06-26T14:52:17.104407",
     "status": "completed"
    },
    "tags": []
   },
   "source": [
    "### Rakul Preet Singh Shows On Netflix"
   ]
  },
  {
   "cell_type": "code",
   "execution_count": 59,
   "id": "084833fb",
   "metadata": {
    "execution": {
     "iopub.execute_input": "2024-06-26T14:52:17.205426Z",
     "iopub.status.busy": "2024-06-26T14:52:17.205030Z",
     "iopub.status.idle": "2024-06-26T14:52:17.779799Z",
     "shell.execute_reply": "2024-06-26T14:52:17.778769Z"
    },
    "papermill": {
     "duration": 0.612238,
     "end_time": "2024-06-26T14:52:17.782602",
     "exception": false,
     "start_time": "2024-06-26T14:52:17.170364",
     "status": "completed"
    },
    "tags": []
   },
   "outputs": [
    {
     "name": "stdout",
     "output_type": "stream",
     "text": [
      "Movie || Sardar Ka Grandson || Kaashvie Nair || Arjun Kapoor, Neena Gupta, Rakul Preet Singh, Kumud Mishra, Aditi Rao Hydari, John Abraham, Kanwaljeet Singh, Soni Razdan, Masood Akhtar, Divya Seth, Ravjeet Singh, Akashdeep Sabir || India || 2021 \n",
      "\n",
      "Movie || Shimla Mirchi || Ramesh Sippy || Rajkummar Rao, Tarun Wadhwa, Rakul Preet Singh, Kiran Juneja, Hema Malini, Kamlesh Gill, Shakti Kapoor, Kanwaljeet Singh || India || 2020 \n",
      "\n",
      "Movie || Manmadhudu 2 || Rahul Ravindran || Nagarjuna Akkineni, Rakul Preet Singh, Lakshmi, Rao Ramesh, Vennela Kishore, Jhansi, Devadarshini Chetan, Nishanti || India || 2019 \n",
      "\n",
      "Movie || Spyder || A.R. Murugadoss || Mahesh Babu, Rakul Preet Singh, S.J. Surya, Bharath Srinivasan, Priyadarshi Pullikonda, RJ Balaji || India || 2017 \n",
      "\n",
      "Movie || Aiyaary || Neeraj Pandey || Sidharth Malhotra, Manoj Bajpayee, Rakul Preet Singh, Pooja Chopra, Adil Hussain, Kumud Mishra, Naseeruddin Shah, Anupam Kher, Vikram Gokhale, Juhi Babbar || India || 2018 \n",
      "\n"
     ]
    }
   ],
   "source": [
    "for index,row in df_netflix.iterrows():\n",
    "    if 'Rakul Preet Singh' in row['cast']:\n",
    "        print(row['type'],'||',row['title'],'||',row['director'],'||',row['cast'],'||',row['country'],'||',row['release_year'],'\\n')"
   ]
  },
  {
   "cell_type": "markdown",
   "id": "6298dc46",
   "metadata": {
    "papermill": {
     "duration": 0.034346,
     "end_time": "2024-06-26T14:52:17.850833",
     "exception": false,
     "start_time": "2024-06-26T14:52:17.816487",
     "status": "completed"
    },
    "tags": []
   },
   "source": [
    "### Comedy Shows On Netflix In India"
   ]
  },
  {
   "cell_type": "code",
   "execution_count": 60,
   "id": "4ef4c6bc",
   "metadata": {
    "execution": {
     "iopub.execute_input": "2024-06-26T14:52:17.921054Z",
     "iopub.status.busy": "2024-06-26T14:52:17.920615Z",
     "iopub.status.idle": "2024-06-26T14:52:18.498997Z",
     "shell.execute_reply": "2024-06-26T14:52:18.497575Z"
    },
    "papermill": {
     "duration": 0.616585,
     "end_time": "2024-06-26T14:52:18.501871",
     "exception": false,
     "start_time": "2024-06-26T14:52:17.885286",
     "status": "completed"
    },
    "tags": []
   },
   "outputs": [
    {
     "name": "stdout",
     "output_type": "stream",
     "text": [
      "Movie || Vir Das: Outside In - The Lockdown Special || Vir Das || Vir Das || India || 2020 \n",
      "\n",
      "Movie || Kenny Sebastian: The Most Interesting Person in the Room || Angshuman Ghosh || Kenny Sebastian || India || 2020 \n",
      "\n",
      "Movie || Yours Sincerely, Kanan Gill || Neville Shah || Kanan Gill || India || 2020 \n",
      "\n",
      "TV Show || Ladies Up || Not Available || Prashasti Singh, Kaneez Surka, Niveditha Prakasam, Supriya Joshi || India || 2019 \n",
      "\n",
      "Movie || Amit Tandon: Family Tandoncies || Not Available || Amit Tandon || India || 2019 \n",
      "\n",
      "Movie || Vir Das: For India || Vir Das, Ajay Bhuyan || Vir Das || India || 2020 \n",
      "\n",
      "Movie || Aditi Mittal: Things They Wouldn't Let Me Say || Fazila Allana || Aditi Mittal || India || 2017 \n",
      "\n",
      "TV Show || Gangs of Hassepur || Not Available || Ragini Khanna, Mandira Bedi, Tanishaa Mukerji || India || 2014 \n",
      "\n",
      "TV Show || Midnight Misadventures With Mallika Dua || Not Available || Mallika Dua || India || 2018 \n",
      "\n"
     ]
    }
   ],
   "source": [
    "for index,row in df_netflix.iterrows():\n",
    "    if 'Comedy' in row['listed_in']:\n",
    "        if 'India' in row['country']:\n",
    "            print(row['type'],'||',row['title'],'||',row['director'],'||',row['cast'],'||',row['country'],'||',row['release_year'],'\\n')"
   ]
  },
  {
   "cell_type": "markdown",
   "id": "941cb3bc",
   "metadata": {
    "papermill": {
     "duration": 0.034034,
     "end_time": "2024-06-26T14:52:18.571269",
     "exception": false,
     "start_time": "2024-06-26T14:52:18.537235",
     "status": "completed"
    },
    "tags": []
   },
   "source": [
    "### Action Shows On Netflix In India Release In Year 2014"
   ]
  },
  {
   "cell_type": "code",
   "execution_count": 61,
   "id": "67c5feee",
   "metadata": {
    "execution": {
     "iopub.execute_input": "2024-06-26T14:52:18.642094Z",
     "iopub.status.busy": "2024-06-26T14:52:18.641631Z",
     "iopub.status.idle": "2024-06-26T14:52:19.214742Z",
     "shell.execute_reply": "2024-06-26T14:52:19.213316Z"
    },
    "papermill": {
     "duration": 0.611489,
     "end_time": "2024-06-26T14:52:19.217708",
     "exception": false,
     "start_time": "2024-06-26T14:52:18.606219",
     "status": "completed"
    },
    "tags": []
   },
   "outputs": [
    {
     "name": "stdout",
     "output_type": "stream",
     "text": [
      "Movie || Gollu Aur Pappu || Kabir Sadanand || Vir Das, Sandeepa Dhar, Dimple Kapadia, Kunaal Roy Kapur, Deepak Tijori || India || 2014 \n",
      "\n",
      "Movie || Anjaan || N. Linguswamy || Suriya, Samantha Ruth Prabhu, Vidyut Jammwal, Manoj Bajpayee, Soori || India || 2014 \n",
      "\n",
      "Movie || Naan Sigappu Manithan || Thiru || Vishal, Lakshmi Menon, Saranya Ponvannan, Jayaprakash, Sunder Ramu, Jagan, Iniya, Chetan Cheenu || India || 2014 \n",
      "\n",
      "Movie || Highway || Imtiaz Ali || Randeep Hooda, Alia Bhatt, Durgesh Kumar, Pradeep Nagar || India || 2014 \n",
      "\n",
      "Movie || Happy New Year || Farah Khan || Shah Rukh Khan, Deepika Padukone, Abhishek Bachchan, Sonu Sood, Boman Irani, Vivaan Shah || India || 2014 \n",
      "\n",
      "TV Show || Maharakshak: Aryan || Not Available || Aakarshan Singh, Vikramjeet Virk, Reena Aggarwal, Khalid Siddiqui, Abigail Jain, Rishabh Jain || India || 2014 \n",
      "\n",
      "Movie || Romeo Ranjha || Navaniat Singh || Jazzy B, Garry Sandhu, Monica Bedi, Parul Gulati, Rana Ranbir, Yograj Singh, Rana Jung Bahadur, Sanga Jagir || India, Canada || 2014 \n",
      "\n",
      "Movie || Tamanchey || Navneet Behal || Nikhil Dwivedi, Richa Chadha, Damandeep Singh Baggan, Vijay Pande, Talib Mehdi, Tushar Phulke, Mahesh Gupta, Prasad Labhe || India || 2014 \n",
      "\n"
     ]
    }
   ],
   "source": [
    "for index,row in df_netflix.iterrows():\n",
    "    if 'Action' in row['listed_in']:\n",
    "        if 'India' in row['country']:\n",
    "            if(row['release_year']==2014):\n",
    "                 print(row['type'],'||',row['title'],'||',row['director'],'||',row['cast'],'||',row['country'],'||',row['release_year'],'\\n')"
   ]
  },
  {
   "cell_type": "markdown",
   "id": "f2ff8ba7",
   "metadata": {
    "papermill": {
     "duration": 0.033895,
     "end_time": "2024-06-26T14:52:19.285901",
     "exception": false,
     "start_time": "2024-06-26T14:52:19.252006",
     "status": "completed"
    },
    "tags": []
   },
   "source": [
    "### Thriller Shows On Netflix In India Release In Year 2018 or 2019"
   ]
  },
  {
   "cell_type": "code",
   "execution_count": 62,
   "id": "6e082983",
   "metadata": {
    "execution": {
     "iopub.execute_input": "2024-06-26T14:52:19.357563Z",
     "iopub.status.busy": "2024-06-26T14:52:19.357126Z",
     "iopub.status.idle": "2024-06-26T14:52:19.946707Z",
     "shell.execute_reply": "2024-06-26T14:52:19.945540Z"
    },
    "papermill": {
     "duration": 0.62834,
     "end_time": "2024-06-26T14:52:19.949387",
     "exception": false,
     "start_time": "2024-06-26T14:52:19.321047",
     "status": "completed"
    },
    "tags": []
   },
   "outputs": [
    {
     "name": "stdout",
     "output_type": "stream",
     "text": [
      "Movie || Kolaiyuthir Kaalam || Chakri Toleti || Nayanthara, Bhoomika Chawla, Prem Kathir, Rohini Hattangadi, Pratap Pothen, Julian Freund || India || 2019 \n",
      "\n",
      "Movie || Bypass Road || Naman Nitin Mukesh || Neil Nitin Mukesh, Adah Sharma, Rajit Kapoor, Gul Panag, Shama Sikander, Manish Chaudhary, Sudhanshu Pandey, Taher Shabbir || India || 2019 \n",
      "\n",
      "Movie || The Body || Jeethu Joseph || Rishi Kapoor, Emraan Hashmi, Sobhita Dhulipala, Vedika, Anupam Bhattacharya, Chandan Anand, Arif Zakaria, Rukhsar Ahmed || India || 2019 \n",
      "\n",
      "Movie || Thambi || Jeethu Joseph || Jyothika, Sathyaraj, Karthi, Showkar Janaki, Nikhila Vimal, Havarasu, Anson Paul || India || 2019 \n",
      "\n",
      "Movie || Aaviri || Ravi Babu || Ravi Babu, Neha Chauhan, Sri Muktha, Bharani Shankar, Mukhtar Khan, Priya || India || 2019 \n",
      "\n",
      "Movie || Oththa Seruppu Size 7 || Parthiban || Parthiban || India || 2019 \n",
      "\n",
      "Movie || Article 15 || Anubhav Sinha || Ayushmann Khurrana, Nassar, Manoj Pahwa, Kumud Mishra, Isha Talwar, Sayani Gupta, Mohammed Zeeshan Ayyub, Subhrajyoti Barat, Sushil Pandey, Aakash Dabhade || India || 2019 \n",
      "\n",
      "Movie || Game Over (Tamil Version) || Ashwin Saravanan || Taapsee Pannu, Vinodhini, Parvathi T, Ramya Subramanian, Sanchana Natarajan, Anish Kuruvilla, David Solomon Raja || India, Turkey || 2019 \n",
      "\n",
      "Movie || Badla || Sujoy Ghosh || Amitabh Bachchan, Taapsee Pannu, Amrita Singh, Tony Luke, Manav Kaul || India || 2019 \n",
      "\n",
      "Movie || Romeo Akbar Walter || Robbie Grewal || John Abraham, Jackie Shroff, Mouni Roy, Sikander Kher, Raghuvir Yadav, Alka Amin, Rajesh Shringarpure, Anil George || India || 2019 \n",
      "\n"
     ]
    }
   ],
   "source": [
    "for index,row in df_netflix.iterrows():\n",
    "    if 'Thriller' in row['listed_in']:\n",
    "        if 'India' in row['country']:\n",
    "            if(row['release_year']==2018 | row['release_year']==2019):\n",
    "                print(row['type'],'||',row['title'],'||',row['director'],'||',row['cast'],'||',row['country'],'||',row['release_year'],'\\n')"
   ]
  },
  {
   "cell_type": "markdown",
   "id": "c3bc123a",
   "metadata": {
    "papermill": {
     "duration": 0.035057,
     "end_time": "2024-06-26T14:52:20.019286",
     "exception": false,
     "start_time": "2024-06-26T14:52:19.984229",
     "status": "completed"
    },
    "tags": []
   },
   "source": [
    "### Neeraj Pandey Movies On Netflix As Director"
   ]
  },
  {
   "cell_type": "code",
   "execution_count": 63,
   "id": "ff508b03",
   "metadata": {
    "execution": {
     "iopub.execute_input": "2024-06-26T14:52:20.092908Z",
     "iopub.status.busy": "2024-06-26T14:52:20.092481Z",
     "iopub.status.idle": "2024-06-26T14:52:20.687450Z",
     "shell.execute_reply": "2024-06-26T14:52:20.686291Z"
    },
    "papermill": {
     "duration": 0.634592,
     "end_time": "2024-06-26T14:52:20.690153",
     "exception": false,
     "start_time": "2024-06-26T14:52:20.055561",
     "status": "completed"
    },
    "tags": []
   },
   "outputs": [
    {
     "name": "stdout",
     "output_type": "stream",
     "text": [
      "Movie || Special 26 || Neeraj Pandey || Akshay Kumar, Manoj Bajpayee, Anupam Kher, Jimmy Shergill, Kajal Aggarwal, Divya Dutta, Kharaj Mukherjee, Rajesh Sharma, Kishore Kadam, Neeru Bajwa, Deep Raj Rana, Neetu Singh || India || 2013 \n",
      "\n",
      "Movie || Aiyaary || Neeraj Pandey || Sidharth Malhotra, Manoj Bajpayee, Rakul Preet Singh, Pooja Chopra, Adil Hussain, Kumud Mishra, Naseeruddin Shah, Anupam Kher, Vikram Gokhale, Juhi Babbar || India || 2018 \n",
      "\n",
      "Movie || A Wednesday || Neeraj Pandey || Anupam Kher, Naseeruddin Shah, Jimmy Shergill, Deepal Shaw, Aamir Bashir, Kali Prasad Mukherjee, Vijay Bhatia, Chetan Pandit || India || 2008 \n",
      "\n"
     ]
    }
   ],
   "source": [
    "for index,row in df_netflix.iterrows():\n",
    "    if 'Neeraj Pandey' in row['director']:\n",
    "        print(row['type'],'||',row['title'],'||',row['director'],'||',row['cast'],'||',row['country'],'||',row['release_year'],'\\n')"
   ]
  },
  {
   "cell_type": "markdown",
   "id": "902f0b25",
   "metadata": {
    "papermill": {
     "duration": 0.034738,
     "end_time": "2024-06-26T14:52:20.759595",
     "exception": false,
     "start_time": "2024-06-26T14:52:20.724857",
     "status": "completed"
    },
    "tags": []
   },
   "source": [
    "### Rohit Shetty Movies On Netflix As Director"
   ]
  },
  {
   "cell_type": "code",
   "execution_count": 64,
   "id": "5630263f",
   "metadata": {
    "execution": {
     "iopub.execute_input": "2024-06-26T14:52:20.830890Z",
     "iopub.status.busy": "2024-06-26T14:52:20.830391Z",
     "iopub.status.idle": "2024-06-26T14:52:21.404260Z",
     "shell.execute_reply": "2024-06-26T14:52:21.402972Z"
    },
    "papermill": {
     "duration": 0.612467,
     "end_time": "2024-06-26T14:52:21.407160",
     "exception": false,
     "start_time": "2024-06-26T14:52:20.794693",
     "status": "completed"
    },
    "tags": []
   },
   "outputs": [
    {
     "name": "stdout",
     "output_type": "stream",
     "text": [
      "Movie || Chennai Express || Rohit Shetty || Shah Rukh Khan, Deepika Padukone, Nikitin Dheer, Satyaraj, Kamini Kaushal, Lekh Tandon, Mukesh Tiwari || India || 2013 \n",
      "\n",
      "Movie || Singham || Rohit Shetty || Ajay Devgn, Kajal Aggarwal, Prakash Raj, Sonali Kulkarni, Sachin Khedekar, Sudhanshu Pandey, Anant Jog || India || 2011 \n",
      "\n",
      "Movie || Golmaal Returns || Rohit Shetty || Ajay Devgn, Kareena Kapoor, Arshad Warsi, Tusshar Kapoor, Shreyas Talpade, Celina Jaitly, Amrita Arora, Anjana Sukhani || India || 2008 \n",
      "\n",
      "Movie || Dilwale || Rohit Shetty || Shah Rukh Khan, Kajol, Kriti Sanon, Kabir Bedi, Varun Dhawan, Boman Irani, Johnny Lever, Varun Sharma, Sanjay Mishra, Vinod Khanna, Mukesh Tiwari, Pankaj Tripathi, Shawar Ali || India || 2015 \n",
      "\n",
      "Movie || Golmaal: Fun Unlimited || Rohit Shetty || Ajay Devgn, Tusshar Kapoor, Arshad Warsi, Sharman Joshi, Paresh Rawal, Rimi Sen, Sushmita Mukherjee, Vrajesh Hirjee || India || 2006 \n",
      "\n"
     ]
    }
   ],
   "source": [
    "for index,row in df_netflix.iterrows():\n",
    "    if 'Rohit Shetty' in row['director']:\n",
    "        print(row['type'],'||',row['title'],'||',row['director'],'||',row['cast'],'||',row['country'],'||',row['release_year'],'\\n')"
   ]
  },
  {
   "cell_type": "markdown",
   "id": "334ee967",
   "metadata": {
    "papermill": {
     "duration": 0.034668,
     "end_time": "2024-06-26T14:52:21.476713",
     "exception": false,
     "start_time": "2024-06-26T14:52:21.442045",
     "status": "completed"
    },
    "tags": []
   },
   "source": [
    "### Priyadarshan Movies On Netflix As Director"
   ]
  },
  {
   "cell_type": "code",
   "execution_count": 65,
   "id": "8b1d8b78",
   "metadata": {
    "execution": {
     "iopub.execute_input": "2024-06-26T14:52:21.550044Z",
     "iopub.status.busy": "2024-06-26T14:52:21.549596Z",
     "iopub.status.idle": "2024-06-26T14:52:22.114885Z",
     "shell.execute_reply": "2024-06-26T14:52:22.113533Z"
    },
    "papermill": {
     "duration": 0.605682,
     "end_time": "2024-06-26T14:52:22.117669",
     "exception": false,
     "start_time": "2024-06-26T14:52:21.511987",
     "status": "completed"
    },
    "tags": []
   },
   "outputs": [
    {
     "name": "stdout",
     "output_type": "stream",
     "text": [
      "TV Show || Navarasa || Bejoy Nambiar, Priyadarshan, Karthik Narain, Vasanth Sai, Karthik Subbaraj, Arvind Swamy, Rathindran R Prasad, Sarjun, Gautham Vasudev Menon || Suriya, Vijay Sethupathi, Revathy, Prakash Raj, Siddarth, Parvathy, Delhi Ganesh, Gautham Vasudev Menon, Anjali, Yogi Babu, Aditi Balan, Remya Nambeesan, Poorna, Prayaga Martin, Rythvika Suriya, Arvind Swamy, Prasanna, Atharva, Bobby Simha, Ashok Selvan, Nedumudi Venu, Kishore || India || 2021 \n",
      "\n",
      "Movie || Chup Chup Ke || Priyadarshan, Kookie V. Gulati || Shahid Kapoor, Kareena Kapoor, Om Puri, Neha Dhupia, Sunil Shetty, Paresh Rawal, Rajpal Yadav, Shakti Kapoor || India || 2006 \n",
      "\n",
      "Movie || Sometimes || Priyadarshan || Prakash Raj, Shreya Reddy, Ashok Selvan || India || 2016 \n",
      "\n",
      "Movie || Billu || Priyadarshan || Irrfan Khan, Shah Rukh Khan, Lara Dutta, Rajpal Yadav, Om Puri, Asrani, Manoj Joshi || India || 2009 \n",
      "\n",
      "Movie || Bhagam Bhag || Priyadarshan || Akshay Kumar, Govinda, Lara Dutta, Paresh Rawal, Rajpal Yadav, Jackie Shroff, Arbaaz Khan, Tanushree Dutta, Asrani, Shakti Kapoor || India || 2006 \n",
      "\n",
      "Movie || Bhool Bhulaiyaa || Priyadarshan || Akshay Kumar, Vidya Balan, Ameesha Patel, Shiney Ahuja, Paresh Rawal, Rajpal Yadav, Manoj Joshi, Asrani, Vikram Gokhale, Rasika Joshi || India || 2007 \n",
      "\n",
      "Movie || Tezz || Priyadarshan || Anil Kapoor, Ajay Devgn, Boman Irani, Kangna Ranaut, Zayed Khan, Mallika Sherawat, Avika Gor, Dominic Power, Sameera Reddy, Mohanlal || United Kingdom, India || 2012 \n",
      "\n"
     ]
    }
   ],
   "source": [
    "for index,row in df_netflix.iterrows():\n",
    "    if 'Priyadarshan' in row['director']:\n",
    "        print(row['type'],'||',row['title'],'||',row['director'],'||',row['cast'],'||',row['country'],'||',row['release_year'],'\\n')"
   ]
  },
  {
   "cell_type": "markdown",
   "id": "af165d34",
   "metadata": {
    "papermill": {
     "duration": 0.034732,
     "end_time": "2024-06-26T14:52:22.187910",
     "exception": false,
     "start_time": "2024-06-26T14:52:22.153178",
     "status": "completed"
    },
    "tags": []
   },
   "source": [
    "## Thanks And Regards\n",
    "### Anubhav Kumar Gupta"
   ]
  }
 ],
 "metadata": {
  "kaggle": {
   "accelerator": "none",
   "dataSources": [
    {
     "datasetId": 434238,
     "sourceId": 2654038,
     "sourceType": "datasetVersion"
    }
   ],
   "dockerImageVersionId": 30732,
   "isGpuEnabled": false,
   "isInternetEnabled": true,
   "language": "python",
   "sourceType": "notebook"
  },
  "kernelspec": {
   "display_name": "Python 3",
   "language": "python",
   "name": "python3"
  },
  "language_info": {
   "codemirror_mode": {
    "name": "ipython",
    "version": 3
   },
   "file_extension": ".py",
   "mimetype": "text/x-python",
   "name": "python",
   "nbconvert_exporter": "python",
   "pygments_lexer": "ipython3",
   "version": "3.10.13"
  },
  "papermill": {
   "default_parameters": {},
   "duration": 21.958813,
   "end_time": "2024-06-26T14:52:22.845205",
   "environment_variables": {},
   "exception": null,
   "input_path": "__notebook__.ipynb",
   "output_path": "__notebook__.ipynb",
   "parameters": {},
   "start_time": "2024-06-26T14:52:00.886392",
   "version": "2.5.0"
  },
  "toc-autonumbering": false,
  "toc-showcode": true,
  "toc-showmarkdowntxt": false
 },
 "nbformat": 4,
 "nbformat_minor": 5
}
